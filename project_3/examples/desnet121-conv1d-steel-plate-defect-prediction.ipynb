{
 "cells": [
  {
   "cell_type": "code",
   "execution_count": 1,
   "id": "40998a0a",
   "metadata": {
    "_cell_guid": "b1076dfc-b9ad-4769-8c92-a6c4dae69d19",
    "_uuid": "8f2839f25d086af736a60e9eeb907d3b93b6e0e5",
    "execution": {
     "iopub.execute_input": "2024-03-17T15:38:55.979678Z",
     "iopub.status.busy": "2024-03-17T15:38:55.979300Z",
     "iopub.status.idle": "2024-03-17T15:38:56.700134Z",
     "shell.execute_reply": "2024-03-17T15:38:56.699138Z"
    },
    "papermill": {
     "duration": 0.735792,
     "end_time": "2024-03-17T15:38:56.702558",
     "exception": false,
     "start_time": "2024-03-17T15:38:55.966766",
     "status": "completed"
    },
    "tags": []
   },
   "outputs": [
    {
     "name": "stdout",
     "output_type": "stream",
     "text": [
      "/kaggle/input/faulty-steel-plates/faults.csv\n",
      "/kaggle/input/playground-series-s4e3/sample_submission.csv\n",
      "/kaggle/input/playground-series-s4e3/train.csv\n",
      "/kaggle/input/playground-series-s4e3/test.csv\n"
     ]
    }
   ],
   "source": [
    "# This Python 3 environment comes with many helpful analytics libraries installed\n",
    "# It is defined by the kaggle/python Docker image: https://github.com/kaggle/docker-python\n",
    "# For example, here's several helpful packages to load\n",
    "\n",
    "import numpy as np # linear algebra\n",
    "import pandas as pd # data processing, CSV file I/O (e.g. pd.read_csv)\n",
    "\n",
    "# Input data files are available in the read-only \"../input/\" directory\n",
    "# For example, running this (by clicking run or pressing Shift+Enter) will list all files under the input directory\n",
    "\n",
    "import os\n",
    "for dirname, _, filenames in os.walk('/kaggle/input'):\n",
    "    for filename in filenames:\n",
    "        print(os.path.join(dirname, filename))\n",
    "\n",
    "# You can write up to 20GB to the current directory (/kaggle/working/) that gets preserved as output when you create a version using \"Save & Run All\" \n",
    "# You can also write temporary files to /kaggle/temp/, but they won't be saved outside of the current session"
   ]
  },
  {
   "cell_type": "code",
   "execution_count": 2,
   "id": "331f934d",
   "metadata": {
    "execution": {
     "iopub.execute_input": "2024-03-17T15:38:56.725693Z",
     "iopub.status.busy": "2024-03-17T15:38:56.725271Z",
     "iopub.status.idle": "2024-03-17T15:39:10.254374Z",
     "shell.execute_reply": "2024-03-17T15:39:10.253420Z"
    },
    "papermill": {
     "duration": 13.542894,
     "end_time": "2024-03-17T15:39:10.256815",
     "exception": false,
     "start_time": "2024-03-17T15:38:56.713921",
     "status": "completed"
    },
    "tags": []
   },
   "outputs": [
    {
     "name": "stdout",
     "output_type": "stream",
     "text": [
      "Collecting livelossplot\r\n",
      "  Obtaining dependency information for livelossplot from https://files.pythonhosted.org/packages/e3/fd/07864f0fdb2d279d2b777fd6ac1ce6e31d19b23b7bc9807145b076d49f2b/livelossplot-0.5.5-py3-none-any.whl.metadata\r\n",
      "  Downloading livelossplot-0.5.5-py3-none-any.whl.metadata (8.7 kB)\r\n",
      "Requirement already satisfied: matplotlib in /opt/conda/lib/python3.10/site-packages (from livelossplot) (3.7.4)\r\n",
      "Requirement already satisfied: bokeh in /opt/conda/lib/python3.10/site-packages (from livelossplot) (3.3.2)\r\n",
      "Requirement already satisfied: Jinja2>=2.9 in /opt/conda/lib/python3.10/site-packages (from bokeh->livelossplot) (3.1.2)\r\n",
      "Requirement already satisfied: contourpy>=1 in /opt/conda/lib/python3.10/site-packages (from bokeh->livelossplot) (1.1.0)\r\n",
      "Requirement already satisfied: numpy>=1.16 in /opt/conda/lib/python3.10/site-packages (from bokeh->livelossplot) (1.24.3)\r\n",
      "Requirement already satisfied: packaging>=16.8 in /opt/conda/lib/python3.10/site-packages (from bokeh->livelossplot) (21.3)\r\n",
      "Requirement already satisfied: pandas>=1.2 in /opt/conda/lib/python3.10/site-packages (from bokeh->livelossplot) (2.0.3)\r\n",
      "Requirement already satisfied: pillow>=7.1.0 in /opt/conda/lib/python3.10/site-packages (from bokeh->livelossplot) (10.1.0)\r\n",
      "Requirement already satisfied: PyYAML>=3.10 in /opt/conda/lib/python3.10/site-packages (from bokeh->livelossplot) (6.0.1)\r\n",
      "Requirement already satisfied: tornado>=5.1 in /opt/conda/lib/python3.10/site-packages (from bokeh->livelossplot) (6.3.3)\r\n",
      "Requirement already satisfied: xyzservices>=2021.09.1 in /opt/conda/lib/python3.10/site-packages (from bokeh->livelossplot) (2023.10.1)\r\n",
      "Requirement already satisfied: cycler>=0.10 in /opt/conda/lib/python3.10/site-packages (from matplotlib->livelossplot) (0.11.0)\r\n",
      "Requirement already satisfied: fonttools>=4.22.0 in /opt/conda/lib/python3.10/site-packages (from matplotlib->livelossplot) (4.42.1)\r\n",
      "Requirement already satisfied: kiwisolver>=1.0.1 in /opt/conda/lib/python3.10/site-packages (from matplotlib->livelossplot) (1.4.4)\r\n",
      "Requirement already satisfied: pyparsing>=2.3.1 in /opt/conda/lib/python3.10/site-packages (from matplotlib->livelossplot) (3.0.9)\r\n",
      "Requirement already satisfied: python-dateutil>=2.7 in /opt/conda/lib/python3.10/site-packages (from matplotlib->livelossplot) (2.8.2)\r\n",
      "Requirement already satisfied: MarkupSafe>=2.0 in /opt/conda/lib/python3.10/site-packages (from Jinja2>=2.9->bokeh->livelossplot) (2.1.3)\r\n",
      "Requirement already satisfied: pytz>=2020.1 in /opt/conda/lib/python3.10/site-packages (from pandas>=1.2->bokeh->livelossplot) (2023.3)\r\n",
      "Requirement already satisfied: tzdata>=2022.1 in /opt/conda/lib/python3.10/site-packages (from pandas>=1.2->bokeh->livelossplot) (2023.3)\r\n",
      "Requirement already satisfied: six>=1.5 in /opt/conda/lib/python3.10/site-packages (from python-dateutil>=2.7->matplotlib->livelossplot) (1.16.0)\r\n",
      "Downloading livelossplot-0.5.5-py3-none-any.whl (22 kB)\r\n",
      "Installing collected packages: livelossplot\r\n",
      "Successfully installed livelossplot-0.5.5\r\n"
     ]
    }
   ],
   "source": [
    "!pip install livelossplot"
   ]
  },
  {
   "cell_type": "code",
   "execution_count": 3,
   "id": "dd424158",
   "metadata": {
    "execution": {
     "iopub.execute_input": "2024-03-17T15:39:10.281273Z",
     "iopub.status.busy": "2024-03-17T15:39:10.280941Z",
     "iopub.status.idle": "2024-03-17T15:39:10.492736Z",
     "shell.execute_reply": "2024-03-17T15:39:10.491865Z"
    },
    "papermill": {
     "duration": 0.22663,
     "end_time": "2024-03-17T15:39:10.495122",
     "exception": false,
     "start_time": "2024-03-17T15:39:10.268492",
     "status": "completed"
    },
    "tags": []
   },
   "outputs": [],
   "source": [
    "train_data = pd.read_csv('/kaggle/input/playground-series-s4e3/train.csv')\n",
    "#original_data = pd.read_csv('/kaggle/input/faulty-steel-plates/faults.csv')\n",
    "\n",
    "test_data=pd.read_csv(\"/kaggle/input/playground-series-s4e3/test.csv\")\n"
   ]
  },
  {
   "cell_type": "code",
   "execution_count": 4,
   "id": "b051f206",
   "metadata": {
    "execution": {
     "iopub.execute_input": "2024-03-17T15:39:10.519784Z",
     "iopub.status.busy": "2024-03-17T15:39:10.519049Z",
     "iopub.status.idle": "2024-03-17T15:39:10.536672Z",
     "shell.execute_reply": "2024-03-17T15:39:10.535769Z"
    },
    "papermill": {
     "duration": 0.032058,
     "end_time": "2024-03-17T15:39:10.538789",
     "exception": false,
     "start_time": "2024-03-17T15:39:10.506731",
     "status": "completed"
    },
    "tags": []
   },
   "outputs": [],
   "source": [
    "id_test=test_data[\"id\"]\n",
    "test_data=test_data.drop(\"id\",axis=1)"
   ]
  },
  {
   "cell_type": "code",
   "execution_count": 5,
   "id": "acbc957a",
   "metadata": {
    "execution": {
     "iopub.execute_input": "2024-03-17T15:39:10.563030Z",
     "iopub.status.busy": "2024-03-17T15:39:10.562748Z",
     "iopub.status.idle": "2024-03-17T15:39:10.569316Z",
     "shell.execute_reply": "2024-03-17T15:39:10.568653Z"
    },
    "papermill": {
     "duration": 0.021074,
     "end_time": "2024-03-17T15:39:10.571161",
     "exception": false,
     "start_time": "2024-03-17T15:39:10.550087",
     "status": "completed"
    },
    "tags": []
   },
   "outputs": [],
   "source": [
    "#df = pd.concat([train_data, original_data],\n",
    "#                axis=0, sort=False, ignore_index=True)\n",
    "df=train_data.copy()"
   ]
  },
  {
   "cell_type": "code",
   "execution_count": 6,
   "id": "46e0171e",
   "metadata": {
    "execution": {
     "iopub.execute_input": "2024-03-17T15:39:10.597796Z",
     "iopub.status.busy": "2024-03-17T15:39:10.596669Z",
     "iopub.status.idle": "2024-03-17T15:39:10.605051Z",
     "shell.execute_reply": "2024-03-17T15:39:10.604222Z"
    },
    "papermill": {
     "duration": 0.02461,
     "end_time": "2024-03-17T15:39:10.606927",
     "exception": false,
     "start_time": "2024-03-17T15:39:10.582317",
     "status": "completed"
    },
    "tags": []
   },
   "outputs": [],
   "source": [
    "df.drop(\"id\",axis=1,inplace=True)"
   ]
  },
  {
   "cell_type": "markdown",
   "id": "f49b1033",
   "metadata": {
    "papermill": {
     "duration": 0.010855,
     "end_time": "2024-03-17T15:39:10.628845",
     "exception": false,
     "start_time": "2024-03-17T15:39:10.617990",
     "status": "completed"
    },
    "tags": []
   },
   "source": []
  },
  {
   "cell_type": "code",
   "execution_count": 7,
   "id": "689e1b8a",
   "metadata": {
    "execution": {
     "iopub.execute_input": "2024-03-17T15:39:10.652434Z",
     "iopub.status.busy": "2024-03-17T15:39:10.651717Z",
     "iopub.status.idle": "2024-03-17T15:39:10.681527Z",
     "shell.execute_reply": "2024-03-17T15:39:10.680575Z"
    },
    "papermill": {
     "duration": 0.043785,
     "end_time": "2024-03-17T15:39:10.683523",
     "exception": false,
     "start_time": "2024-03-17T15:39:10.639738",
     "status": "completed"
    },
    "tags": []
   },
   "outputs": [
    {
     "data": {
      "text/plain": [
       "0"
      ]
     },
     "execution_count": 7,
     "metadata": {},
     "output_type": "execute_result"
    }
   ],
   "source": [
    "df.duplicated().sum()"
   ]
  },
  {
   "cell_type": "code",
   "execution_count": 8,
   "id": "2568a8a3",
   "metadata": {
    "execution": {
     "iopub.execute_input": "2024-03-17T15:39:10.714500Z",
     "iopub.status.busy": "2024-03-17T15:39:10.714047Z",
     "iopub.status.idle": "2024-03-17T15:39:10.740744Z",
     "shell.execute_reply": "2024-03-17T15:39:10.739778Z"
    },
    "papermill": {
     "duration": 0.04498,
     "end_time": "2024-03-17T15:39:10.742948",
     "exception": false,
     "start_time": "2024-03-17T15:39:10.697968",
     "status": "completed"
    },
    "tags": []
   },
   "outputs": [
    {
     "data": {
      "text/html": [
       "<div>\n",
       "<style scoped>\n",
       "    .dataframe tbody tr th:only-of-type {\n",
       "        vertical-align: middle;\n",
       "    }\n",
       "\n",
       "    .dataframe tbody tr th {\n",
       "        vertical-align: top;\n",
       "    }\n",
       "\n",
       "    .dataframe thead th {\n",
       "        text-align: right;\n",
       "    }\n",
       "</style>\n",
       "<table border=\"1\" class=\"dataframe\">\n",
       "  <thead>\n",
       "    <tr style=\"text-align: right;\">\n",
       "      <th></th>\n",
       "      <th>X_Minimum</th>\n",
       "      <th>X_Maximum</th>\n",
       "      <th>Y_Minimum</th>\n",
       "      <th>Y_Maximum</th>\n",
       "      <th>Pixels_Areas</th>\n",
       "      <th>X_Perimeter</th>\n",
       "      <th>Y_Perimeter</th>\n",
       "      <th>Sum_of_Luminosity</th>\n",
       "      <th>Minimum_of_Luminosity</th>\n",
       "      <th>Maximum_of_Luminosity</th>\n",
       "      <th>...</th>\n",
       "      <th>Orientation_Index</th>\n",
       "      <th>Luminosity_Index</th>\n",
       "      <th>SigmoidOfAreas</th>\n",
       "      <th>Pastry</th>\n",
       "      <th>Z_Scratch</th>\n",
       "      <th>K_Scatch</th>\n",
       "      <th>Stains</th>\n",
       "      <th>Dirtiness</th>\n",
       "      <th>Bumps</th>\n",
       "      <th>Other_Faults</th>\n",
       "    </tr>\n",
       "  </thead>\n",
       "  <tbody>\n",
       "    <tr>\n",
       "      <th>0</th>\n",
       "      <td>584</td>\n",
       "      <td>590</td>\n",
       "      <td>909972</td>\n",
       "      <td>909977</td>\n",
       "      <td>16</td>\n",
       "      <td>8</td>\n",
       "      <td>5</td>\n",
       "      <td>2274</td>\n",
       "      <td>113</td>\n",
       "      <td>140</td>\n",
       "      <td>...</td>\n",
       "      <td>-0.5000</td>\n",
       "      <td>-0.0104</td>\n",
       "      <td>0.1417</td>\n",
       "      <td>0</td>\n",
       "      <td>0</td>\n",
       "      <td>0</td>\n",
       "      <td>1</td>\n",
       "      <td>0</td>\n",
       "      <td>0</td>\n",
       "      <td>0</td>\n",
       "    </tr>\n",
       "    <tr>\n",
       "      <th>1</th>\n",
       "      <td>808</td>\n",
       "      <td>816</td>\n",
       "      <td>728350</td>\n",
       "      <td>728372</td>\n",
       "      <td>433</td>\n",
       "      <td>20</td>\n",
       "      <td>54</td>\n",
       "      <td>44478</td>\n",
       "      <td>70</td>\n",
       "      <td>111</td>\n",
       "      <td>...</td>\n",
       "      <td>0.7419</td>\n",
       "      <td>-0.2997</td>\n",
       "      <td>0.9491</td>\n",
       "      <td>0</td>\n",
       "      <td>0</td>\n",
       "      <td>0</td>\n",
       "      <td>0</td>\n",
       "      <td>0</td>\n",
       "      <td>0</td>\n",
       "      <td>1</td>\n",
       "    </tr>\n",
       "    <tr>\n",
       "      <th>2</th>\n",
       "      <td>39</td>\n",
       "      <td>192</td>\n",
       "      <td>2212076</td>\n",
       "      <td>2212144</td>\n",
       "      <td>11388</td>\n",
       "      <td>705</td>\n",
       "      <td>420</td>\n",
       "      <td>1311391</td>\n",
       "      <td>29</td>\n",
       "      <td>141</td>\n",
       "      <td>...</td>\n",
       "      <td>-0.0105</td>\n",
       "      <td>-0.0944</td>\n",
       "      <td>1.0000</td>\n",
       "      <td>0</td>\n",
       "      <td>0</td>\n",
       "      <td>1</td>\n",
       "      <td>0</td>\n",
       "      <td>0</td>\n",
       "      <td>0</td>\n",
       "      <td>0</td>\n",
       "    </tr>\n",
       "    <tr>\n",
       "      <th>3</th>\n",
       "      <td>781</td>\n",
       "      <td>789</td>\n",
       "      <td>3353146</td>\n",
       "      <td>3353173</td>\n",
       "      <td>210</td>\n",
       "      <td>16</td>\n",
       "      <td>29</td>\n",
       "      <td>3202</td>\n",
       "      <td>114</td>\n",
       "      <td>134</td>\n",
       "      <td>...</td>\n",
       "      <td>0.6667</td>\n",
       "      <td>-0.0402</td>\n",
       "      <td>0.4025</td>\n",
       "      <td>0</td>\n",
       "      <td>0</td>\n",
       "      <td>1</td>\n",
       "      <td>0</td>\n",
       "      <td>0</td>\n",
       "      <td>0</td>\n",
       "      <td>0</td>\n",
       "    </tr>\n",
       "    <tr>\n",
       "      <th>4</th>\n",
       "      <td>1540</td>\n",
       "      <td>1560</td>\n",
       "      <td>618457</td>\n",
       "      <td>618502</td>\n",
       "      <td>521</td>\n",
       "      <td>72</td>\n",
       "      <td>67</td>\n",
       "      <td>48231</td>\n",
       "      <td>82</td>\n",
       "      <td>111</td>\n",
       "      <td>...</td>\n",
       "      <td>0.9158</td>\n",
       "      <td>-0.2455</td>\n",
       "      <td>0.9998</td>\n",
       "      <td>0</td>\n",
       "      <td>0</td>\n",
       "      <td>0</td>\n",
       "      <td>0</td>\n",
       "      <td>0</td>\n",
       "      <td>0</td>\n",
       "      <td>1</td>\n",
       "    </tr>\n",
       "  </tbody>\n",
       "</table>\n",
       "<p>5 rows × 34 columns</p>\n",
       "</div>"
      ],
      "text/plain": [
       "   X_Minimum  X_Maximum  Y_Minimum  Y_Maximum  Pixels_Areas  X_Perimeter  \\\n",
       "0        584        590     909972     909977            16            8   \n",
       "1        808        816     728350     728372           433           20   \n",
       "2         39        192    2212076    2212144         11388          705   \n",
       "3        781        789    3353146    3353173           210           16   \n",
       "4       1540       1560     618457     618502           521           72   \n",
       "\n",
       "   Y_Perimeter  Sum_of_Luminosity  Minimum_of_Luminosity  \\\n",
       "0            5               2274                    113   \n",
       "1           54              44478                     70   \n",
       "2          420            1311391                     29   \n",
       "3           29               3202                    114   \n",
       "4           67              48231                     82   \n",
       "\n",
       "   Maximum_of_Luminosity  ...  Orientation_Index  Luminosity_Index  \\\n",
       "0                    140  ...            -0.5000           -0.0104   \n",
       "1                    111  ...             0.7419           -0.2997   \n",
       "2                    141  ...            -0.0105           -0.0944   \n",
       "3                    134  ...             0.6667           -0.0402   \n",
       "4                    111  ...             0.9158           -0.2455   \n",
       "\n",
       "   SigmoidOfAreas  Pastry  Z_Scratch  K_Scatch  Stains  Dirtiness  Bumps  \\\n",
       "0          0.1417       0          0         0       1          0      0   \n",
       "1          0.9491       0          0         0       0          0      0   \n",
       "2          1.0000       0          0         1       0          0      0   \n",
       "3          0.4025       0          0         1       0          0      0   \n",
       "4          0.9998       0          0         0       0          0      0   \n",
       "\n",
       "   Other_Faults  \n",
       "0             0  \n",
       "1             1  \n",
       "2             0  \n",
       "3             0  \n",
       "4             1  \n",
       "\n",
       "[5 rows x 34 columns]"
      ]
     },
     "execution_count": 8,
     "metadata": {},
     "output_type": "execute_result"
    }
   ],
   "source": [
    "df.head()\n"
   ]
  },
  {
   "cell_type": "code",
   "execution_count": 9,
   "id": "62b963e4",
   "metadata": {
    "execution": {
     "iopub.execute_input": "2024-03-17T15:39:10.772769Z",
     "iopub.status.busy": "2024-03-17T15:39:10.771746Z",
     "iopub.status.idle": "2024-03-17T15:39:10.776409Z",
     "shell.execute_reply": "2024-03-17T15:39:10.775696Z"
    },
    "papermill": {
     "duration": 0.019803,
     "end_time": "2024-03-17T15:39:10.778534",
     "exception": false,
     "start_time": "2024-03-17T15:39:10.758731",
     "status": "completed"
    },
    "tags": []
   },
   "outputs": [],
   "source": [
    "label_cols = ['Pastry','Z_Scratch','K_Scatch','Stains','Dirtiness','Bumps','Other_Faults']"
   ]
  },
  {
   "cell_type": "code",
   "execution_count": 10,
   "id": "d28bb8c5",
   "metadata": {
    "execution": {
     "iopub.execute_input": "2024-03-17T15:39:10.803696Z",
     "iopub.status.busy": "2024-03-17T15:39:10.802959Z",
     "iopub.status.idle": "2024-03-17T15:39:10.809559Z",
     "shell.execute_reply": "2024-03-17T15:39:10.808741Z"
    },
    "papermill": {
     "duration": 0.021127,
     "end_time": "2024-03-17T15:39:10.811413",
     "exception": false,
     "start_time": "2024-03-17T15:39:10.790286",
     "status": "completed"
    },
    "tags": []
   },
   "outputs": [],
   "source": [
    "X = df.drop(label_cols,axis=1)\n",
    "y = df[label_cols]"
   ]
  },
  {
   "cell_type": "code",
   "execution_count": 11,
   "id": "6bad084a",
   "metadata": {
    "execution": {
     "iopub.execute_input": "2024-03-17T15:39:10.836110Z",
     "iopub.status.busy": "2024-03-17T15:39:10.835425Z",
     "iopub.status.idle": "2024-03-17T15:39:10.841094Z",
     "shell.execute_reply": "2024-03-17T15:39:10.840275Z"
    },
    "papermill": {
     "duration": 0.020042,
     "end_time": "2024-03-17T15:39:10.842928",
     "exception": false,
     "start_time": "2024-03-17T15:39:10.822886",
     "status": "completed"
    },
    "tags": []
   },
   "outputs": [
    {
     "data": {
      "text/plain": [
       "(19219, 27)"
      ]
     },
     "execution_count": 11,
     "metadata": {},
     "output_type": "execute_result"
    }
   ],
   "source": [
    "X.shape"
   ]
  },
  {
   "cell_type": "code",
   "execution_count": 12,
   "id": "4f37c93d",
   "metadata": {
    "execution": {
     "iopub.execute_input": "2024-03-17T15:39:10.868690Z",
     "iopub.status.busy": "2024-03-17T15:39:10.867882Z",
     "iopub.status.idle": "2024-03-17T15:39:10.873831Z",
     "shell.execute_reply": "2024-03-17T15:39:10.873015Z"
    },
    "papermill": {
     "duration": 0.020798,
     "end_time": "2024-03-17T15:39:10.875671",
     "exception": false,
     "start_time": "2024-03-17T15:39:10.854873",
     "status": "completed"
    },
    "tags": []
   },
   "outputs": [
    {
     "data": {
      "text/plain": [
       "(19219, 7)"
      ]
     },
     "execution_count": 12,
     "metadata": {},
     "output_type": "execute_result"
    }
   ],
   "source": [
    "y.shape"
   ]
  },
  {
   "cell_type": "code",
   "execution_count": 13,
   "id": "fe7c42a3",
   "metadata": {
    "execution": {
     "iopub.execute_input": "2024-03-17T15:39:10.901246Z",
     "iopub.status.busy": "2024-03-17T15:39:10.900693Z",
     "iopub.status.idle": "2024-03-17T15:39:10.917679Z",
     "shell.execute_reply": "2024-03-17T15:39:10.916671Z"
    },
    "papermill": {
     "duration": 0.032336,
     "end_time": "2024-03-17T15:39:10.919888",
     "exception": false,
     "start_time": "2024-03-17T15:39:10.887552",
     "status": "completed"
    },
    "tags": []
   },
   "outputs": [
    {
     "name": "stdout",
     "output_type": "stream",
     "text": [
      "<class 'pandas.core.frame.DataFrame'>\n",
      "RangeIndex: 19219 entries, 0 to 19218\n",
      "Data columns (total 27 columns):\n",
      " #   Column                 Non-Null Count  Dtype  \n",
      "---  ------                 --------------  -----  \n",
      " 0   X_Minimum              19219 non-null  int64  \n",
      " 1   X_Maximum              19219 non-null  int64  \n",
      " 2   Y_Minimum              19219 non-null  int64  \n",
      " 3   Y_Maximum              19219 non-null  int64  \n",
      " 4   Pixels_Areas           19219 non-null  int64  \n",
      " 5   X_Perimeter            19219 non-null  int64  \n",
      " 6   Y_Perimeter            19219 non-null  int64  \n",
      " 7   Sum_of_Luminosity      19219 non-null  int64  \n",
      " 8   Minimum_of_Luminosity  19219 non-null  int64  \n",
      " 9   Maximum_of_Luminosity  19219 non-null  int64  \n",
      " 10  Length_of_Conveyer     19219 non-null  int64  \n",
      " 11  TypeOfSteel_A300       19219 non-null  int64  \n",
      " 12  TypeOfSteel_A400       19219 non-null  int64  \n",
      " 13  Steel_Plate_Thickness  19219 non-null  int64  \n",
      " 14  Edges_Index            19219 non-null  float64\n",
      " 15  Empty_Index            19219 non-null  float64\n",
      " 16  Square_Index           19219 non-null  float64\n",
      " 17  Outside_X_Index        19219 non-null  float64\n",
      " 18  Edges_X_Index          19219 non-null  float64\n",
      " 19  Edges_Y_Index          19219 non-null  float64\n",
      " 20  Outside_Global_Index   19219 non-null  float64\n",
      " 21  LogOfAreas             19219 non-null  float64\n",
      " 22  Log_X_Index            19219 non-null  float64\n",
      " 23  Log_Y_Index            19219 non-null  float64\n",
      " 24  Orientation_Index      19219 non-null  float64\n",
      " 25  Luminosity_Index       19219 non-null  float64\n",
      " 26  SigmoidOfAreas         19219 non-null  float64\n",
      "dtypes: float64(13), int64(14)\n",
      "memory usage: 4.0 MB\n"
     ]
    }
   ],
   "source": [
    "X.info()"
   ]
  },
  {
   "cell_type": "code",
   "execution_count": null,
   "id": "69986ce0",
   "metadata": {
    "papermill": {
     "duration": 0.011613,
     "end_time": "2024-03-17T15:39:10.943397",
     "exception": false,
     "start_time": "2024-03-17T15:39:10.931784",
     "status": "completed"
    },
    "tags": []
   },
   "outputs": [],
   "source": []
  },
  {
   "cell_type": "code",
   "execution_count": 14,
   "id": "4524f88f",
   "metadata": {
    "execution": {
     "iopub.execute_input": "2024-03-17T15:39:10.968660Z",
     "iopub.status.busy": "2024-03-17T15:39:10.967916Z",
     "iopub.status.idle": "2024-03-17T15:39:11.824718Z",
     "shell.execute_reply": "2024-03-17T15:39:11.823934Z"
    },
    "papermill": {
     "duration": 0.871991,
     "end_time": "2024-03-17T15:39:11.827055",
     "exception": false,
     "start_time": "2024-03-17T15:39:10.955064",
     "status": "completed"
    },
    "tags": []
   },
   "outputs": [
    {
     "name": "stderr",
     "output_type": "stream",
     "text": [
      "/opt/conda/lib/python3.10/site-packages/scipy/__init__.py:146: UserWarning: A NumPy version >=1.16.5 and <1.23.0 is required for this version of SciPy (detected version 1.24.3\n",
      "  warnings.warn(f\"A NumPy version >={np_minversion} and <{np_maxversion}\"\n"
     ]
    }
   ],
   "source": [
    "from sklearn.preprocessing import MinMaxScaler\n",
    "\n",
    "# Create a MinMaxScaler object\n",
    "scaler = MinMaxScaler(feature_range=(0, 1))\n",
    "\n",
    "# Select the columns to scale\n",
    "columns_to_scale = X.columns.difference(['synthetic'])\n",
    "\n",
    "\n",
    "#X[columns_to_scale] = scaler.fit_transform(X[columns_to_scale])\n",
    "#test_data[columns_to_scale] = scaler.transform(test_data[columns_to_scale])\n",
    "\n",
    "X = scaler.fit_transform(X[columns_to_scale])\n",
    "test_data = scaler.transform(test_data[columns_to_scale])"
   ]
  },
  {
   "cell_type": "code",
   "execution_count": 15,
   "id": "301db64c",
   "metadata": {
    "execution": {
     "iopub.execute_input": "2024-03-17T15:39:11.898606Z",
     "iopub.status.busy": "2024-03-17T15:39:11.897789Z",
     "iopub.status.idle": "2024-03-17T15:39:11.987688Z",
     "shell.execute_reply": "2024-03-17T15:39:11.986630Z"
    },
    "papermill": {
     "duration": 0.105892,
     "end_time": "2024-03-17T15:39:11.990233",
     "exception": false,
     "start_time": "2024-03-17T15:39:11.884341",
     "status": "completed"
    },
    "tags": []
   },
   "outputs": [],
   "source": [
    "from sklearn.model_selection import train_test_split\n",
    "\n",
    "X_train, X_test, y_train, y_test = train_test_split(X, y, test_size=0.2, \n",
    "                                                    shuffle=True)"
   ]
  },
  {
   "cell_type": "code",
   "execution_count": 16,
   "id": "d301bd73",
   "metadata": {
    "execution": {
     "iopub.execute_input": "2024-03-17T15:39:12.016971Z",
     "iopub.status.busy": "2024-03-17T15:39:12.016211Z",
     "iopub.status.idle": "2024-03-17T15:39:12.021260Z",
     "shell.execute_reply": "2024-03-17T15:39:12.020405Z"
    },
    "papermill": {
     "duration": 0.020503,
     "end_time": "2024-03-17T15:39:12.023182",
     "exception": false,
     "start_time": "2024-03-17T15:39:12.002679",
     "status": "completed"
    },
    "tags": []
   },
   "outputs": [
    {
     "name": "stdout",
     "output_type": "stream",
     "text": [
      "(15375, 27) (15375, 7)\n"
     ]
    }
   ],
   "source": [
    "print(X_train.shape , y_train.shape)"
   ]
  },
  {
   "cell_type": "code",
   "execution_count": 17,
   "id": "60605184",
   "metadata": {
    "execution": {
     "iopub.execute_input": "2024-03-17T15:39:12.048872Z",
     "iopub.status.busy": "2024-03-17T15:39:12.048601Z",
     "iopub.status.idle": "2024-03-17T15:39:12.053225Z",
     "shell.execute_reply": "2024-03-17T15:39:12.052403Z"
    },
    "papermill": {
     "duration": 0.019689,
     "end_time": "2024-03-17T15:39:12.055107",
     "exception": false,
     "start_time": "2024-03-17T15:39:12.035418",
     "status": "completed"
    },
    "tags": []
   },
   "outputs": [],
   "source": [
    "X_train = X_train.reshape((X_train.shape[0], X_train.shape[1], 1))\n",
    "X_test = X_test.reshape((X_test.shape[0], X_test.shape[1], 1))"
   ]
  },
  {
   "cell_type": "code",
   "execution_count": 18,
   "id": "e2caadb3",
   "metadata": {
    "execution": {
     "iopub.execute_input": "2024-03-17T15:39:12.081681Z",
     "iopub.status.busy": "2024-03-17T15:39:12.081100Z",
     "iopub.status.idle": "2024-03-17T15:39:12.085174Z",
     "shell.execute_reply": "2024-03-17T15:39:12.084397Z"
    },
    "papermill": {
     "duration": 0.01918,
     "end_time": "2024-03-17T15:39:12.087022",
     "exception": false,
     "start_time": "2024-03-17T15:39:12.067842",
     "status": "completed"
    },
    "tags": []
   },
   "outputs": [],
   "source": [
    "test_data = test_data.reshape((test_data.shape[0], test_data.shape[1], 1))"
   ]
  },
  {
   "cell_type": "code",
   "execution_count": 19,
   "id": "c6753d1d",
   "metadata": {
    "execution": {
     "iopub.execute_input": "2024-03-17T15:39:12.113424Z",
     "iopub.status.busy": "2024-03-17T15:39:12.112667Z",
     "iopub.status.idle": "2024-03-17T15:39:12.118371Z",
     "shell.execute_reply": "2024-03-17T15:39:12.117511Z"
    },
    "papermill": {
     "duration": 0.020886,
     "end_time": "2024-03-17T15:39:12.120344",
     "exception": false,
     "start_time": "2024-03-17T15:39:12.099458",
     "status": "completed"
    },
    "tags": []
   },
   "outputs": [
    {
     "data": {
      "text/plain": [
       "((15375, 27, 1), (3844, 27, 1))"
      ]
     },
     "execution_count": 19,
     "metadata": {},
     "output_type": "execute_result"
    }
   ],
   "source": [
    "X_train.shape, X_test.shape"
   ]
  },
  {
   "cell_type": "code",
   "execution_count": 20,
   "id": "22f31450",
   "metadata": {
    "execution": {
     "iopub.execute_input": "2024-03-17T15:39:12.148848Z",
     "iopub.status.busy": "2024-03-17T15:39:12.148151Z",
     "iopub.status.idle": "2024-03-17T15:39:12.154084Z",
     "shell.execute_reply": "2024-03-17T15:39:12.153225Z"
    },
    "papermill": {
     "duration": 0.022216,
     "end_time": "2024-03-17T15:39:12.156082",
     "exception": false,
     "start_time": "2024-03-17T15:39:12.133866",
     "status": "completed"
    },
    "tags": []
   },
   "outputs": [
    {
     "data": {
      "text/plain": [
       "(27, 1)"
      ]
     },
     "execution_count": 20,
     "metadata": {},
     "output_type": "execute_result"
    }
   ],
   "source": [
    "input_shape = X_train.shape[1:]\n",
    "input_shape"
   ]
  },
  {
   "cell_type": "code",
   "execution_count": 21,
   "id": "93a08aac",
   "metadata": {
    "execution": {
     "iopub.execute_input": "2024-03-17T15:39:12.183264Z",
     "iopub.status.busy": "2024-03-17T15:39:12.182468Z",
     "iopub.status.idle": "2024-03-17T15:39:12.188133Z",
     "shell.execute_reply": "2024-03-17T15:39:12.187265Z"
    },
    "papermill": {
     "duration": 0.021212,
     "end_time": "2024-03-17T15:39:12.190023",
     "exception": false,
     "start_time": "2024-03-17T15:39:12.168811",
     "status": "completed"
    },
    "tags": []
   },
   "outputs": [
    {
     "data": {
      "text/plain": [
       "(15375, 7)"
      ]
     },
     "execution_count": 21,
     "metadata": {},
     "output_type": "execute_result"
    }
   ],
   "source": [
    "y_train.shape"
   ]
  },
  {
   "cell_type": "code",
   "execution_count": 22,
   "id": "601ebac1",
   "metadata": {
    "execution": {
     "iopub.execute_input": "2024-03-17T15:39:12.216753Z",
     "iopub.status.busy": "2024-03-17T15:39:12.215956Z",
     "iopub.status.idle": "2024-03-17T15:39:12.219859Z",
     "shell.execute_reply": "2024-03-17T15:39:12.219030Z"
    },
    "papermill": {
     "duration": 0.019213,
     "end_time": "2024-03-17T15:39:12.221769",
     "exception": false,
     "start_time": "2024-03-17T15:39:12.202556",
     "status": "completed"
    },
    "tags": []
   },
   "outputs": [],
   "source": [
    "#y_train=y_train.to_numpy()"
   ]
  },
  {
   "cell_type": "code",
   "execution_count": 23,
   "id": "ab0853a6",
   "metadata": {
    "execution": {
     "iopub.execute_input": "2024-03-17T15:39:12.248604Z",
     "iopub.status.busy": "2024-03-17T15:39:12.247793Z",
     "iopub.status.idle": "2024-03-17T15:39:23.619207Z",
     "shell.execute_reply": "2024-03-17T15:39:23.618297Z"
    },
    "papermill": {
     "duration": 11.387396,
     "end_time": "2024-03-17T15:39:23.621625",
     "exception": false,
     "start_time": "2024-03-17T15:39:12.234229",
     "status": "completed"
    },
    "tags": []
   },
   "outputs": [],
   "source": [
    "import tensorflow as tf\n",
    "from tensorflow.keras.layers import Input, Conv1D, BatchNormalization, Dense\n",
    "from tensorflow.keras.layers import AvgPool1D, GlobalAveragePooling1D, MaxPool1D\n",
    "from tensorflow.keras.models import Model\n",
    "from tensorflow.keras.layers import ReLU, concatenate, GRU, Reshape\n",
    "import tensorflow.keras.backend as K\n",
    "\n"
   ]
  },
  {
   "cell_type": "code",
   "execution_count": 24,
   "id": "8705dd6f",
   "metadata": {
    "execution": {
     "iopub.execute_input": "2024-03-17T15:39:23.649703Z",
     "iopub.status.busy": "2024-03-17T15:39:23.648694Z",
     "iopub.status.idle": "2024-03-17T15:39:23.653794Z",
     "shell.execute_reply": "2024-03-17T15:39:23.652960Z"
    },
    "papermill": {
     "duration": 0.02101,
     "end_time": "2024-03-17T15:39:23.655762",
     "exception": false,
     "start_time": "2024-03-17T15:39:23.634752",
     "status": "completed"
    },
    "tags": []
   },
   "outputs": [],
   "source": [
    "#import tensorflow as tf\n",
    "#import numpy as np\n",
    "\n",
    "# Set random seeds for reproducibility\n",
    "RANDOM_SEED = 42\n",
    "tf.random.set_seed(RANDOM_SEED)\n",
    "np.random.seed(RANDOM_SEED)"
   ]
  },
  {
   "cell_type": "code",
   "execution_count": 25,
   "id": "4a514b37",
   "metadata": {
    "execution": {
     "iopub.execute_input": "2024-03-17T15:39:23.683180Z",
     "iopub.status.busy": "2024-03-17T15:39:23.682894Z",
     "iopub.status.idle": "2024-03-17T15:39:23.688110Z",
     "shell.execute_reply": "2024-03-17T15:39:23.687282Z"
    },
    "papermill": {
     "duration": 0.021003,
     "end_time": "2024-03-17T15:39:23.690048",
     "exception": false,
     "start_time": "2024-03-17T15:39:23.669045",
     "status": "completed"
    },
    "tags": []
   },
   "outputs": [],
   "source": [
    "def bn_rl_conv(x,filters,kernel=1,strides=1):\n",
    "    x = BatchNormalization()(x)\n",
    "    x = ReLU()(x)\n",
    "    x = Conv1D(filters, kernel, strides=strides,padding = 'same')(x)\n",
    "    return x"
   ]
  },
  {
   "cell_type": "code",
   "execution_count": 26,
   "id": "6d6c27b7",
   "metadata": {
    "execution": {
     "iopub.execute_input": "2024-03-17T15:39:23.717288Z",
     "iopub.status.busy": "2024-03-17T15:39:23.717016Z",
     "iopub.status.idle": "2024-03-17T15:39:23.722002Z",
     "shell.execute_reply": "2024-03-17T15:39:23.721177Z"
    },
    "papermill": {
     "duration": 0.021277,
     "end_time": "2024-03-17T15:39:23.723863",
     "exception": false,
     "start_time": "2024-03-17T15:39:23.702586",
     "status": "completed"
    },
    "tags": []
   },
   "outputs": [],
   "source": [
    "def dense_block(x, repetition, filters):        \n",
    "    for _ in range(repetition):\n",
    "        y = bn_rl_conv(x, 4*filters)\n",
    "        y = bn_rl_conv(y, filters, 3)\n",
    "        x = concatenate([y,x])\n",
    "    return x"
   ]
  },
  {
   "cell_type": "code",
   "execution_count": 27,
   "id": "15bd53c5",
   "metadata": {
    "execution": {
     "iopub.execute_input": "2024-03-17T15:39:23.751720Z",
     "iopub.status.busy": "2024-03-17T15:39:23.750930Z",
     "iopub.status.idle": "2024-03-17T15:39:23.755829Z",
     "shell.execute_reply": "2024-03-17T15:39:23.754938Z"
    },
    "papermill": {
     "duration": 0.021331,
     "end_time": "2024-03-17T15:39:23.757919",
     "exception": false,
     "start_time": "2024-03-17T15:39:23.736588",
     "status": "completed"
    },
    "tags": []
   },
   "outputs": [],
   "source": [
    "def transition_layer(x):\n",
    "    x = bn_rl_conv(x, K.int_shape(x)[-1] //2 )\n",
    "    x = AvgPool1D(2, strides = 2, padding = 'same')(x)\n",
    "    return x"
   ]
  },
  {
   "cell_type": "code",
   "execution_count": 28,
   "id": "74071b98",
   "metadata": {
    "execution": {
     "iopub.execute_input": "2024-03-17T15:39:23.785250Z",
     "iopub.status.busy": "2024-03-17T15:39:23.784954Z",
     "iopub.status.idle": "2024-03-17T15:39:23.791021Z",
     "shell.execute_reply": "2024-03-17T15:39:23.790302Z"
    },
    "papermill": {
     "duration": 0.021902,
     "end_time": "2024-03-17T15:39:23.792978",
     "exception": false,
     "start_time": "2024-03-17T15:39:23.771076",
     "status": "completed"
    },
    "tags": []
   },
   "outputs": [],
   "source": [
    "def build_densenet(input_shape, filters=32):\n",
    "    input_data = Input(input_shape)\n",
    "    x = Conv1D(64, 7, strides=2, padding='same')(input_data)\n",
    "    x = MaxPool1D(3, strides=2, padding='same')(x)\n",
    "\n",
    "    for repetition in [6, 12, 24, 16]:\n",
    "        d = dense_block(x, repetition, filters)\n",
    "        x = transition_layer(d)\n",
    "\n",
    "    x = GlobalAveragePooling1D()(d)\n",
    "    output = Dense(7, activation='sigmoid')(x)  # Use 'sigmoid' for multilabel prediction\n",
    "    model = Model(input_data, output)\n",
    "\n",
    "    return model\n",
    "\n",
    "#input_shape = (27, 1)  # Adjust the shape according to your data\n",
    "#model = build_densenet(input_shape)"
   ]
  },
  {
   "cell_type": "code",
   "execution_count": 29,
   "id": "1e7124c9",
   "metadata": {
    "execution": {
     "iopub.execute_input": "2024-03-17T15:39:23.820774Z",
     "iopub.status.busy": "2024-03-17T15:39:23.820053Z",
     "iopub.status.idle": "2024-03-17T15:39:28.771827Z",
     "shell.execute_reply": "2024-03-17T15:39:28.770837Z"
    },
    "papermill": {
     "duration": 4.968083,
     "end_time": "2024-03-17T15:39:28.774307",
     "exception": false,
     "start_time": "2024-03-17T15:39:23.806224",
     "status": "completed"
    },
    "tags": []
   },
   "outputs": [],
   "source": [
    "from tensorflow.keras.metrics import Recall, Precision ,AUC\n",
    "import tensorflow.keras as keras\n",
    "\n",
    "\n",
    "\n",
    "input_shape = (27, 1)\n",
    "filters = 32\n",
    "clf = build_densenet(input_shape, filters = 16)\n",
    "clf.compile(optimizer=tf.keras.optimizers.Adam(learning_rate=0.01), loss='binary_crossentropy', metrics=[AUC(),'accuracy'])   \n",
    "\n",
    "#clf.summary()"
   ]
  },
  {
   "cell_type": "code",
   "execution_count": 30,
   "id": "29906e95",
   "metadata": {
    "execution": {
     "iopub.execute_input": "2024-03-17T15:39:28.802566Z",
     "iopub.status.busy": "2024-03-17T15:39:28.802178Z",
     "iopub.status.idle": "2024-03-17T15:39:28.807261Z",
     "shell.execute_reply": "2024-03-17T15:39:28.806522Z"
    },
    "papermill": {
     "duration": 0.021392,
     "end_time": "2024-03-17T15:39:28.809223",
     "exception": false,
     "start_time": "2024-03-17T15:39:28.787831",
     "status": "completed"
    },
    "tags": []
   },
   "outputs": [],
   "source": [
    "from tensorflow.keras.utils import plot_model\n",
    "\n",
    "#plot_model(clf, to_file=\"model_fig.jpg\", show_shapes=True)"
   ]
  },
  {
   "cell_type": "code",
   "execution_count": 31,
   "id": "c4529c80",
   "metadata": {
    "execution": {
     "iopub.execute_input": "2024-03-17T15:39:28.836429Z",
     "iopub.status.busy": "2024-03-17T15:39:28.835740Z",
     "iopub.status.idle": "2024-03-17T15:39:28.850920Z",
     "shell.execute_reply": "2024-03-17T15:39:28.850233Z"
    },
    "papermill": {
     "duration": 0.030863,
     "end_time": "2024-03-17T15:39:28.852916",
     "exception": false,
     "start_time": "2024-03-17T15:39:28.822053",
     "status": "completed"
    },
    "tags": []
   },
   "outputs": [],
   "source": [
    "from tensorflow.keras.callbacks import ModelCheckpoint, EarlyStopping, ReduceLROnPlateau\n",
    "from sklearn.metrics import roc_auc_score\n",
    "from livelossplot import PlotLossesKeras\n",
    "\n",
    "\n",
    "# Define a custom callback to calculate AUC score\n",
    "class AUCCallback(keras.callbacks.Callback):\n",
    "    def __init__(self, validation_data):\n",
    "        super(AUCCallback, self).__init__()\n",
    "        self.validation_data = validation_data\n",
    "\n",
    "    def on_epoch_end(self, epoch, logs=None):\n",
    "        y_true = self.validation_data[1]\n",
    "        y_pred = self.model.predict(self.validation_data[0])\n",
    "        auc = roc_auc_score(y_true, y_pred)\n",
    "        print(f'\\nValidation AUC: {auc:.4f}\\n')\n",
    "\n",
    "# file path for saving model weights\n",
    "model_weights_file_path = \"simple_model_weights.h5\"\n",
    "\n",
    "# Callbacks\n",
    "checkpoint = ModelCheckpoint(filepath=model_weights_file_path, \n",
    "                             monitor=\"val_auc\",  # Monitor AUC score\n",
    "                             verbose=1, \n",
    "                             save_best_only=True, \n",
    "                             mode=\"max\", \n",
    "                             save_weights_only=True)\n",
    "\n",
    "early_stopping = EarlyStopping(monitor=\"val_auc\",\n",
    "                               mode=\"max\", \n",
    "                               verbose=1, \n",
    "                               patience=20)\n",
    "\n",
    "lr_reduce = ReduceLROnPlateau(monitor='val_auc', \n",
    "                               factor=0.5, \n",
    "                               patience=5, \n",
    "                               verbose=1, \n",
    "                               mode='max', \n",
    "                               min_delta=0.0001, \n",
    "                               cooldown=0, \n",
    "                               min_lr=0)\n",
    "\n",
    "auc_callback = AUCCallback(validation_data=(X_test, y_test))\n",
    "\n",
    "call_backs = [checkpoint, early_stopping, lr_reduce, auc_callback,PlotLossesKeras()]\n"
   ]
  },
  {
   "cell_type": "code",
   "execution_count": 32,
   "id": "89f450ca",
   "metadata": {
    "execution": {
     "iopub.execute_input": "2024-03-17T15:39:28.880254Z",
     "iopub.status.busy": "2024-03-17T15:39:28.879695Z",
     "iopub.status.idle": "2024-03-17T16:28:41.668414Z",
     "shell.execute_reply": "2024-03-17T16:28:41.667596Z"
    },
    "papermill": {
     "duration": 2952.804784,
     "end_time": "2024-03-17T16:28:41.670576",
     "exception": false,
     "start_time": "2024-03-17T15:39:28.865792",
     "status": "completed"
    },
    "tags": []
   },
   "outputs": [
    {
     "data": {
      "image/png": "[encoded data removed]",
      "text/plain": [
       "<Figure size 1200x1200 with 4 Axes>"
      ]
     },
     "metadata": {},
     "output_type": "display_data"
    },
    {
     "name": "stdout",
     "output_type": "stream",
     "text": [
      "accuracy\n",
      "\ttraining         \t (min:    0.489, max:    0.675, cur:    0.670)\n",
      "\tvalidation       \t (min:    0.427, max:    0.584, cur:    0.549)\n",
      "auc\n",
      "\ttraining         \t (min:    0.869, max:    0.953, cur:    0.953)\n",
      "\tvalidation       \t (min:    0.862, max:    0.920, cur:    0.903)\n",
      "Loss\n",
      "\ttraining         \t (min:    0.181, max:    0.310, cur:    0.181)\n",
      "\tvalidation       \t (min:    0.229, max:    0.302, cur:    0.265)\n",
      "lr\n",
      "\tlr               \t (min:    0.000, max:    0.010, cur:    0.000)\n",
      "481/481 [==============================] - 70s 146ms/step - loss: 0.1810 - auc: 0.9529 - accuracy: 0.6702 - val_loss: 0.2654 - val_auc: 0.9026 - val_accuracy: 0.5492 - lr: 3.1250e-04\n",
      "Epoch 41: early stopping\n"
     ]
    }
   ],
   "source": [
    "EPOCHS = 60\n",
    "BATCH_SIZE = 32\n",
    "\n",
    "history = clf.fit(X_train, y_train, \n",
    "                    validation_data=(X_test, y_test),\n",
    "                    #validation_split=0.1,\n",
    "                    epochs=EPOCHS, \n",
    "                    batch_size=BATCH_SIZE,\n",
    "                    callbacks=call_backs,\n",
    "                    verbose=1)\n"
   ]
  },
  {
   "cell_type": "code",
   "execution_count": 33,
   "id": "3394227a",
   "metadata": {
    "execution": {
     "iopub.execute_input": "2024-03-17T16:28:41.701402Z",
     "iopub.status.busy": "2024-03-17T16:28:41.701038Z",
     "iopub.status.idle": "2024-03-17T16:28:41.705127Z",
     "shell.execute_reply": "2024-03-17T16:28:41.704263Z"
    },
    "papermill": {
     "duration": 0.021846,
     "end_time": "2024-03-17T16:28:41.707133",
     "exception": false,
     "start_time": "2024-03-17T16:28:41.685287",
     "status": "completed"
    },
    "tags": []
   },
   "outputs": [],
   "source": [
    "#clf.save('dsnet121_model_weights.h5')"
   ]
  },
  {
   "cell_type": "code",
   "execution_count": 34,
   "id": "dbc48958",
   "metadata": {
    "execution": {
     "iopub.execute_input": "2024-03-17T16:28:41.739191Z",
     "iopub.status.busy": "2024-03-17T16:28:41.738259Z",
     "iopub.status.idle": "2024-03-17T16:28:41.742585Z",
     "shell.execute_reply": "2024-03-17T16:28:41.741663Z"
    },
    "papermill": {
     "duration": 0.02255,
     "end_time": "2024-03-17T16:28:41.744683",
     "exception": false,
     "start_time": "2024-03-17T16:28:41.722133",
     "status": "completed"
    },
    "tags": []
   },
   "outputs": [],
   "source": [
    "#from tensorflow.keras.models import load_model\n",
    "\n",
    "#clf = load_model('dsnet121_model_weights.h5', custom_objects={\"f1_score\":f1_score})"
   ]
  },
  {
   "cell_type": "code",
   "execution_count": 35,
   "id": "1565da31",
   "metadata": {
    "execution": {
     "iopub.execute_input": "2024-03-17T16:28:41.776110Z",
     "iopub.status.busy": "2024-03-17T16:28:41.775555Z",
     "iopub.status.idle": "2024-03-17T16:28:42.427230Z",
     "shell.execute_reply": "2024-03-17T16:28:42.426362Z"
    },
    "papermill": {
     "duration": 0.670007,
     "end_time": "2024-03-17T16:28:42.429604",
     "exception": false,
     "start_time": "2024-03-17T16:28:41.759597",
     "status": "completed"
    },
    "tags": []
   },
   "outputs": [],
   "source": [
    "clf.load_weights('/kaggle/working/simple_model_weights.h5')\n"
   ]
  },
  {
   "cell_type": "code",
   "execution_count": 36,
   "id": "75ae099b",
   "metadata": {
    "execution": {
     "iopub.execute_input": "2024-03-17T16:28:42.461980Z",
     "iopub.status.busy": "2024-03-17T16:28:42.461655Z",
     "iopub.status.idle": "2024-03-17T16:28:50.918117Z",
     "shell.execute_reply": "2024-03-17T16:28:50.917221Z"
    },
    "papermill": {
     "duration": 8.475591,
     "end_time": "2024-03-17T16:28:50.920575",
     "exception": false,
     "start_time": "2024-03-17T16:28:42.444984",
     "status": "completed"
    },
    "tags": []
   },
   "outputs": [
    {
     "name": "stdout",
     "output_type": "stream",
     "text": [
      "401/401 [==============================] - 8s 20ms/step\n"
     ]
    }
   ],
   "source": [
    "y_hat = clf.predict(test_data)"
   ]
  },
  {
   "cell_type": "code",
   "execution_count": 37,
   "id": "14b89c75",
   "metadata": {
    "execution": {
     "iopub.execute_input": "2024-03-17T16:28:50.974847Z",
     "iopub.status.busy": "2024-03-17T16:28:50.974185Z",
     "iopub.status.idle": "2024-03-17T16:28:50.981399Z",
     "shell.execute_reply": "2024-03-17T16:28:50.980518Z"
    },
    "papermill": {
     "duration": 0.036346,
     "end_time": "2024-03-17T16:28:50.983274",
     "exception": false,
     "start_time": "2024-03-17T16:28:50.946928",
     "status": "completed"
    },
    "tags": []
   },
   "outputs": [
    {
     "data": {
      "text/plain": [
       "array([[5.6920230e-01, 9.3406986e-04, 5.9956564e-03, ..., 1.6867088e-02,\n",
       "        1.2609650e-01, 2.8370199e-01],\n",
       "       [2.4801159e-01, 1.7910013e-02, 4.1814212e-02, ..., 3.0813578e-01,\n",
       "        7.1131080e-02, 3.2960856e-01],\n",
       "       [7.7718595e-04, 1.1915203e-01, 4.6054740e-02, ..., 6.5572099e-03,\n",
       "        2.8353241e-01, 5.6818438e-01],\n",
       "       ...,\n",
       "       [5.7818653e-04, 2.3064062e-05, 9.6633440e-01, ..., 4.3144578e-06,\n",
       "        3.5476615e-04, 6.6621535e-02],\n",
       "       [4.2454717e-01, 2.9526029e-03, 4.3399934e-02, ..., 1.3726717e-01,\n",
       "        7.5492114e-02, 3.3312848e-01],\n",
       "       [2.2911119e-04, 2.7015727e-04, 9.7287041e-01, ..., 2.5611064e-06,\n",
       "        5.2717584e-04, 4.1815232e-02]], dtype=float32)"
      ]
     },
     "execution_count": 37,
     "metadata": {},
     "output_type": "execute_result"
    }
   ],
   "source": [
    "y_hat"
   ]
  },
  {
   "cell_type": "code",
   "execution_count": 38,
   "id": "fcf42037",
   "metadata": {
    "execution": {
     "iopub.execute_input": "2024-03-17T16:28:51.038484Z",
     "iopub.status.busy": "2024-03-17T16:28:51.037597Z",
     "iopub.status.idle": "2024-03-17T16:28:51.046562Z",
     "shell.execute_reply": "2024-03-17T16:28:51.045618Z"
    },
    "papermill": {
     "duration": 0.038799,
     "end_time": "2024-03-17T16:28:51.048548",
     "exception": false,
     "start_time": "2024-03-17T16:28:51.009749",
     "status": "completed"
    },
    "tags": []
   },
   "outputs": [],
   "source": [
    "sub=pd.DataFrame()\n",
    "sub['id']=id_test\n",
    "sub[label_cols]=y_hat"
   ]
  },
  {
   "cell_type": "code",
   "execution_count": 39,
   "id": "1397430f",
   "metadata": {
    "execution": {
     "iopub.execute_input": "2024-03-17T16:28:51.103128Z",
     "iopub.status.busy": "2024-03-17T16:28:51.102265Z",
     "iopub.status.idle": "2024-03-17T16:28:51.116754Z",
     "shell.execute_reply": "2024-03-17T16:28:51.115640Z"
    },
    "papermill": {
     "duration": 0.044457,
     "end_time": "2024-03-17T16:28:51.118867",
     "exception": false,
     "start_time": "2024-03-17T16:28:51.074410",
     "status": "completed"
    },
    "tags": []
   },
   "outputs": [
    {
     "data": {
      "text/html": [
       "<div>\n",
       "<style scoped>\n",
       "    .dataframe tbody tr th:only-of-type {\n",
       "        vertical-align: middle;\n",
       "    }\n",
       "\n",
       "    .dataframe tbody tr th {\n",
       "        vertical-align: top;\n",
       "    }\n",
       "\n",
       "    .dataframe thead th {\n",
       "        text-align: right;\n",
       "    }\n",
       "</style>\n",
       "<table border=\"1\" class=\"dataframe\">\n",
       "  <thead>\n",
       "    <tr style=\"text-align: right;\">\n",
       "      <th></th>\n",
       "      <th>id</th>\n",
       "      <th>Pastry</th>\n",
       "      <th>Z_Scratch</th>\n",
       "      <th>K_Scatch</th>\n",
       "      <th>Stains</th>\n",
       "      <th>Dirtiness</th>\n",
       "      <th>Bumps</th>\n",
       "      <th>Other_Faults</th>\n",
       "    </tr>\n",
       "  </thead>\n",
       "  <tbody>\n",
       "    <tr>\n",
       "      <th>0</th>\n",
       "      <td>19219</td>\n",
       "      <td>0.569202</td>\n",
       "      <td>0.000934</td>\n",
       "      <td>0.005996</td>\n",
       "      <td>0.000010</td>\n",
       "      <td>0.016867</td>\n",
       "      <td>0.126097</td>\n",
       "      <td>0.283702</td>\n",
       "    </tr>\n",
       "    <tr>\n",
       "      <th>1</th>\n",
       "      <td>19220</td>\n",
       "      <td>0.248012</td>\n",
       "      <td>0.017910</td>\n",
       "      <td>0.041814</td>\n",
       "      <td>0.000205</td>\n",
       "      <td>0.308136</td>\n",
       "      <td>0.071131</td>\n",
       "      <td>0.329609</td>\n",
       "    </tr>\n",
       "    <tr>\n",
       "      <th>2</th>\n",
       "      <td>19221</td>\n",
       "      <td>0.000777</td>\n",
       "      <td>0.119152</td>\n",
       "      <td>0.046055</td>\n",
       "      <td>0.006612</td>\n",
       "      <td>0.006557</td>\n",
       "      <td>0.283532</td>\n",
       "      <td>0.568184</td>\n",
       "    </tr>\n",
       "    <tr>\n",
       "      <th>3</th>\n",
       "      <td>19222</td>\n",
       "      <td>0.240578</td>\n",
       "      <td>0.000155</td>\n",
       "      <td>0.000321</td>\n",
       "      <td>0.000038</td>\n",
       "      <td>0.014299</td>\n",
       "      <td>0.298135</td>\n",
       "      <td>0.441508</td>\n",
       "    </tr>\n",
       "    <tr>\n",
       "      <th>4</th>\n",
       "      <td>19223</td>\n",
       "      <td>0.004264</td>\n",
       "      <td>0.000848</td>\n",
       "      <td>0.001636</td>\n",
       "      <td>0.001138</td>\n",
       "      <td>0.024236</td>\n",
       "      <td>0.529204</td>\n",
       "      <td>0.394479</td>\n",
       "    </tr>\n",
       "  </tbody>\n",
       "</table>\n",
       "</div>"
      ],
      "text/plain": [
       "      id    Pastry  Z_Scratch  K_Scatch    Stains  Dirtiness     Bumps  \\\n",
       "0  19219  0.569202   0.000934  0.005996  0.000010   0.016867  0.126097   \n",
       "1  19220  0.248012   0.017910  0.041814  0.000205   0.308136  0.071131   \n",
       "2  19221  0.000777   0.119152  0.046055  0.006612   0.006557  0.283532   \n",
       "3  19222  0.240578   0.000155  0.000321  0.000038   0.014299  0.298135   \n",
       "4  19223  0.004264   0.000848  0.001636  0.001138   0.024236  0.529204   \n",
       "\n",
       "   Other_Faults  \n",
       "0      0.283702  \n",
       "1      0.329609  \n",
       "2      0.568184  \n",
       "3      0.441508  \n",
       "4      0.394479  "
      ]
     },
     "execution_count": 39,
     "metadata": {},
     "output_type": "execute_result"
    }
   ],
   "source": [
    "sub.head()"
   ]
  },
  {
   "cell_type": "code",
   "execution_count": 40,
   "id": "214053c2",
   "metadata": {
    "execution": {
     "iopub.execute_input": "2024-03-17T16:28:51.175627Z",
     "iopub.status.busy": "2024-03-17T16:28:51.174686Z",
     "iopub.status.idle": "2024-03-17T16:28:51.337875Z",
     "shell.execute_reply": "2024-03-17T16:28:51.336701Z"
    },
    "papermill": {
     "duration": 0.194244,
     "end_time": "2024-03-17T16:28:51.340570",
     "exception": false,
     "start_time": "2024-03-17T16:28:51.146326",
     "status": "completed"
    },
    "tags": []
   },
   "outputs": [],
   "source": [
    "sub.to_csv(\"submission.csv\", index=False)"
   ]
  },
  {
   "cell_type": "code",
   "execution_count": null,
   "id": "a3f9c578",
   "metadata": {
    "papermill": {
     "duration": 0.026555,
     "end_time": "2024-03-17T16:28:51.393340",
     "exception": false,
     "start_time": "2024-03-17T16:28:51.366785",
     "status": "completed"
    },
    "tags": []
   },
   "outputs": [],
   "source": []
  }
 ],
 "metadata": {
  "kaggle": {
   "accelerator": "gpu",
   "dataSources": [
    {
     "databundleVersionId": 7659021,
     "sourceId": 68699,
     "sourceType": "competition"
    },
    {
     "datasetId": 2363,
     "sourceId": 3972,
     "sourceType": "datasetVersion"
    }
   ],
   "dockerImageVersionId": 30627,
   "isGpuEnabled": true,
   "isInternetEnabled": true,
   "language": "python",
   "sourceType": "notebook"
  },
  "kernelspec": {
   "display_name": "Python 3 (ipykernel)",
   "language": "python",
   "name": "python3"
  },
  "language_info": {
   "codemirror_mode": {
    "name": "ipython",
    "version": 3
   },
   "file_extension": ".py",
   "mimetype": "text/x-python",
   "name": "python",
   "nbconvert_exporter": "python",
   "pygments_lexer": "ipython3",
   "version": "3.11.10"
  },
  "papermill": {
   "default_parameters": {},
   "duration": 3001.848253,
   "end_time": "2024-03-17T16:28:54.413756",
   "environment_variables": {},
   "exception": null,
   "input_path": "__notebook__.ipynb",
   "output_path": "__notebook__.ipynb",
   "parameters": {},
   "start_time": "2024-03-17T15:38:52.565503",
   "version": "2.4.0"
  }
 },
 "nbformat": 4,
 "nbformat_minor": 5
}

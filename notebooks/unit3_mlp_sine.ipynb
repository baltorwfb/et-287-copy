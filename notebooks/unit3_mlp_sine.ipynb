{
 "cells": [
  {
   "cell_type": "markdown",
   "metadata": {
    "id": "oI4OLvBfwRuX"
   },
   "source": [
    "# Approximating the sine function with an MLP"
   ]
  },
  {
   "cell_type": "markdown",
   "metadata": {
    "id": "XaTMbwWqxORB"
   },
   "source": [
    "## Etapa 01\n",
    "Importar as bibliotecas de aprendizado de máquina e computação científica."
   ]
  },
  {
   "cell_type": "code",
   "execution_count": 1,
   "metadata": {
    "executionInfo": {
     "elapsed": 4117,
     "status": "ok",
     "timestamp": 1727112261540,
     "user": {
      "displayName": "Sarah Negreiros de Carvalho Leite",
      "userId": "03059545261666309656"
     },
     "user_tz": 180
    },
    "id": "JFNoHE2LvocY"
   },
   "outputs": [
    {
     "name": "stderr",
     "output_type": "stream",
     "text": [
      "2024-10-02 00:08:48.411496: I external/local_xla/xla/tsl/cuda/cudart_stub.cc:32] Could not find cuda drivers on your machine, GPU will not be used.\n",
      "2024-10-02 00:08:48.497636: I external/local_xla/xla/tsl/cuda/cudart_stub.cc:32] Could not find cuda drivers on your machine, GPU will not be used.\n",
      "2024-10-02 00:08:48.588513: E external/local_xla/xla/stream_executor/cuda/cuda_fft.cc:485] Unable to register cuFFT factory: Attempting to register factory for plugin cuFFT when one has already been registered\n",
      "2024-10-02 00:08:48.668001: E external/local_xla/xla/stream_executor/cuda/cuda_dnn.cc:8454] Unable to register cuDNN factory: Attempting to register factory for plugin cuDNN when one has already been registered\n",
      "2024-10-02 00:08:48.691545: E external/local_xla/xla/stream_executor/cuda/cuda_blas.cc:1452] Unable to register cuBLAS factory: Attempting to register factory for plugin cuBLAS when one has already been registered\n",
      "2024-10-02 00:08:48.846482: I tensorflow/core/platform/cpu_feature_guard.cc:210] This TensorFlow binary is optimized to use available CPU instructions in performance-critical operations.\n",
      "To enable the following instructions: AVX2 FMA, in other operations, rebuild TensorFlow with the appropriate compiler flags.\n",
      "2024-10-02 00:08:50.411060: W tensorflow/compiler/tf2tensorrt/utils/py_utils.cc:38] TF-TRT Warning: Could not find TensorRT\n"
     ]
    }
   ],
   "source": [
    "# Biblioteca de aprendizado de máquina\n",
    "from tensorflow import keras\n",
    "from keras.models import Sequential\n",
    "from keras.layers import Dense\n",
    "\n",
    "# Bibliotecas de computação científica\n",
    "import numpy as np\n",
    "import matplotlib.pyplot as plt"
   ]
  },
  {
   "cell_type": "markdown",
   "metadata": {
    "id": "0uWeTDXbxpLv"
   },
   "source": [
    "## Etapa 02\n",
    "Criar a base de dados sintética."
   ]
  },
  {
   "cell_type": "code",
   "execution_count": 2,
   "metadata": {},
   "outputs": [],
   "source": [
    "NUM_SAMPLES = 500\n",
    "\n",
    "x_train = np.random.uniform(0, 1, NUM_SAMPLES)\n",
    "x_train = np.sort(x_train, axis = 0)\n",
    "y_train = np.sin(2 * np.pi * x_train)\n",
    "\n",
    "x_test = np.random.uniform(0, 1, int(NUM_SAMPLES/3))\n",
    "x_test = np.sort(x_test, axis = 0)\n",
    "y_test = np.sin(2 * np.pi * x_test)"
   ]
  },
  {
   "cell_type": "markdown",
   "metadata": {
    "id": "JAC366FUyOhB"
   },
   "source": [
    "## Etapa 03\n",
    "Conhecer a dimensão dos conjuntos da base de dados."
   ]
  },
  {
   "cell_type": "code",
   "execution_count": 3,
   "metadata": {
    "colab": {
     "base_uri": "https://localhost:8080/"
    },
    "executionInfo": {
     "elapsed": 8,
     "status": "ok",
     "timestamp": 1727112261541,
     "user": {
      "displayName": "Sarah Negreiros de Carvalho Leite",
      "userId": "03059545261666309656"
     },
     "user_tz": 180
    },
    "id": "dHYwuZotyBOr",
    "outputId": "5daeee9e-c727-4750-dff8-21b1f99f953f"
   },
   "outputs": [
    {
     "name": "stdout",
     "output_type": "stream",
     "text": [
      "x_train (500,)\n",
      "y_train (500,)\n",
      "x_test (166,)\n",
      "y_test (166,)\n"
     ]
    }
   ],
   "source": [
    "print('x_train', x_train.shape)\n",
    "print('y_train', y_train.shape)\n",
    "print('x_test', x_test.shape)\n",
    "print('y_test', y_test.shape)"
   ]
  },
  {
   "cell_type": "markdown",
   "metadata": {
    "id": "OOBgB_Yzyls_"
   },
   "source": [
    "## Etapa 04\n",
    "Construir a rede neural utilizando o Keras."
   ]
  },
  {
   "cell_type": "code",
   "execution_count": 4,
   "metadata": {
    "colab": {
     "base_uri": "https://localhost:8080/",
     "height": 199
    },
    "executionInfo": {
     "elapsed": 462,
     "status": "ok",
     "timestamp": 1727113354782,
     "user": {
      "displayName": "Sarah Negreiros de Carvalho Leite",
      "userId": "03059545261666309656"
     },
     "user_tz": 180
    },
    "id": "9PWJrJFiydZl",
    "outputId": "41f005f8-44cd-49da-9622-7fdd924f3f78"
   },
   "outputs": [
    {
     "name": "stderr",
     "output_type": "stream",
     "text": [
      "/home/fbaltor/.pyenv/versions/3.11.10/lib/python3.11/site-packages/keras/src/layers/core/dense.py:87: UserWarning: Do not pass an `input_shape`/`input_dim` argument to a layer. When using Sequential models, prefer using an `Input(shape)` object as the first layer in the model instead.\n",
      "  super().__init__(activity_regularizer=activity_regularizer, **kwargs)\n"
     ]
    },
    {
     "data": {
      "text/html": [
       "<pre style=\"white-space:pre;overflow-x:auto;line-height:normal;font-family:Menlo,'DejaVu Sans Mono',consolas,'Courier New',monospace\"><span style=\"font-weight: bold\">Model: \"sequential\"</span>\n",
       "</pre>\n"
      ],
      "text/plain": [
       "\u001b[1mModel: \"sequential\"\u001b[0m\n"
      ]
     },
     "metadata": {},
     "output_type": "display_data"
    },
    {
     "data": {
      "text/html": [
       "<pre style=\"white-space:pre;overflow-x:auto;line-height:normal;font-family:Menlo,'DejaVu Sans Mono',consolas,'Courier New',monospace\">┏━━━━━━━━━━━━━━━━━━━━━━━━━━━━━━━━━┳━━━━━━━━━━━━━━━━━━━━━━━━┳━━━━━━━━━━━━━━━┓\n",
       "┃<span style=\"font-weight: bold\"> Layer (type)                    </span>┃<span style=\"font-weight: bold\"> Output Shape           </span>┃<span style=\"font-weight: bold\">       Param # </span>┃\n",
       "┡━━━━━━━━━━━━━━━━━━━━━━━━━━━━━━━━━╇━━━━━━━━━━━━━━━━━━━━━━━━╇━━━━━━━━━━━━━━━┩\n",
       "│ dense (<span style=\"color: #0087ff; text-decoration-color: #0087ff\">Dense</span>)                   │ (<span style=\"color: #00d7ff; text-decoration-color: #00d7ff\">None</span>, <span style=\"color: #00af00; text-decoration-color: #00af00\">64</span>)             │           <span style=\"color: #00af00; text-decoration-color: #00af00\">128</span> │\n",
       "├─────────────────────────────────┼────────────────────────┼───────────────┤\n",
       "│ dense_1 (<span style=\"color: #0087ff; text-decoration-color: #0087ff\">Dense</span>)                 │ (<span style=\"color: #00d7ff; text-decoration-color: #00d7ff\">None</span>, <span style=\"color: #00af00; text-decoration-color: #00af00\">16</span>)             │         <span style=\"color: #00af00; text-decoration-color: #00af00\">1,040</span> │\n",
       "├─────────────────────────────────┼────────────────────────┼───────────────┤\n",
       "│ dense_2 (<span style=\"color: #0087ff; text-decoration-color: #0087ff\">Dense</span>)                 │ (<span style=\"color: #00d7ff; text-decoration-color: #00d7ff\">None</span>, <span style=\"color: #00af00; text-decoration-color: #00af00\">16</span>)             │           <span style=\"color: #00af00; text-decoration-color: #00af00\">272</span> │\n",
       "├─────────────────────────────────┼────────────────────────┼───────────────┤\n",
       "│ dense_3 (<span style=\"color: #0087ff; text-decoration-color: #0087ff\">Dense</span>)                 │ (<span style=\"color: #00d7ff; text-decoration-color: #00d7ff\">None</span>, <span style=\"color: #00af00; text-decoration-color: #00af00\">16</span>)             │           <span style=\"color: #00af00; text-decoration-color: #00af00\">272</span> │\n",
       "├─────────────────────────────────┼────────────────────────┼───────────────┤\n",
       "│ dense_4 (<span style=\"color: #0087ff; text-decoration-color: #0087ff\">Dense</span>)                 │ (<span style=\"color: #00d7ff; text-decoration-color: #00d7ff\">None</span>, <span style=\"color: #00af00; text-decoration-color: #00af00\">1</span>)              │            <span style=\"color: #00af00; text-decoration-color: #00af00\">17</span> │\n",
       "└─────────────────────────────────┴────────────────────────┴───────────────┘\n",
       "</pre>\n"
      ],
      "text/plain": [
       "┏━━━━━━━━━━━━━━━━━━━━━━━━━━━━━━━━━┳━━━━━━━━━━━━━━━━━━━━━━━━┳━━━━━━━━━━━━━━━┓\n",
       "┃\u001b[1m \u001b[0m\u001b[1mLayer (type)                   \u001b[0m\u001b[1m \u001b[0m┃\u001b[1m \u001b[0m\u001b[1mOutput Shape          \u001b[0m\u001b[1m \u001b[0m┃\u001b[1m \u001b[0m\u001b[1m      Param #\u001b[0m\u001b[1m \u001b[0m┃\n",
       "┡━━━━━━━━━━━━━━━━━━━━━━━━━━━━━━━━━╇━━━━━━━━━━━━━━━━━━━━━━━━╇━━━━━━━━━━━━━━━┩\n",
       "│ dense (\u001b[38;5;33mDense\u001b[0m)                   │ (\u001b[38;5;45mNone\u001b[0m, \u001b[38;5;34m64\u001b[0m)             │           \u001b[38;5;34m128\u001b[0m │\n",
       "├─────────────────────────────────┼────────────────────────┼───────────────┤\n",
       "│ dense_1 (\u001b[38;5;33mDense\u001b[0m)                 │ (\u001b[38;5;45mNone\u001b[0m, \u001b[38;5;34m16\u001b[0m)             │         \u001b[38;5;34m1,040\u001b[0m │\n",
       "├─────────────────────────────────┼────────────────────────┼───────────────┤\n",
       "│ dense_2 (\u001b[38;5;33mDense\u001b[0m)                 │ (\u001b[38;5;45mNone\u001b[0m, \u001b[38;5;34m16\u001b[0m)             │           \u001b[38;5;34m272\u001b[0m │\n",
       "├─────────────────────────────────┼────────────────────────┼───────────────┤\n",
       "│ dense_3 (\u001b[38;5;33mDense\u001b[0m)                 │ (\u001b[38;5;45mNone\u001b[0m, \u001b[38;5;34m16\u001b[0m)             │           \u001b[38;5;34m272\u001b[0m │\n",
       "├─────────────────────────────────┼────────────────────────┼───────────────┤\n",
       "│ dense_4 (\u001b[38;5;33mDense\u001b[0m)                 │ (\u001b[38;5;45mNone\u001b[0m, \u001b[38;5;34m1\u001b[0m)              │            \u001b[38;5;34m17\u001b[0m │\n",
       "└─────────────────────────────────┴────────────────────────┴───────────────┘\n"
      ]
     },
     "metadata": {},
     "output_type": "display_data"
    },
    {
     "data": {
      "text/html": [
       "<pre style=\"white-space:pre;overflow-x:auto;line-height:normal;font-family:Menlo,'DejaVu Sans Mono',consolas,'Courier New',monospace\"><span style=\"font-weight: bold\"> Total params: </span><span style=\"color: #00af00; text-decoration-color: #00af00\">1,729</span> (6.75 KB)\n",
       "</pre>\n"
      ],
      "text/plain": [
       "\u001b[1m Total params: \u001b[0m\u001b[38;5;34m1,729\u001b[0m (6.75 KB)\n"
      ]
     },
     "metadata": {},
     "output_type": "display_data"
    },
    {
     "data": {
      "text/html": [
       "<pre style=\"white-space:pre;overflow-x:auto;line-height:normal;font-family:Menlo,'DejaVu Sans Mono',consolas,'Courier New',monospace\"><span style=\"font-weight: bold\"> Trainable params: </span><span style=\"color: #00af00; text-decoration-color: #00af00\">1,729</span> (6.75 KB)\n",
       "</pre>\n"
      ],
      "text/plain": [
       "\u001b[1m Trainable params: \u001b[0m\u001b[38;5;34m1,729\u001b[0m (6.75 KB)\n"
      ]
     },
     "metadata": {},
     "output_type": "display_data"
    },
    {
     "data": {
      "text/html": [
       "<pre style=\"white-space:pre;overflow-x:auto;line-height:normal;font-family:Menlo,'DejaVu Sans Mono',consolas,'Courier New',monospace\"><span style=\"font-weight: bold\"> Non-trainable params: </span><span style=\"color: #00af00; text-decoration-color: #00af00\">0</span> (0.00 B)\n",
       "</pre>\n"
      ],
      "text/plain": [
       "\u001b[1m Non-trainable params: \u001b[0m\u001b[38;5;34m0\u001b[0m (0.00 B)\n"
      ]
     },
     "metadata": {},
     "output_type": "display_data"
    }
   ],
   "source": [
    "try:\n",
    "    del model\n",
    "except:\n",
    "    pass\n",
    "\n",
    "np.random.seed(1)\n",
    "keras.backend.clear_session(\n",
    "    free_memory = True\n",
    ")\n",
    "\n",
    "model = Sequential()\n",
    "model.add(Dense(64, input_dim = 1,  activation='relu')),\n",
    "model.add(Dense(16, activation='relu')),\n",
    "model.add(Dense(16, activation='relu')),\n",
    "model.add(Dense(16, activation='relu')),\n",
    "model.add(Dense(1, activation='linear'))\n",
    "\n",
    "model.summary()"
   ]
  },
  {
   "cell_type": "markdown",
   "metadata": {
    "id": "hqwViNn0zbjO"
   },
   "source": [
    "## Etapa 05\n",
    "Compilar o modelo.\n",
    "\n",
    "Optimizer: As opções são encontradas em https://keras.io/api/optimizers/\n",
    "\n",
    "Loss: As opções são encontradas em https://keras.io/api/losses/\n",
    "\n",
    "Metrics: As opções são encontradas em https://keras.io/api/metrics/"
   ]
  },
  {
   "cell_type": "code",
   "execution_count": 5,
   "metadata": {
    "executionInfo": {
     "elapsed": 398,
     "status": "ok",
     "timestamp": 1727114509844,
     "user": {
      "displayName": "Sarah Negreiros de Carvalho Leite",
      "userId": "03059545261666309656"
     },
     "user_tz": 180
    },
    "id": "PlF9j6dBzKuo"
   },
   "outputs": [],
   "source": [
    "otimizador = keras.optimizers.Adam()\n",
    "model.compile(optimizer= otimizador,\n",
    "              loss='mse',\n",
    "              metrics=['mae'])"
   ]
  },
  {
   "cell_type": "markdown",
   "metadata": {
    "id": "vwD7S4q9zuMg"
   },
   "source": [
    "## Etapa 06\n",
    "Treinar o modelo e realizar a validação."
   ]
  },
  {
   "cell_type": "code",
   "execution_count": 6,
   "metadata": {
    "colab": {
     "base_uri": "https://localhost:8080/",
     "height": 1000
    },
    "executionInfo": {
     "elapsed": 3672,
     "status": "ok",
     "timestamp": 1713379094428,
     "user": {
      "displayName": "Sarah Negreiros de Carvalho Leite",
      "userId": "03059545261666309656"
     },
     "user_tz": 180
    },
    "id": "9SRyEjAvzmMI",
    "outputId": "d61a0da3-cba8-43d4-80cb-1c0ff016426b"
   },
   "outputs": [
    {
     "name": "stdout",
     "output_type": "stream",
     "text": [
      "Epoch 1/100\n",
      "8/8 - 1s - 178ms/step - loss: 0.5080 - mae: 0.6421 - val_loss: 0.4874 - val_mae: 0.6269\n",
      "Epoch 2/100\n",
      "8/8 - 0s - 7ms/step - loss: 0.4608 - mae: 0.6054 - val_loss: 0.4657 - val_mae: 0.6102\n",
      "Epoch 3/100\n",
      "8/8 - 0s - 8ms/step - loss: 0.4423 - mae: 0.5902 - val_loss: 0.4460 - val_mae: 0.5940\n",
      "Epoch 4/100\n",
      "8/8 - 0s - 8ms/step - loss: 0.4226 - mae: 0.5740 - val_loss: 0.4239 - val_mae: 0.5758\n",
      "Epoch 5/100\n",
      "8/8 - 0s - 7ms/step - loss: 0.4018 - mae: 0.5568 - val_loss: 0.4004 - val_mae: 0.5566\n",
      "Epoch 6/100\n",
      "8/8 - 0s - 7ms/step - loss: 0.3781 - mae: 0.5383 - val_loss: 0.3733 - val_mae: 0.5339\n",
      "Epoch 7/100\n",
      "8/8 - 0s - 7ms/step - loss: 0.3526 - mae: 0.5187 - val_loss: 0.3441 - val_mae: 0.5082\n",
      "Epoch 8/100\n",
      "8/8 - 0s - 7ms/step - loss: 0.3266 - mae: 0.4970 - val_loss: 0.3155 - val_mae: 0.4828\n",
      "Epoch 9/100\n",
      "8/8 - 0s - 7ms/step - loss: 0.3017 - mae: 0.4753 - val_loss: 0.2884 - val_mae: 0.4601\n",
      "Epoch 10/100\n",
      "8/8 - 0s - 10ms/step - loss: 0.2782 - mae: 0.4555 - val_loss: 0.2636 - val_mae: 0.4374\n",
      "Epoch 11/100\n",
      "8/8 - 0s - 7ms/step - loss: 0.2587 - mae: 0.4368 - val_loss: 0.2417 - val_mae: 0.4172\n",
      "Epoch 12/100\n",
      "8/8 - 0s - 8ms/step - loss: 0.2410 - mae: 0.4211 - val_loss: 0.2247 - val_mae: 0.4029\n",
      "Epoch 13/100\n",
      "8/8 - 0s - 7ms/step - loss: 0.2263 - mae: 0.4071 - val_loss: 0.2089 - val_mae: 0.3886\n",
      "Epoch 14/100\n",
      "8/8 - 0s - 7ms/step - loss: 0.2145 - mae: 0.3953 - val_loss: 0.1956 - val_mae: 0.3769\n",
      "Epoch 15/100\n",
      "8/8 - 0s - 7ms/step - loss: 0.2023 - mae: 0.3839 - val_loss: 0.1853 - val_mae: 0.3684\n",
      "Epoch 16/100\n",
      "8/8 - 0s - 6ms/step - loss: 0.1932 - mae: 0.3777 - val_loss: 0.1778 - val_mae: 0.3642\n",
      "Epoch 17/100\n",
      "8/8 - 0s - 7ms/step - loss: 0.1825 - mae: 0.3660 - val_loss: 0.1642 - val_mae: 0.3485\n",
      "Epoch 18/100\n",
      "8/8 - 0s - 7ms/step - loss: 0.1722 - mae: 0.3542 - val_loss: 0.1585 - val_mae: 0.3474\n",
      "Epoch 19/100\n",
      "8/8 - 0s - 7ms/step - loss: 0.1647 - mae: 0.3506 - val_loss: 0.1516 - val_mae: 0.3416\n",
      "Epoch 20/100\n",
      "8/8 - 0s - 7ms/step - loss: 0.1559 - mae: 0.3408 - val_loss: 0.1424 - val_mae: 0.3316\n",
      "Epoch 21/100\n",
      "8/8 - 0s - 8ms/step - loss: 0.1479 - mae: 0.3314 - val_loss: 0.1339 - val_mae: 0.3231\n",
      "Epoch 22/100\n",
      "8/8 - 0s - 7ms/step - loss: 0.1407 - mae: 0.3220 - val_loss: 0.1277 - val_mae: 0.3173\n",
      "Epoch 23/100\n",
      "8/8 - 0s - 8ms/step - loss: 0.1334 - mae: 0.3144 - val_loss: 0.1230 - val_mae: 0.3133\n",
      "Epoch 24/100\n",
      "8/8 - 0s - 8ms/step - loss: 0.1277 - mae: 0.3087 - val_loss: 0.1161 - val_mae: 0.3037\n",
      "Epoch 25/100\n",
      "8/8 - 0s - 8ms/step - loss: 0.1214 - mae: 0.2973 - val_loss: 0.1107 - val_mae: 0.2970\n",
      "Epoch 26/100\n",
      "8/8 - 0s - 8ms/step - loss: 0.1156 - mae: 0.2915 - val_loss: 0.1069 - val_mae: 0.2916\n",
      "Epoch 27/100\n",
      "8/8 - 0s - 7ms/step - loss: 0.1111 - mae: 0.2830 - val_loss: 0.1030 - val_mae: 0.2854\n",
      "Epoch 28/100\n",
      "8/8 - 0s - 7ms/step - loss: 0.1063 - mae: 0.2787 - val_loss: 0.0985 - val_mae: 0.2771\n",
      "Epoch 29/100\n",
      "8/8 - 0s - 8ms/step - loss: 0.1015 - mae: 0.2662 - val_loss: 0.0919 - val_mae: 0.2643\n",
      "Epoch 30/100\n",
      "8/8 - 0s - 7ms/step - loss: 0.0973 - mae: 0.2609 - val_loss: 0.0907 - val_mae: 0.2619\n",
      "Epoch 31/100\n",
      "8/8 - 0s - 6ms/step - loss: 0.0932 - mae: 0.2513 - val_loss: 0.0855 - val_mae: 0.2508\n",
      "Epoch 32/100\n",
      "8/8 - 0s - 7ms/step - loss: 0.0883 - mae: 0.2449 - val_loss: 0.0857 - val_mae: 0.2501\n",
      "Epoch 33/100\n",
      "8/8 - 0s - 7ms/step - loss: 0.0846 - mae: 0.2392 - val_loss: 0.0788 - val_mae: 0.2346\n",
      "Epoch 34/100\n",
      "8/8 - 0s - 7ms/step - loss: 0.0825 - mae: 0.2276 - val_loss: 0.0770 - val_mae: 0.2305\n",
      "Epoch 35/100\n",
      "8/8 - 0s - 7ms/step - loss: 0.0777 - mae: 0.2219 - val_loss: 0.0758 - val_mae: 0.2276\n",
      "Epoch 36/100\n",
      "8/8 - 0s - 7ms/step - loss: 0.0747 - mae: 0.2147 - val_loss: 0.0695 - val_mae: 0.2127\n",
      "Epoch 37/100\n",
      "8/8 - 0s - 7ms/step - loss: 0.0722 - mae: 0.2112 - val_loss: 0.0695 - val_mae: 0.2136\n",
      "Epoch 38/100\n",
      "8/8 - 0s - 7ms/step - loss: 0.0683 - mae: 0.2001 - val_loss: 0.0656 - val_mae: 0.2041\n",
      "Epoch 39/100\n",
      "8/8 - 0s - 7ms/step - loss: 0.0647 - mae: 0.1966 - val_loss: 0.0645 - val_mae: 0.2021\n",
      "Epoch 40/100\n",
      "8/8 - 0s - 8ms/step - loss: 0.0614 - mae: 0.1891 - val_loss: 0.0613 - val_mae: 0.1938\n",
      "Epoch 41/100\n",
      "8/8 - 0s - 7ms/step - loss: 0.0582 - mae: 0.1803 - val_loss: 0.0572 - val_mae: 0.1830\n",
      "Epoch 42/100\n",
      "8/8 - 0s - 7ms/step - loss: 0.0556 - mae: 0.1717 - val_loss: 0.0564 - val_mae: 0.1817\n",
      "Epoch 43/100\n",
      "8/8 - 0s - 7ms/step - loss: 0.0533 - mae: 0.1732 - val_loss: 0.0523 - val_mae: 0.1744\n",
      "Epoch 44/100\n",
      "8/8 - 0s - 8ms/step - loss: 0.0501 - mae: 0.1614 - val_loss: 0.0509 - val_mae: 0.1704\n",
      "Epoch 45/100\n",
      "8/8 - 0s - 8ms/step - loss: 0.0476 - mae: 0.1622 - val_loss: 0.0471 - val_mae: 0.1582\n",
      "Epoch 46/100\n",
      "8/8 - 0s - 8ms/step - loss: 0.0443 - mae: 0.1492 - val_loss: 0.0444 - val_mae: 0.1523\n",
      "Epoch 47/100\n",
      "8/8 - 0s - 7ms/step - loss: 0.0410 - mae: 0.1444 - val_loss: 0.0429 - val_mae: 0.1533\n",
      "Epoch 48/100\n",
      "8/8 - 0s - 8ms/step - loss: 0.0384 - mae: 0.1417 - val_loss: 0.0384 - val_mae: 0.1385\n",
      "Epoch 49/100\n",
      "8/8 - 0s - 7ms/step - loss: 0.0356 - mae: 0.1348 - val_loss: 0.0356 - val_mae: 0.1377\n",
      "Epoch 50/100\n",
      "8/8 - 0s - 7ms/step - loss: 0.0331 - mae: 0.1308 - val_loss: 0.0338 - val_mae: 0.1321\n",
      "Epoch 51/100\n",
      "8/8 - 0s - 7ms/step - loss: 0.0299 - mae: 0.1219 - val_loss: 0.0300 - val_mae: 0.1200\n",
      "Epoch 52/100\n",
      "8/8 - 0s - 7ms/step - loss: 0.0275 - mae: 0.1158 - val_loss: 0.0280 - val_mae: 0.1174\n",
      "Epoch 53/100\n",
      "8/8 - 0s - 7ms/step - loss: 0.0251 - mae: 0.1094 - val_loss: 0.0259 - val_mae: 0.1068\n",
      "Epoch 54/100\n",
      "8/8 - 0s - 8ms/step - loss: 0.0227 - mae: 0.1014 - val_loss: 0.0247 - val_mae: 0.1080\n",
      "Epoch 55/100\n",
      "8/8 - 0s - 7ms/step - loss: 0.0214 - mae: 0.1000 - val_loss: 0.0224 - val_mae: 0.0938\n",
      "Epoch 56/100\n",
      "8/8 - 0s - 7ms/step - loss: 0.0196 - mae: 0.0942 - val_loss: 0.0223 - val_mae: 0.1042\n",
      "Epoch 57/100\n",
      "8/8 - 0s - 6ms/step - loss: 0.0180 - mae: 0.0888 - val_loss: 0.0199 - val_mae: 0.0863\n",
      "Epoch 58/100\n",
      "8/8 - 0s - 6ms/step - loss: 0.0170 - mae: 0.0850 - val_loss: 0.0191 - val_mae: 0.0807\n",
      "Epoch 59/100\n",
      "8/8 - 0s - 7ms/step - loss: 0.0170 - mae: 0.0870 - val_loss: 0.0186 - val_mae: 0.0946\n",
      "Epoch 60/100\n",
      "8/8 - 0s - 7ms/step - loss: 0.0149 - mae: 0.0796 - val_loss: 0.0174 - val_mae: 0.0827\n",
      "Epoch 61/100\n",
      "8/8 - 0s - 6ms/step - loss: 0.0137 - mae: 0.0771 - val_loss: 0.0161 - val_mae: 0.0711\n",
      "Epoch 62/100\n",
      "8/8 - 0s - 7ms/step - loss: 0.0125 - mae: 0.0685 - val_loss: 0.0160 - val_mae: 0.0749\n",
      "Epoch 63/100\n",
      "8/8 - 0s - 6ms/step - loss: 0.0119 - mae: 0.0668 - val_loss: 0.0146 - val_mae: 0.0667\n",
      "Epoch 64/100\n",
      "8/8 - 0s - 6ms/step - loss: 0.0112 - mae: 0.0615 - val_loss: 0.0145 - val_mae: 0.0692\n",
      "Epoch 65/100\n",
      "8/8 - 0s - 8ms/step - loss: 0.0104 - mae: 0.0605 - val_loss: 0.0132 - val_mae: 0.0609\n",
      "Epoch 66/100\n",
      "8/8 - 0s - 6ms/step - loss: 0.0097 - mae: 0.0556 - val_loss: 0.0126 - val_mae: 0.0579\n",
      "Epoch 67/100\n",
      "8/8 - 0s - 10ms/step - loss: 0.0092 - mae: 0.0536 - val_loss: 0.0121 - val_mae: 0.0590\n",
      "Epoch 68/100\n",
      "8/8 - 0s - 6ms/step - loss: 0.0091 - mae: 0.0551 - val_loss: 0.0119 - val_mae: 0.0676\n",
      "Epoch 69/100\n",
      "8/8 - 0s - 7ms/step - loss: 0.0083 - mae: 0.0550 - val_loss: 0.0112 - val_mae: 0.0629\n",
      "Epoch 70/100\n",
      "8/8 - 0s - 7ms/step - loss: 0.0078 - mae: 0.0521 - val_loss: 0.0106 - val_mae: 0.0571\n",
      "Epoch 71/100\n",
      "8/8 - 0s - 7ms/step - loss: 0.0073 - mae: 0.0480 - val_loss: 0.0099 - val_mae: 0.0482\n",
      "Epoch 72/100\n",
      "8/8 - 0s - 7ms/step - loss: 0.0068 - mae: 0.0439 - val_loss: 0.0094 - val_mae: 0.0467\n",
      "Epoch 73/100\n",
      "8/8 - 0s - 7ms/step - loss: 0.0064 - mae: 0.0407 - val_loss: 0.0089 - val_mae: 0.0447\n",
      "Epoch 74/100\n",
      "8/8 - 0s - 9ms/step - loss: 0.0061 - mae: 0.0394 - val_loss: 0.0085 - val_mae: 0.0430\n",
      "Epoch 75/100\n",
      "8/8 - 0s - 6ms/step - loss: 0.0058 - mae: 0.0385 - val_loss: 0.0083 - val_mae: 0.0453\n",
      "Epoch 76/100\n",
      "8/8 - 0s - 7ms/step - loss: 0.0055 - mae: 0.0376 - val_loss: 0.0077 - val_mae: 0.0404\n",
      "Epoch 77/100\n",
      "8/8 - 0s - 6ms/step - loss: 0.0052 - mae: 0.0370 - val_loss: 0.0074 - val_mae: 0.0417\n",
      "Epoch 78/100\n",
      "8/8 - 0s - 6ms/step - loss: 0.0049 - mae: 0.0355 - val_loss: 0.0071 - val_mae: 0.0416\n",
      "Epoch 79/100\n",
      "8/8 - 0s - 6ms/step - loss: 0.0047 - mae: 0.0347 - val_loss: 0.0072 - val_mae: 0.0484\n",
      "Epoch 80/100\n",
      "8/8 - 0s - 6ms/step - loss: 0.0046 - mae: 0.0356 - val_loss: 0.0064 - val_mae: 0.0366\n",
      "Epoch 81/100\n",
      "8/8 - 0s - 6ms/step - loss: 0.0042 - mae: 0.0319 - val_loss: 0.0061 - val_mae: 0.0353\n",
      "Epoch 82/100\n",
      "8/8 - 0s - 6ms/step - loss: 0.0040 - mae: 0.0294 - val_loss: 0.0059 - val_mae: 0.0344\n",
      "Epoch 83/100\n",
      "8/8 - 0s - 6ms/step - loss: 0.0038 - mae: 0.0295 - val_loss: 0.0056 - val_mae: 0.0318\n",
      "Epoch 84/100\n",
      "8/8 - 0s - 7ms/step - loss: 0.0036 - mae: 0.0280 - val_loss: 0.0055 - val_mae: 0.0366\n",
      "Epoch 85/100\n",
      "8/8 - 0s - 8ms/step - loss: 0.0034 - mae: 0.0274 - val_loss: 0.0051 - val_mae: 0.0307\n",
      "Epoch 86/100\n",
      "8/8 - 0s - 7ms/step - loss: 0.0032 - mae: 0.0249 - val_loss: 0.0049 - val_mae: 0.0321\n",
      "Epoch 87/100\n",
      "8/8 - 0s - 7ms/step - loss: 0.0031 - mae: 0.0262 - val_loss: 0.0046 - val_mae: 0.0303\n",
      "Epoch 88/100\n",
      "8/8 - 0s - 8ms/step - loss: 0.0029 - mae: 0.0244 - val_loss: 0.0044 - val_mae: 0.0279\n",
      "Epoch 89/100\n",
      "8/8 - 0s - 7ms/step - loss: 0.0028 - mae: 0.0224 - val_loss: 0.0042 - val_mae: 0.0282\n",
      "Epoch 90/100\n",
      "8/8 - 0s - 7ms/step - loss: 0.0027 - mae: 0.0225 - val_loss: 0.0040 - val_mae: 0.0258\n",
      "Epoch 91/100\n",
      "8/8 - 0s - 6ms/step - loss: 0.0025 - mae: 0.0217 - val_loss: 0.0038 - val_mae: 0.0261\n",
      "Epoch 92/100\n",
      "8/8 - 0s - 7ms/step - loss: 0.0024 - mae: 0.0211 - val_loss: 0.0037 - val_mae: 0.0259\n",
      "Epoch 93/100\n",
      "8/8 - 0s - 7ms/step - loss: 0.0023 - mae: 0.0205 - val_loss: 0.0035 - val_mae: 0.0240\n",
      "Epoch 94/100\n",
      "8/8 - 0s - 7ms/step - loss: 0.0022 - mae: 0.0198 - val_loss: 0.0033 - val_mae: 0.0232\n",
      "Epoch 95/100\n",
      "8/8 - 0s - 7ms/step - loss: 0.0021 - mae: 0.0191 - val_loss: 0.0032 - val_mae: 0.0230\n",
      "Epoch 96/100\n",
      "8/8 - 0s - 7ms/step - loss: 0.0020 - mae: 0.0184 - val_loss: 0.0030 - val_mae: 0.0223\n",
      "Epoch 97/100\n",
      "8/8 - 0s - 7ms/step - loss: 0.0019 - mae: 0.0175 - val_loss: 0.0029 - val_mae: 0.0221\n",
      "Epoch 98/100\n",
      "8/8 - 0s - 7ms/step - loss: 0.0018 - mae: 0.0171 - val_loss: 0.0028 - val_mae: 0.0206\n",
      "Epoch 99/100\n",
      "8/8 - 0s - 6ms/step - loss: 0.0017 - mae: 0.0165 - val_loss: 0.0027 - val_mae: 0.0215\n",
      "Epoch 100/100\n",
      "8/8 - 0s - 7ms/step - loss: 0.0017 - mae: 0.0165 - val_loss: 0.0025 - val_mae: 0.0195\n"
     ]
    },
    {
     "data": {
      "image/png": "[encoded data removed]",
      "text/plain": [
       "<Figure size 640x480 with 1 Axes>"
      ]
     },
     "metadata": {},
     "output_type": "display_data"
    }
   ],
   "source": [
    "history = model.fit(x_train, y_train, epochs=100, batch_size=64, verbose=2, validation_data=(x_test, y_test))\n",
    "plt.plot(history.history['mae'], label = 'treinamento')\n",
    "plt.plot(history.history['val_mae'], label='validacao')\n",
    "plt.title('Acurácia do modelo')\n",
    "plt.ylabel('Acurácia')\n",
    "plt.xlabel('Épocas')\n",
    "plt.legend(['treinamento', 'validacao'], loc='upper left')\n",
    "plt.show()"
   ]
  },
  {
   "cell_type": "markdown",
   "metadata": {
    "id": "2wA8zRaD0y86"
   },
   "source": [
    "## Etapa 07\n",
    "Realizar algumas predições."
   ]
  },
  {
   "cell_type": "code",
   "execution_count": 9,
   "metadata": {
    "colab": {
     "base_uri": "https://localhost:8080/"
    },
    "executionInfo": {
     "elapsed": 8,
     "status": "ok",
     "timestamp": 1713379094978,
     "user": {
      "displayName": "Sarah Negreiros de Carvalho Leite",
      "userId": "03059545261666309656"
     },
     "user_tz": 180
    },
    "id": "bwWLfMI6ob_j",
    "outputId": "d83a8928-62a6-4ff8-d085-20211cefbf9b"
   },
   "outputs": [
    {
     "name": "stdout",
     "output_type": "stream",
     "text": [
      "\u001b[1m6/6\u001b[0m \u001b[32m━━━━━━━━━━━━━━━━━━━━\u001b[0m\u001b[37m\u001b[0m \u001b[1m0s\u001b[0m 1ms/step \n"
     ]
    },
    {
     "data": {
      "text/plain": [
       "<matplotlib.legend.Legend at 0x79e9fe549550>"
      ]
     },
     "execution_count": 9,
     "metadata": {},
     "output_type": "execute_result"
    },
    {
     "data": {
      "image/png": "[encoded data removed]",
      "text/plain": [
       "<Figure size 640x480 with 1 Axes>"
      ]
     },
     "metadata": {},
     "output_type": "display_data"
    }
   ],
   "source": [
    "y_pred = model.predict(x_test)\n",
    "\n",
    "plt.plot(x_train, y_train, '-', label='Dados Treinamento')\n",
    "plt.plot(x_test, y_pred, '--', label='Dados Validação')\n",
    "plt.legend()"
   ]
  },
  {
   "cell_type": "code",
   "execution_count": 10,
   "metadata": {
    "colab": {
     "base_uri": "https://localhost:8080/"
    },
    "executionInfo": {
     "elapsed": 6,
     "status": "ok",
     "timestamp": 1713379094978,
     "user": {
      "displayName": "Sarah Negreiros de Carvalho Leite",
      "userId": "03059545261666309656"
     },
     "user_tz": 180
    },
    "id": "JHaRjEXNn2r_",
    "outputId": "7c7d8d7e-94f2-42f2-f955-71e17aca52c8"
   },
   "outputs": [
    {
     "name": "stdout",
     "output_type": "stream",
     "text": [
      "\u001b[1m16/16\u001b[0m \u001b[32m━━━━━━━━━━━━━━━━━━━━\u001b[0m\u001b[37m\u001b[0m \u001b[1m0s\u001b[0m 1ms/step - loss: 0.0048 - mae: 0.0327 \n"
     ]
    },
    {
     "data": {
      "text/plain": [
       "[0.0016100568464025855, 0.015384125523269176]"
      ]
     },
     "execution_count": 10,
     "metadata": {},
     "output_type": "execute_result"
    }
   ],
   "source": [
    "model.evaluate(x_train, y_train)"
   ]
  }
 ],
 "metadata": {
  "colab": {
   "provenance": [
    {
     "file_id": "1RJKirLkbYK9RnBmeoNdbDj9KqaGSxgMw",
     "timestamp": 1712843183705
    }
   ]
  },
  "kernelspec": {
   "display_name": "Python 3 (ipykernel)",
   "language": "python",
   "name": "python3"
  },
  "language_info": {
   "codemirror_mode": {
    "name": "ipython",
    "version": 3
   },
   "file_extension": ".py",
   "mimetype": "text/x-python",
   "name": "python",
   "nbconvert_exporter": "python",
   "pygments_lexer": "ipython3",
   "version": "3.11.10"
  }
 },
 "nbformat": 4,
 "nbformat_minor": 4
}

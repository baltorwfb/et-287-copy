{
 "cells": [
  {
   "cell_type": "markdown",
   "id": "d915b9b3-7fbb-4bbb-be73-1ab923bcf45f",
   "metadata": {},
   "source": [
    "# Exercise: Handwritten digit classification\n",
    "\n",
    "This exercise is independent of the example given by the teacher `unit3_example_mlp_mnist.ipynb` and is developed following the [Keras introduction for engineers](https://keras.io/getting_started/intro_to_keras_for_engineers/)."
   ]
  },
  {
   "cell_type": "markdown",
   "id": "4e6de829-340d-479a-82ad-56a695fd0dd2",
   "metadata": {},
   "source": [
    "Basic imports:"
   ]
  },
  {
   "cell_type": "code",
   "execution_count": 45,
   "id": "1dd8f4c7-6813-403c-9214-6d711a5db968",
   "metadata": {},
   "outputs": [
    {
     "name": "stdout",
     "output_type": "stream",
     "text": [
      "3.5.0\n",
      "1.26.4\n"
     ]
    }
   ],
   "source": [
    "import numpy as np\n",
    "import os\n",
    "\n",
    "os.environ[\"KERAS_BACKEND\"] = 'tensorflow'\n",
    "\n",
    "import keras\n",
    "\n",
    "print(keras.__version__)\n",
    "print(np.__version__)"
   ]
  },
  {
   "cell_type": "markdown",
   "id": "4e08e704-052d-4bdf-82ea-5b39ab064b5c",
   "metadata": {},
   "source": [
    "Loading data:"
   ]
  },
  {
   "cell_type": "code",
   "execution_count": 50,
   "id": "72a5bddb-1b45-4457-aca4-31026c05843a",
   "metadata": {},
   "outputs": [],
   "source": [
    "(x_train, y_train), (x_test, y_test) = keras.datasets.mnist.load_data()"
   ]
  },
  {
   "cell_type": "markdown",
   "id": "e6837336-ef7c-4bfc-9515-a7c2c699cfea",
   "metadata": {},
   "source": [
    "Exploring the data:"
   ]
  },
  {
   "cell_type": "code",
   "execution_count": 56,
   "id": "795b8b7e-477e-4ac3-b203-5063b3ddfd60",
   "metadata": {},
   "outputs": [
    {
     "name": "stdout",
     "output_type": "stream",
     "text": [
      "(60000, 28, 28) (60000,) (10000, 28, 28) (10000,)\n",
      "<class 'numpy.ndarray'> <class 'numpy.ndarray'> <class 'numpy.ndarray'> <class 'numpy.ndarray'>\n",
      "uint8 uint8 uint8 uint8\n",
      "255 0 255 0\n",
      "9 0 9 0\n"
     ]
    }
   ],
   "source": [
    "print(x_train.shape, y_train.shape, x_test.shape, y_test.shape)\n",
    "print(type(x_train), type(y_train), type(x_test), type(y_test))\n",
    "print(x_train.dtype, y_train.dtype, x_test.dtype, y_test.dtype)\n",
    "print(x_train.max(), x_train.min(), x_test.max(), x_test.min())\n",
    "print(y_train.max(), y_train.min(), y_test.max(), y_test.min())"
   ]
  },
  {
   "cell_type": "markdown",
   "id": "0c4c1a38-0a1b-4e53-a7f8-dff0f8fe2d89",
   "metadata": {},
   "source": [
    "Scaling the images to 0-1 interval:"
   ]
  },
  {
   "cell_type": "code",
   "execution_count": 57,
   "id": "39c3b132-b916-4c8b-8cfc-16d1ef27e903",
   "metadata": {},
   "outputs": [],
   "source": [
    "x_train = x_train.astype('float32') / 255\n",
    "x_test = x_test.astype('float32') / 255"
   ]
  },
  {
   "cell_type": "markdown",
   "id": "4c950cc3-f724-42c6-a56b-b0dc41d666ce",
   "metadata": {},
   "source": [
    "Adding a new dimension that represent the channel. Since we are operating in grayscale there is only one channel. If the image were colorful, we would probably have three channels (RGB)."
   ]
  },
  {
   "cell_type": "code",
   "execution_count": 58,
   "id": "dc6beaf0-d0f0-4786-800c-a3b3fd7ec198",
   "metadata": {},
   "outputs": [],
   "source": [
    "x_train = np.expand_dims(x_train, -1)\n",
    "x_test = np.expand_dims(x_test, -1)"
   ]
  },
  {
   "cell_type": "code",
   "execution_count": 59,
   "id": "2e34205d-95b7-4081-a8c0-f9ddf02e537d",
   "metadata": {},
   "outputs": [
    {
     "name": "stdout",
     "output_type": "stream",
     "text": [
      "x_train shape: (60000, 28, 28, 1)\n",
      "y_train shape: (60000,)\n",
      "60000 train samples\n",
      "10000 test samples\n"
     ]
    }
   ],
   "source": [
    "print(\"x_train shape:\", x_train.shape)\n",
    "print(\"y_train shape:\", y_train.shape)\n",
    "print(x_train.shape[0], \"train samples\")\n",
    "print(x_test.shape[0], \"test samples\")"
   ]
  },
  {
   "cell_type": "markdown",
   "id": "d57cd27a-247b-42d4-8193-8c5fa75f3a5a",
   "metadata": {},
   "source": [
    "Example of a point more or less in the middle of the image. Notice that it is a tensor of shape 1, since there is only the grayscale channel."
   ]
  },
  {
   "cell_type": "code",
   "execution_count": 73,
   "id": "5719acd5-b183-468e-9b3f-7d760a37e96f",
   "metadata": {},
   "outputs": [
    {
     "data": {
      "text/plain": [
       "array([0.9411765], dtype=float32)"
      ]
     },
     "execution_count": 73,
     "metadata": {},
     "output_type": "execute_result"
    }
   ],
   "source": [
    "x_train[0, 14, 14]"
   ]
  }
 ],
 "metadata": {
  "kernelspec": {
   "display_name": "Python 3 (ipykernel)",
   "language": "python",
   "name": "python3"
  },
  "language_info": {
   "codemirror_mode": {
    "name": "ipython",
    "version": 3
   },
   "file_extension": ".py",
   "mimetype": "text/x-python",
   "name": "python",
   "nbconvert_exporter": "python",
   "pygments_lexer": "ipython3",
   "version": "3.11.10"
  }
 },
 "nbformat": 4,
 "nbformat_minor": 5
}

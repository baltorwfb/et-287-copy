{
 "cells": [
  {
   "cell_type": "markdown",
   "metadata": {
    "id": "-Uf48_np8oMb"
   },
   "source": [
    "#Fundamentos de Álgebra Linear no Python - NumPy"
   ]
  },
  {
   "cell_type": "markdown",
   "metadata": {
    "id": "o7_3bx_rxYSq"
   },
   "source": [
    "O Python disponibiliza uma variedade interessante de ferramentas para tratar com matrizes e vetores. Em particular, vamos empregar a biblioteca de computação científica NumPy, que facilita muito a manipulação algébrica de matrizes.\n",
    "\n",
    "Este roteiro foi baseado no material disponível em:\n",
    "\n",
    "(1)http://www.sakurai.dev.br/revisao-algebra-linear-python/\n",
    "\n",
    "(2)https://www.dca.fee.unicamp.br/~vonzuben/courses/ia353_1s20/topico3_IA353_1s2020.pdf\n",
    "\n",
    "(3) Tutorial disponível no site do NumPy: https://numpy.org/.\n",
    "\n",
    "\n",
    "Para importar a biblioteca NumPy:"
   ]
  },
  {
   "cell_type": "code",
   "execution_count": 1,
   "metadata": {
    "executionInfo": {
     "elapsed": 3,
     "status": "ok",
     "timestamp": 1723468445849,
     "user": {
      "displayName": "Sarah Negreiros de Carvalho Leite",
      "userId": "03059545261666309656"
     },
     "user_tz": 180
    },
    "id": "rBXt6394mDvm"
   },
   "outputs": [],
   "source": [
    "import numpy as np"
   ]
  },
  {
   "cell_type": "code",
   "execution_count": 2,
   "metadata": {
    "id": "Z24DGXJ-L6B9"
   },
   "outputs": [],
   "source": [
    "x = 5"
   ]
  },
  {
   "cell_type": "markdown",
   "metadata": {
    "id": "9Eifi8jAmoq8"
   },
   "source": [
    "No Python, vetores e matrizes são representados por um ***array*** do NumPy.\n",
    "\n",
    "Um *array* é uma grade de valores que contém informações do mesmo tipo.\n",
    "\n",
    "\n",
    "Para criar um *array* fazemos:"
   ]
  },
  {
   "cell_type": "markdown",
   "metadata": {
    "id": "lc2dOHlONGdG"
   },
   "source": [
    "#GERANDO ARRAYS"
   ]
  },
  {
   "cell_type": "markdown",
   "metadata": {
    "id": "DIX843efOwxP"
   },
   "source": [
    "###VETOR"
   ]
  },
  {
   "cell_type": "code",
   "execution_count": 3,
   "metadata": {
    "colab": {
     "base_uri": "https://localhost:8080/"
    },
    "executionInfo": {
     "elapsed": 312,
     "status": "ok",
     "timestamp": 1723468452649,
     "user": {
      "displayName": "Sarah Negreiros de Carvalho Leite",
      "userId": "03059545261666309656"
     },
     "user_tz": 180
    },
    "id": "40lMuTqu3jLL",
    "outputId": "f27e745c-fdbf-4e16-d8c0-7b246fda1574"
   },
   "outputs": [
    {
     "name": "stdout",
     "output_type": "stream",
     "text": [
      "vetor =  [1 2 7]\n"
     ]
    }
   ],
   "source": [
    "#criando um vetor com 3 elementos\n",
    "vetor1d = np.array([1,2,7])\n",
    "print('vetor = ', vetor1d)"
   ]
  },
  {
   "cell_type": "code",
   "execution_count": 4,
   "metadata": {
    "colab": {
     "base_uri": "https://localhost:8080/"
    },
    "executionInfo": {
     "elapsed": 318,
     "status": "ok",
     "timestamp": 1723468552243,
     "user": {
      "displayName": "Sarah Negreiros de Carvalho Leite",
      "userId": "03059545261666309656"
     },
     "user_tz": 180
    },
    "id": "KAUFcprTNOs3",
    "outputId": "1474c140-8a24-4798-c8ec-204e2d399100"
   },
   "outputs": [
    {
     "name": "stdout",
     "output_type": "stream",
     "text": [
      "vetor =  [1 2 7]\n",
      "vetor =  [1 2 7]\n"
     ]
    }
   ],
   "source": [
    "vetor1dt = vetor1d.T\n",
    "print('vetor = ', vetor1dt)\n",
    "\n",
    "vetor1dt = np.transpose(vetor1d)\n",
    "print('vetor = ', vetor1dt)"
   ]
  },
  {
   "cell_type": "code",
   "execution_count": 5,
   "metadata": {
    "colab": {
     "base_uri": "https://localhost:8080/"
    },
    "executionInfo": {
     "elapsed": 292,
     "status": "ok",
     "timestamp": 1710350644668,
     "user": {
      "displayName": "Sarah Negreiros de Carvalho Leite",
      "userId": "03059545261666309656"
     },
     "user_tz": 180
    },
    "id": "8IVHL9M_1Q5w",
    "outputId": "f0cf64fa-4d49-476f-8f89-3f17b116ab9c"
   },
   "outputs": [
    {
     "name": "stdout",
     "output_type": "stream",
     "text": [
      "vetor transposto = \n",
      " [[1]\n",
      " [2]\n",
      " [7]]\n"
     ]
    }
   ],
   "source": [
    "vetor2 = np.array([[1], [2], [7]])\n",
    "print('vetor transposto = \\n', vetor2)"
   ]
  },
  {
   "cell_type": "code",
   "execution_count": 6,
   "metadata": {
    "colab": {
     "base_uri": "https://localhost:8080/"
    },
    "executionInfo": {
     "elapsed": 6,
     "status": "ok",
     "timestamp": 1710350833421,
     "user": {
      "displayName": "Sarah Negreiros de Carvalho Leite",
      "userId": "03059545261666309656"
     },
     "user_tz": 180
    },
    "id": "nG9jTqKT2Izv",
    "outputId": "993e2091-9d9e-40b3-c3ab-ca0779aa57ff"
   },
   "outputs": [
    {
     "data": {
      "text/plain": [
       "array([1., 1., 1., 1., 1.])"
      ]
     },
     "execution_count": 6,
     "metadata": {},
     "output_type": "execute_result"
    }
   ],
   "source": [
    "uns = np.ones(5)\n",
    "uns"
   ]
  },
  {
   "cell_type": "code",
   "execution_count": 7,
   "metadata": {
    "colab": {
     "base_uri": "https://localhost:8080/"
    },
    "executionInfo": {
     "elapsed": 319,
     "status": "ok",
     "timestamp": 1710350923361,
     "user": {
      "displayName": "Sarah Negreiros de Carvalho Leite",
      "userId": "03059545261666309656"
     },
     "user_tz": 180
    },
    "id": "QjmCpBSx2spO",
    "outputId": "6972a42a-368b-4604-92a3-0055ed7e3529"
   },
   "outputs": [
    {
     "data": {
      "text/plain": [
       "array([0., 0., 0., 0., 0.])"
      ]
     },
     "execution_count": 7,
     "metadata": {},
     "output_type": "execute_result"
    }
   ],
   "source": [
    "zeros = np.zeros(5)\n",
    "zeros"
   ]
  },
  {
   "cell_type": "markdown",
   "metadata": {
    "id": "Fnb8q0slO0WD"
   },
   "source": [
    "###MATRIZ"
   ]
  },
  {
   "cell_type": "code",
   "execution_count": 8,
   "metadata": {
    "colab": {
     "base_uri": "https://localhost:8080/"
    },
    "executionInfo": {
     "elapsed": 338,
     "status": "ok",
     "timestamp": 1722889860282,
     "user": {
      "displayName": "Sarah Negreiros de Carvalho Leite",
      "userId": "03059545261666309656"
     },
     "user_tz": 180
    },
    "id": "wjumQpNqmmT6",
    "outputId": "7a105daf-bda0-4af0-eb01-933383446ced"
   },
   "outputs": [
    {
     "name": "stdout",
     "output_type": "stream",
     "text": [
      "matriz =\n",
      " [[1 2 3]\n",
      " [4 5 6]\n",
      " [7 8 9]]\n"
     ]
    }
   ],
   "source": [
    "#criando uma matriz 3x3\n",
    "matriz = np.array([[1,2,3],[4,5,6],[7,8,9]])\n",
    "print('matriz =\\n',matriz)"
   ]
  },
  {
   "cell_type": "code",
   "execution_count": 9,
   "metadata": {
    "colab": {
     "base_uri": "https://localhost:8080/"
    },
    "executionInfo": {
     "elapsed": 308,
     "status": "ok",
     "timestamp": 1722889865283,
     "user": {
      "displayName": "Sarah Negreiros de Carvalho Leite",
      "userId": "03059545261666309656"
     },
     "user_tz": 180
    },
    "id": "_mGD2aGx3hRM",
    "outputId": "dfec4ede-8a79-48ad-dd25-f68b5dc0dad1"
   },
   "outputs": [
    {
     "data": {
      "text/plain": [
       "array([[1, 4, 7],\n",
       "       [2, 5, 8],\n",
       "       [3, 6, 9]])"
      ]
     },
     "execution_count": 9,
     "metadata": {},
     "output_type": "execute_result"
    }
   ],
   "source": [
    "matriz_transposta = matriz.T   #np.transpose(matriz)\n",
    "matriz_transposta"
   ]
  },
  {
   "cell_type": "markdown",
   "metadata": {
    "id": "LtEVLe3QBT7j"
   },
   "source": [
    "###Gerando *arrays* de dimensão *n* com valores aleatórios"
   ]
  },
  {
   "cell_type": "code",
   "execution_count": 10,
   "metadata": {
    "colab": {
     "base_uri": "https://localhost:8080/"
    },
    "executionInfo": {
     "elapsed": 313,
     "status": "ok",
     "timestamp": 1722890246435,
     "user": {
      "displayName": "Sarah Negreiros de Carvalho Leite",
      "userId": "03059545261666309656"
     },
     "user_tz": 180
    },
    "id": "uZGatQEyBQYP",
    "outputId": "a8864563-2105-453a-edee-bf79f2195fa4"
   },
   "outputs": [
    {
     "name": "stdout",
     "output_type": "stream",
     "text": [
      "X_1D = \n",
      " [0.92446351 0.2480475  0.0827352 ]\n",
      "X_2D = \n",
      " [[0.08524389 0.14157036 0.81392758]\n",
      " [0.22524762 0.85291303 0.86251474]]\n",
      "X_3D = \n",
      " [[[0.65088223 0.6676784  0.87711838 0.83089573]\n",
      "  [0.37299511 0.43016683 0.02749658 0.53336506]\n",
      "  [0.08558734 0.6663644  0.01838461 0.76148592]]\n",
      "\n",
      " [[0.87241909 0.93511575 0.08388359 0.52153626]\n",
      "  [0.22568829 0.19063853 0.10198247 0.43963604]\n",
      "  [0.88543773 0.13813687 0.65306291 0.18749306]]]\n",
      "X_4D = \n",
      " [[[[0.32748037 0.48908077]\n",
      "   [0.51980699 0.04594096]]\n",
      "\n",
      "  [[0.87065238 0.32349763]\n",
      "   [0.06470845 0.56953339]]\n",
      "\n",
      "  [[0.99542275 0.76451028]\n",
      "   [0.08687684 0.01146806]]]\n",
      "\n",
      "\n",
      " [[[0.53254286 0.26593628]\n",
      "   [0.8292478  0.16748204]]\n",
      "\n",
      "  [[0.16508303 0.0491646 ]\n",
      "   [0.17040635 0.16117764]]\n",
      "\n",
      "  [[0.57650588 0.01785783]\n",
      "   [0.69908571 0.34990976]]]]\n"
     ]
    }
   ],
   "source": [
    "x_1D = np.random.rand(3)\n",
    "x_2D = np.random.rand(2,3)\n",
    "x_3D = np.random.rand(2,3,4)\n",
    "x_4D = np.random.rand(2,3,2,2)\n",
    "\n",
    "print('X_1D = \\n',x_1D)\n",
    "print('X_2D = \\n',x_2D)\n",
    "print('X_3D = \\n',x_3D)\n",
    "print('X_4D = \\n',x_4D)"
   ]
  },
  {
   "cell_type": "markdown",
   "metadata": {
    "id": "LF-JmLjGEOC3"
   },
   "source": [
    "###Acessando os elementos do array 4D"
   ]
  },
  {
   "cell_type": "code",
   "execution_count": 11,
   "metadata": {
    "colab": {
     "base_uri": "https://localhost:8080/"
    },
    "executionInfo": {
     "elapsed": 280,
     "status": "ok",
     "timestamp": 1710351553774,
     "user": {
      "displayName": "Sarah Negreiros de Carvalho Leite",
      "userId": "03059545261666309656"
     },
     "user_tz": 180
    },
    "id": "u8f9YPOpeB5x",
    "outputId": "aaad0b91-2678-4b60-eec6-41af1571b782"
   },
   "outputs": [
    {
     "data": {
      "text/plain": [
       "0.045940955948728934"
      ]
     },
     "execution_count": 11,
     "metadata": {},
     "output_type": "execute_result"
    }
   ],
   "source": [
    "x_4D[0,0,1,1]"
   ]
  },
  {
   "cell_type": "code",
   "execution_count": 12,
   "metadata": {
    "colab": {
     "base_uri": "https://localhost:8080/"
    },
    "executionInfo": {
     "elapsed": 319,
     "status": "ok",
     "timestamp": 1722890548339,
     "user": {
      "displayName": "Sarah Negreiros de Carvalho Leite",
      "userId": "03059545261666309656"
     },
     "user_tz": 180
    },
    "id": "KpJUl6t-EUan",
    "outputId": "12f18c76-06cb-477c-e653-700ecbdadb74"
   },
   "outputs": [
    {
     "data": {
      "text/plain": [
       "array([[0.04594096, 0.56953339, 0.01146806],\n",
       "       [0.16748204, 0.16117764, 0.34990976]])"
      ]
     },
     "execution_count": 12,
     "metadata": {},
     "output_type": "execute_result"
    }
   ],
   "source": [
    "x_4D[:,:,1,1]"
   ]
  },
  {
   "cell_type": "markdown",
   "metadata": {
    "id": "MK3H96Resx2f"
   },
   "source": [
    "###Verificando o formato e o tamanho de um *array*?"
   ]
  },
  {
   "cell_type": "code",
   "execution_count": 13,
   "metadata": {
    "colab": {
     "base_uri": "https://localhost:8080/"
    },
    "executionInfo": {
     "elapsed": 345,
     "status": "ok",
     "timestamp": 1722890619715,
     "user": {
      "displayName": "Sarah Negreiros de Carvalho Leite",
      "userId": "03059545261666309656"
     },
     "user_tz": 180
    },
    "id": "WLF949f9s-a8",
    "outputId": "34ff6fa0-3a30-49a9-e8d0-2b0771582916"
   },
   "outputs": [
    {
     "name": "stdout",
     "output_type": "stream",
     "text": [
      "X = \n",
      " [[[0.65088223 0.6676784  0.87711838 0.83089573]\n",
      "  [0.37299511 0.43016683 0.02749658 0.53336506]\n",
      "  [0.08558734 0.6663644  0.01838461 0.76148592]]\n",
      "\n",
      " [[0.87241909 0.93511575 0.08388359 0.52153626]\n",
      "  [0.22568829 0.19063853 0.10198247 0.43963604]\n",
      "  [0.88543773 0.13813687 0.65306291 0.18749306]]] \n",
      "\n",
      "Número de dimensões do array: 3\n",
      "Número de elementos do array: 24\n",
      "Format do array (2, 3, 4)\n"
     ]
    }
   ],
   "source": [
    "num_dimensoes = x_3D.ndim\n",
    "num_elementos = x_3D.size\n",
    "formato = x_3D.shape\n",
    "\n",
    "print('X = \\n',x_3D,'\\n')\n",
    "print('Número de dimensões do array:', num_dimensoes)\n",
    "print('Número de elementos do array:', num_elementos)\n",
    "print('Format do array', formato)\n"
   ]
  },
  {
   "cell_type": "markdown",
   "metadata": {
    "id": "mTgzxIJKuRzN"
   },
   "source": [
    "###Criando um novo *array* a partir de outros.\n",
    "\n",
    "\n"
   ]
  },
  {
   "cell_type": "code",
   "execution_count": 14,
   "metadata": {
    "colab": {
     "base_uri": "https://localhost:8080/"
    },
    "executionInfo": {
     "elapsed": 347,
     "status": "ok",
     "timestamp": 1722890807391,
     "user": {
      "displayName": "Sarah Negreiros de Carvalho Leite",
      "userId": "03059545261666309656"
     },
     "user_tz": 180
    },
    "id": "sz4G6RxHuZIS",
    "outputId": "65bb918e-8124-4a7c-84d6-18eb8458a508"
   },
   "outputs": [
    {
     "name": "stdout",
     "output_type": "stream",
     "text": [
      "x1\n",
      " [1 2 1]\n",
      "x2\n",
      " [[0 1 2]\n",
      " [3 4 5]]\n",
      "combinando na vertical\n",
      " [[0 1 2]\n",
      " [3 4 5]\n",
      " [1 2 1]]\n",
      "combinando na horizontal\n",
      " [[0 1 2 0 1 2]\n",
      " [3 4 5 3 4 5]]\n"
     ]
    }
   ],
   "source": [
    "x1 = np.array([1,2,1])\n",
    "x2 = np.array([[0, 1, 2],[3,4,5]])\n",
    "\n",
    "x_vertical = np.vstack((x2,x1))\n",
    "x_horizontal = np.hstack((x2,x2))\n",
    "\n",
    "print('x1\\n', x1)\n",
    "print('x2\\n', x2)\n",
    "print('combinando na vertical\\n', x_vertical)\n",
    "print('combinando na horizontal\\n', x_horizontal)"
   ]
  },
  {
   "cell_type": "markdown",
   "metadata": {
    "id": "qrIoeecYJzgx"
   },
   "source": [
    "#SOMA"
   ]
  },
  {
   "cell_type": "markdown",
   "metadata": {
    "id": "vt9-8Nj19CBd"
   },
   "source": [
    "##Soma de Escalar\n",
    "Também é possível fazer a soma de um número escalar ao vetor. Neste caso, um valor é somado a cada elemento do vetor.  \n",
    "\n",
    "Exemplo, suponha um conjunto com a média de notas dos alunos e o professor resolve dar 0.5 pontos para cada aluno:"
   ]
  },
  {
   "cell_type": "code",
   "execution_count": 15,
   "metadata": {
    "colab": {
     "base_uri": "https://localhost:8080/"
    },
    "executionInfo": {
     "elapsed": 280,
     "status": "ok",
     "timestamp": 1710353836846,
     "user": {
      "displayName": "Sarah Negreiros de Carvalho Leite",
      "userId": "03059545261666309656"
     },
     "user_tz": 180
    },
    "id": "M49ExdQ787Ml",
    "outputId": "a8e28958-831e-4a5e-cf9f-4c1f6be41f2f"
   },
   "outputs": [
    {
     "name": "stdout",
     "output_type": "stream",
     "text": [
      "média final = [10.   7.7  8.8  9.9  6.   4.7]\n"
     ]
    }
   ],
   "source": [
    "media = np.array([9.5, 7.2, 8.3, 9.4, 5.5, 4.2])\n",
    "media_final= media + 0.5\n",
    "\n",
    "print('média final =', media_final)"
   ]
  },
  {
   "cell_type": "markdown",
   "metadata": {
    "id": "1e2-LBFSxcr6"
   },
   "source": [
    "##Soma de Vetores\n",
    "\n",
    "A soma de dois ou mais vetores (de tamanho igual) é realizada com a operação +, que calcula a soma de cada elemento nas mesmas posições do vetor."
   ]
  },
  {
   "cell_type": "code",
   "execution_count": 16,
   "metadata": {
    "colab": {
     "base_uri": "https://localhost:8080/"
    },
    "executionInfo": {
     "elapsed": 278,
     "status": "ok",
     "timestamp": 1710353847698,
     "user": {
      "displayName": "Sarah Negreiros de Carvalho Leite",
      "userId": "03059545261666309656"
     },
     "user_tz": 180
    },
    "id": "Msac97PkqMAq",
    "outputId": "5da7c3d9-a776-4f94-9404-2e39412b4665"
   },
   "outputs": [
    {
     "name": "stdout",
     "output_type": "stream",
     "text": [
      "soma =  [18.6 17.6 17.2 14.3  7.9]\n"
     ]
    }
   ],
   "source": [
    "nota1 = np.array([9.1, 9.0, 8.5, 6.5, 4.4])\n",
    "nota2 = np.array([9.5, 8.6, 8.7, 7.8, 3.5])\n",
    "soma = nota1 + nota2\n",
    "\n",
    "print('soma = ', soma)"
   ]
  },
  {
   "cell_type": "markdown",
   "metadata": {
    "id": "8tzoMwtFoK4D"
   },
   "source": [
    "## Soma de Matrizes\n",
    "\n"
   ]
  },
  {
   "cell_type": "code",
   "execution_count": 17,
   "metadata": {
    "colab": {
     "base_uri": "https://localhost:8080/"
    },
    "executionInfo": {
     "elapsed": 277,
     "status": "ok",
     "timestamp": 1710353857150,
     "user": {
      "displayName": "Sarah Negreiros de Carvalho Leite",
      "userId": "03059545261666309656"
     },
     "user_tz": 180
    },
    "id": "XeQldncloXER",
    "outputId": "96fdb9c0-f870-442c-b554-a8021629b6fd"
   },
   "outputs": [
    {
     "name": "stdout",
     "output_type": "stream",
     "text": [
      "A=\n",
      " [[1 2 3 4]\n",
      " [5 6 7 8]]\n",
      "B=\n",
      " [[1 0 1 0]\n",
      " [1 0 1 0]]\n",
      "S=\n",
      " [[2 2 4 4]\n",
      " [6 6 8 8]]\n"
     ]
    }
   ],
   "source": [
    "A = np.array([[1, 2, 3, 4],\n",
    "               [5, 6, 7, 8]])\n",
    "\n",
    "B = np.array([[1, 0, 1, 0],\n",
    "               [1, 0, 1, 0]])\n",
    "\n",
    "S = A + B\n",
    "\n",
    "print('A=\\n', A)\n",
    "print('B=\\n',B)\n",
    "print('S=\\n', S)"
   ]
  },
  {
   "cell_type": "markdown",
   "metadata": {
    "id": "G6JWvlFMEAv0"
   },
   "source": [
    "## Soma de Tensores"
   ]
  },
  {
   "cell_type": "code",
   "execution_count": 18,
   "metadata": {
    "colab": {
     "base_uri": "https://localhost:8080/"
    },
    "executionInfo": {
     "elapsed": 260,
     "status": "ok",
     "timestamp": 1710353867500,
     "user": {
      "displayName": "Sarah Negreiros de Carvalho Leite",
      "userId": "03059545261666309656"
     },
     "user_tz": 180
    },
    "id": "txUrefszEDkk",
    "outputId": "de69c991-596b-4b00-e74d-b30638d49a5d"
   },
   "outputs": [
    {
     "name": "stdout",
     "output_type": "stream",
     "text": [
      "(2, 2, 4)\n",
      "(2, 2, 4)\n",
      "A=\n",
      " [[[1 1 1 1]\n",
      "  [2 2 2 2]]\n",
      "\n",
      " [[1 1 1 1]\n",
      "  [2 2 2 2]]]\n",
      "B=\n",
      " [[[0 0 0 0]\n",
      "  [2 2 2 2]]\n",
      "\n",
      " [[1 1 1 1]\n",
      "  [1 2 3 4]]]\n",
      "S=\n",
      " [[[1 1 1 1]\n",
      "  [4 4 4 4]]\n",
      "\n",
      " [[2 2 2 2]\n",
      "  [3 4 5 6]]]\n"
     ]
    }
   ],
   "source": [
    "A = np.array([[[1, 1, 1, 1], [2, 2, 2, 2]], [[1, 1, 1, 1], [2, 2, 2, 2]]])\n",
    "print(A.shape)\n",
    "B = np.array([[[0, 0, 0, 0], [2, 2, 2, 2]], [[1, 1, 1, 1], [1,2,3,4]]])\n",
    "print(B.shape)\n",
    "S = A + B\n",
    "\n",
    "print('A=\\n', A)\n",
    "print('B=\\n',B)\n",
    "print('S=\\n', S)"
   ]
  },
  {
   "cell_type": "markdown",
   "metadata": {
    "id": "C_x8FAwiKZ1a"
   },
   "source": [
    "#MULTIPLICAÇÃO"
   ]
  },
  {
   "cell_type": "markdown",
   "metadata": {
    "id": "B3pqK7AmQYDw"
   },
   "source": [
    "###Multiplicação Escalar"
   ]
  },
  {
   "cell_type": "code",
   "execution_count": 20,
   "metadata": {
    "colab": {
     "base_uri": "https://localhost:8080/"
    },
    "executionInfo": {
     "elapsed": 302,
     "status": "ok",
     "timestamp": 1710353908132,
     "user": {
      "displayName": "Sarah Negreiros de Carvalho Leite",
      "userId": "03059545261666309656"
     },
     "user_tz": 180
    },
    "id": "7Dg2q377QpCu",
    "outputId": "c08c9c3c-9157-42dd-b98f-8d56c578d888"
   },
   "outputs": [
    {
     "name": "stdout",
     "output_type": "stream",
     "text": [
      "Escalar x escalar: 10\n",
      "\n",
      "Escalar x vetor: [ 5 10 15 20]\n",
      "\n",
      "Escalar x matriz:\n",
      " [[ 5  5 10]\n",
      " [15 20 25]\n",
      " [30 35 40]]\n",
      "\n",
      "Escalar x tensor:\n",
      " [[[ 5  5  5  5]\n",
      "  [10 10 10 10]]\n",
      "\n",
      " [[ 5  5  5  5]\n",
      "  [10 10 10 10]]]\n"
     ]
    }
   ],
   "source": [
    "escalar = 5\n",
    "print('Escalar x escalar:', 2*escalar)\n",
    "\n",
    "x = np.array([1, 2, 3, 4])\n",
    "print('\\nEscalar x vetor:', escalar*x)\n",
    "\n",
    "X = np.array([[1, 1, 2], [3, 4, 5], [6, 7, 8]])\n",
    "print('\\nEscalar x matriz:\\n', escalar*X)\n",
    "\n",
    "T = np.array([[[1, 1, 1, 1], [2, 2, 2, 2]], [[1, 1, 1, 1], [2, 2, 2, 2]]])\n",
    "print('\\nEscalar x tensor:\\n', escalar*T)"
   ]
  },
  {
   "cell_type": "markdown",
   "metadata": {
    "id": "8sqodKKHelkE"
   },
   "source": [
    "Ex.: Suponha que temos um vetor os valores pagos com comida em um restaurante e queremos calcular 10% de gorjeta para cada um dos valores e saber o valor total da gorjeta."
   ]
  },
  {
   "cell_type": "code",
   "execution_count": 22,
   "metadata": {
    "colab": {
     "base_uri": "https://localhost:8080/"
    },
    "executionInfo": {
     "elapsed": 281,
     "status": "ok",
     "timestamp": 1710353996821,
     "user": {
      "displayName": "Sarah Negreiros de Carvalho Leite",
      "userId": "03059545261666309656"
     },
     "user_tz": 180
    },
    "id": "00jGwbJwfBW6",
    "outputId": "8c15aa1a-e64d-4f3c-d2c7-1cc687bbe916"
   },
   "outputs": [
    {
     "name": "stdout",
     "output_type": "stream",
     "text": [
      "valores a serem pagos [18.  16.5 17.  19.5 18.5]\n",
      "gorjeta: [1.8  1.65 1.7  1.95 1.85]\n",
      "gorjeta total: 8.95\n"
     ]
    }
   ],
   "source": [
    "valores = np.array([18.0, 16.5, 17.0, 19.5, 18.5])\n",
    "gorjeta = valores * 0.1\n",
    "\n",
    "gorjeta_total = sum(gorjeta)\n",
    "\n",
    "print('valores a serem pagos', valores)\n",
    "print('gorjeta:', gorjeta)\n",
    "print('gorjeta total:', format(gorjeta_total,\".2f\"))"
   ]
  },
  {
   "cell_type": "markdown",
   "metadata": {
    "id": "JTVjvK-nAdGJ"
   },
   "source": [
    "###Multiplicação de vetores\n"
   ]
  },
  {
   "cell_type": "code",
   "execution_count": 24,
   "metadata": {
    "colab": {
     "base_uri": "https://localhost:8080/"
    },
    "executionInfo": {
     "elapsed": 286,
     "status": "ok",
     "timestamp": 1710354036823,
     "user": {
      "displayName": "Sarah Negreiros de Carvalho Leite",
      "userId": "03059545261666309656"
     },
     "user_tz": 180
    },
    "id": "6MjnZgh2Ajo-",
    "outputId": "15691128-a5c0-4cee-c2af-9a0f2ca55e18"
   },
   "outputs": [
    {
     "name": "stdout",
     "output_type": "stream",
     "text": [
      "Multiplicação elemento a elemento: [ 5 12 21 32]\n",
      "Produto escalar: 70\n",
      "Produto externo:\n",
      " [[ 5  6  7  8]\n",
      " [10 12 14 16]\n",
      " [15 18 21 24]\n",
      " [20 24 28 32]]\n"
     ]
    }
   ],
   "source": [
    "x = np.array([1, 2, 3, 4])\n",
    "y = np.array([5, 6, 7, 8])\n",
    "\n",
    "mult1 = x * y\n",
    "mult2 = np.dot(x,y)\n",
    "mult3 = np.outer(x,y)\n",
    "\n",
    "print('Multiplicação elemento a elemento:', mult1)\n",
    "print('Produto escalar:', mult2)\n",
    "print('Produto externo:\\n', mult3)"
   ]
  },
  {
   "cell_type": "markdown",
   "metadata": {
    "id": "UmSmk_3KtCdD"
   },
   "source": [
    "Ex.: Se temos um vetor com as notas de um aluno e um vetor com o peso que representa cada uma das notas, obtemos a média ponderada da seguinte maneira:"
   ]
  },
  {
   "cell_type": "code",
   "execution_count": 25,
   "metadata": {
    "colab": {
     "base_uri": "https://localhost:8080/"
    },
    "executionInfo": {
     "elapsed": 306,
     "status": "ok",
     "timestamp": 1710354181722,
     "user": {
      "displayName": "Sarah Negreiros de Carvalho Leite",
      "userId": "03059545261666309656"
     },
     "user_tz": 180
    },
    "id": "tREqyq5EtDpk",
    "outputId": "128c23d7-230a-471b-cdf4-7d10a7a7b6fb"
   },
   "outputs": [
    {
     "name": "stdout",
     "output_type": "stream",
     "text": [
      "Nota final: 8.9\n",
      "Nota average: 8.9\n",
      "Nota final2: 8.9\n"
     ]
    }
   ],
   "source": [
    "notas = np.array([8.0, 7.0, 7.5, 9.5, 10.0])\n",
    "pesos = np.array([0.2, 0.1, 0.1, 0.3, 0.3])\n",
    "media_ponderada = sum(notas*pesos)\n",
    "print('Nota final:', media_ponderada)\n",
    "\n",
    "pesos2 = np.array([4, 2, 2, 6, 6])\n",
    "media_ponderada2 = sum(notas*pesos2)/sum(pesos2)\n",
    "\n",
    "media_p2 = np.average(notas, weights=pesos2)\n",
    "print('Nota average:', media_p2)\n",
    "print('Nota final2:', media_ponderada2)"
   ]
  },
  {
   "cell_type": "markdown",
   "metadata": {
    "id": "FwVhVXOxkTK2"
   },
   "source": [
    "Ex.: Distância Euclidiana\n",
    "\n",
    "Na Figura temos o ponto verde na posição (1,4), o ponto azul na posição (2,1) e o ponto vermelho na posição (4,2).\n",
    "\n",
    "![distancia_vetores.png](data:image/png;base64,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)\n",
    "\n",
    "O ponto vermelho está mais próximo do ponto verde ou do ponto azul?\n",
    "\n",
    "Para calcular a distância entre dois pontos podemos empregar a expressão da distância Euclidiana:\n",
    "\n",
    "![image.png](data:image/png;base64,iVBORw0KGgoAAAANSUhEUgAAAM0AAACPCAYAAABZLF8OAAARqUlEQVR4Ae2dK9DUPhfGkUgkEolEIpFIJBKJROKQSCQSiUQikUgkEolEIt9vfjvzMOefL01zOel225OZTne3bS5PzpNzSZq9dzchPXv27M4e9+7du4sjMDiMDEzgTBAkBoljy8As0jx58uTu3bt3l+PTp08ziok8A4GrIHDPu9Rfv35dRplXr155Zx35BQK7QCBIs4tuiErcEgLupPnx48dF02CaRQoEjoiAO2m+ffsWpDmipESb/iEwjTQfPnz4V0h8CASOhIA7aYiUEY+PiNmRxCTaYhEI0lg04nMgUIGAO2kwy9A0+DaRAoEjIuBOGqJmQZojikq0SQhMIw2h50iBwBERcCcNKwHQNKwMiBQIHBGBIM0RezXaNBUBd9K8ePHiommm1joyDwSuiIA7aXiPBvMsUiBwVATcpRvSPHz48Kh4RbsCgTt30jx69OiOI1IgcFQEppDm8ePHR8Ur2hUI+GuaBw8eXPYHCGwDgaMi4K5pCALg19xK+vnz593v379vpbpRzx0gMIU0L1++3EHTylWALAqPf/78uXxzXA0EDAKupLmF/QHQKq9fv76ExdGKHLG41EhEfFxFYAppEMql9P379ztG+TT9+fPnbvZ6NVZg43OhYbQaO0iT9kR8X0PAlTSl/QEgytOnT/+N8O/fv7/UDe0kMwkBJlw9y8fgxTirVSgrSLMmInE9RcCVNEv7A0AmRvg3b97cffz48SKohKUhDPuj8dvXr18vhEGI+b5FCtJsgfLxyphCmlTo//79eyEF8MnvQWAhjjXJtEIacm2RgjRboHy8MlxJU7M/gLQRGiXdR0BmWm5TDp5rOfCd1lKQZg2huJ5DYAppSiFcfBkIg1mWJkw4ruUEnt9bDgixloI0awjF9RwCrqRRRAqNsJSkTRQI0H0y2yAG5lyatC907TmnrdI8gzQpIvG9BgFX0tTsDyBtYn0ZKirTLqeBahrSc0+Qpge1eGYKaXLzMECtkPT9+/f/T5soCPD27dvNeiVIsxnUhyrIlTQSfEytXJI2ya1NI5KGafbly5fLo5h4THjOTCIN4e5IgUAtAlNIszQ5KVLlQsoiDb4OIWvMuJJvVNvApfvIW4EF6hUpEKhFwJU0cvKXCtfILm1i78MskxDz5ucMwmAe2lUJKk9n6pcGKGwd43MgAAKupBndH4BQM2TJRc+iuwKBvSDgTprYH2AvXRv1mIWAK2kwbzgiBQJHRsCdNDj0kQKBIyPgShoiXrlw8pEBjLadDwFX0hCFCtKcT4jO1mJ30tzC/gBn6+Rory8CbqTRgsuYKPTtoMhtfwi4k6a0P8D+mh81CgTaEXAjjRZjstK5lFiyX7u8f6v7al4jKLUprp0LATfSaC3XGmm0lEZLV/Zwjrmlcwn9aGvdSZPuD5BWUC+qpWRhTdhszYK/lSNtkCbtpfheQsCNNFr2n773nytcCzstcXjHZuk9nFweI79BTlt2kGYEzfM9606a0v4Agpf3ZHIjPqsJtlqsqdcUIE+QRj0T5xoE3Egjs6t2ST8rmtEudsTnc+5dm5qGtN5D+So7SNOK3rnvdyONTJ5a0gC7iCbh1Tn3vs2MbtKLb0GaGegeN0930rT6JTn/hjVsS69Me3aFNkIP0niievy83EgjH6FV2Jf8G6Jps/0babogzfEF3bOF7qRZ2h+gVOkl/2ZtzqeUZ801JmRZYBrr5WrQinuEgBtpZGYp49azRn35NTq3+EitZcb9gUAPAm6kGd0fgMqLeCIMZ16f7tFePWDEM4FADQKupBndH2DJv4l3dGq6Mu7ZCgE30uBMezjUS/5NbK20lUhEOWsIuJLGa3+AnH/DRCiEihQIeCOA+Y/vrIMAUSm5kcZ7f4Ccf4Mmm71VbQmsuHYsBFhcLF+cQVmf8aX5vDR94kYaFeQFK+zHR7JBAT5Dpj0myNw6sbvHdtxinXotEMkWUxuaE0TutFLk+fPnWThcSeM934G6VMPsGfNtLwmQWS+Hpo23VrfvFQYqZAPN0Lr8Ss+ltdaKfa6LTPYeF9LM3B9Aa9osabZ8jcCClX5m/2nqAmEIVOQATp+J7/4IoGm0Rzf/b7Tmk6zVgH+RkLwxKKbJlTSzRlpra6oxW75GkILGd61bo245YHPPxG9zEUBDMIhh1i/5IzU1YABEzpb+YMyFNLX7A9RUOHcPQpnzb6618420H8SNwESux673G849Ak/QqIc49Kdkbel/i1xII99j5loxlSFNo3PNm6KeXchLdpS9FxPRs21HyUuLh9EUrSazoraleUFX0swWYI3wIoyEt2dE6REQOkCj0J6CET1tOfIzvf0ksq0N/i6kUbRhNmno6Jx/s8VrBJRttUyYZfumnf4kbMkvSWtPBJRBeI0wPOdKmtaQX1rxmu9L/s0Wr0nTAQC7FL/P1R+NpOcgfM5cYLDBBifvklmQy3/Pv9FWhNDOe+TazwAENvZY8idq20tEDTw5MO1LSRZMrY/sQhote1mrXKniLdeW/JuZpFWwg06o1agQGd9HpOHZ1KwTdurgmW1owXj0XsjB4EL7NSDQxqXBzQo593ngoHJL84cKHNQSBlxcSCOmbkUaKq4yJWycmS+ZFf6VuqecGtMMMtjQp4jDWQnBID9GWOW/lX+mOsw6Qw5FsMCLvqGtYLKUJOSle5aezf1OHSgT4uYSAyHXcqtMqDP1yO2u5EqarTscYQMUe/DbjMRoVeqAtEzIawcRxf7Jgw4BKwSJ+uZMljS/W/vOTL2dZJSTTftzcgIG6kcvE9VinhtM7UBGP9hDJqXtQ/WBC2kESA4MFTTjvOTfzChLM86Mhj3Jmh90BPmdaZ5HwSKIkTO9ZP4y8ucEvAdzWyb422Rn/UXW3Dm3ntCVNDVmi624x2cE0DZ2SRWPloWqphyEvScxklI38iAvtEyuQ3ryLj2jAc1i1Pu5xe5P68SAqnIxRdMkU2rJ50nvr/luiZEzs2ryyN3jQhpNCOUK2OI3qVk6pdZJb6mXNR1y9m9tXtJW1LMlOsQoienQErVTnfZCGuojvybFEHwZSEpapgcDaS/w9jL5aIcLaehQKnaNZAMCaWd41ceOkiOjrUbTVm2oCBs433KC9MgJZqlNmv8qaZkeDGy/ISdeyUXS6cxeW3+kIdY0o/yZ5iGdzdEruIymGlzIp8U0Y5TkWQTnlpMihLQfPJSwFNA0pf7rwcDKhyd2LqRBYLcmjQ0CMHKnjp46xOtM++hsGzJuyZtRVOYJ+cwwI1vqc417FWKn/YqsyVn39DnUNlteLvig+1rPbqTpFabWCut++VF0gOcoovzTs7QEI2Jr0gQafoxCmbVmHiMyIybHrSdrLkESNAt4rpnVvRgId0tSDwxdSKP5Bo8K1eQh+xYwepzjmjLSe6xDnV4rfYcoaELZ68on1cw500RzQ7Szh6ylel3rmrQtPgaYlJx/6jiCgfV3c/j2YuBCGjq119ZvrThmGEBLkLxi+mv1sBNljJilREdjdlBXhISomWx4S3iZlLov17ESmrXRuFSfPV2TxlbEs8ZK6MVAAxR94JncSFNrboxUHqGSbwFptjRZcNwpk6MUvqSOuo8z9bUkg+S6juDI11mK7ijiVCNcI9hu9Sztte2vKbcHAwYpaTVp+Zqyau4ZJo3s1C1IoxEH0JeErKbRvfeo80oTnNb5xH+xhFG5elWadljTTdftGbOM+6SV7LVb/CzHnzYpGLDWjh4M7MRmbTlr9dB1N9J4s1kV1NmCvZUpqLJ1toTIkYH70CRy3GWS6Xl71j32t/SzBiSIVcorfW7P3+Vn1A56vRjINCsNcL04DZNGs661IPRUFNNIfgwqdys/Jq0rgqtRb9YmIrZMDRTXGiRsXTw+a/RvCd70YADRJC8zQtnDpGHEnGkuIagK01KOZ7y9RxDU8VvURaPlbC3eg0PrMwyuDHj4eLmAx1J+rRggL1quBDlnaGg30jAizEgCDSHdi/Bo9EMIWmb2W/FRhOnaA0VrvRFUBlMJLBhBlh68WjGQv8hzKr+1/mv3D5NGAjSDNFqTBGFs2HatUVtcV+gYcw3tMyPJxJD/RDmzBMGz/vL9MNmJNEIW2tITzKjFAO2lARbLpEWbtbbdjTTeoyGCAtgQhrMEp7WBM++H1AqBYwp4ax3azsGAJOHzLmMGPnaNGfVHiHsIQ91qMGAAk6xAnNk+7zBpNOKijr0So6nsUgmNV94z8mHAoL7ewQG7VAjB8w6dzsCCPDXiE8CAQCPacQ0DCAJhMN1nk0V4DZNGIURP0gCARhg64FbSiHAstRFcPbFdKmfPv69hMAP3Eh5upPEyn2QPS61vDUgJrLgWCIDAMGmkij1Ig3rVPAgO4C3Y7yFG50PAjTQe0Qot5rsFP+Z8ohItFgLDpJGjpgx7z/KNIMyWK3pV/1vynXoxjud8EBgmjbTDSHVw9OT4t84Yj5TLszIHgzSjSJ7neRfSIOi9KfVjeuP5PeVjUoqsM9fO9dQtntkvAsOkgTAjpJF5hPBu/c6IjdQFafYrpHurmQtpWOfTkzQxCmFaVr72lJV7xr6fM2MZUK7M+O32ERgmDbOxPUvXMcO0rgi/YqvZXHUZIXKVD2lnLCFXWXE+FgLDpEHgWkmDL4FJx7McW854Q04IorVK16jDsUTofK1xIU1r5MmaRRLaa5+3DECcT8yO1eIh0mDiIOwtpNGrBNcmSVq+x4qGY4lGtGYJARfS1L4cxrIY60ekgnvN71v7VEsdEr/vH4Eh0rTuD2Bn/a9JkFzZ+++qqOFeEBgijWbya+c4uJ9793jspUOiHvtHwIU0Mcex/46OGvohMEQaOfVBGr8OiZz2j4ALaUb2ByDUyzzPNVYE7L97ooZ7RGCINPorg5HJSS2laZ0g7QGTCBl1jTmZHvTiGSEwRBpFw0ZIwy4rEGbmYk1WIKDJiJqxAYZeByhtZC6A4hwIpAi4kGbPE4PsMcCCUuaH7G4uEBUSBXFSkYjvawgMkUa7GfaSBoFGS41oqrUGasPBdHslTDRIA5li8441FOO6RWCINCyfQfB69gew688wl2YlbWuai/DJTMtdm1WfyPf2ERgijQS/FwY9v7QnACZUy0F+NqFBIDVHbmcblV+7DMjmHZ/Pi8AQaeQX9MIn53wpCCCBrz2nb5BqQSnP50xIacol0va2K547NgLDpEkFtQUumUezQsD4SiJcjjTacxjyRwoEahEYIg37C/eSRlpgpiNu/0smRxqFzIM0teIS94HAEGkgDPMePUlLcGYKrFZhL5lniv6lvlBPe+KZ8yAwRBrMq16hlz9RcsLJu+VIhZ8VADLPcoGAmjqcRxSipbUIDJEGgexdM6ZQcGndWgthuDclDSDIb8qFlTEvaUOpDrVAxn3nQSBLGoSoZncWBI7RuifpDU75GrP+5Ut+S1pP+VSQKiY3e3rwvM/8hzREm6QBEKbSpKVMn1QYa6GU2YQGmPkvX9RTO8/YlQfapJBFp5ECgRYELqTR8nwEWeYMn0v+hkZqwrY9SUJLObP/5Qt/hqCFyhKJciZbT1vimXMhcE9rsBBihAvTDOHiwIRipM4l7uUezJ/exMhvR//efGqfo86UN2teqLYecd9tI3DRNAiTTTLRIMWStkH4uB6rhC1y8fkMCPzHp1GD7aQgxLBL6nWPSBMmjhCJ81kQyJKGxlufg89p0pL7IE2KTHw/OgKLpLGz6TltA1n4Ha0UKRA4EwKLpAEELZ2HHPg5NnnsD2Dzi8+BwK0gUCQNkTNNQkIcO3OuScOIRN1KV0c9vRAokoZCiJ5BmFTbiDSa0feqUOQTCOwdgVXSpNpGL4xphXCQZu9dHPXzRmCVNBSovcnQNlqrpRXCsW7Lu0siv70jUEUaiGGX10AiBQn23sCoXyDgjUAVaSjUahvWbrFejCBBpEDgbAhUkwZg7PIaTLXeV53PBnK091gINJHGLuYM0hxLEKI19Qg0kYZsrbbp3R+gvnpxZyCwPwSaSWOX1/CKcaRA4GwINJMGgLSYs3d/gLOBHO09FgJdpJG26X3V+VgQRmvOhsD/AIcikLEE0yGAAAAAAElFTkSuQmCC)\n"
   ]
  },
  {
   "cell_type": "code",
   "execution_count": 26,
   "metadata": {
    "colab": {
     "base_uri": "https://localhost:8080/",
     "height": 507
    },
    "executionInfo": {
     "elapsed": 878,
     "status": "ok",
     "timestamp": 1710354390903,
     "user": {
      "displayName": "Sarah Negreiros de Carvalho Leite",
      "userId": "03059545261666309656"
     },
     "user_tz": 180
    },
    "id": "_wsyKvIAkSiF",
    "outputId": "0213ef56-f72a-4377-a42e-b67b9c378f10"
   },
   "outputs": [
    {
     "data": {
      "image/png": "[encoded data removed]",
      "text/plain": [
       "<Figure size 640x480 with 1 Axes>"
      ]
     },
     "metadata": {},
     "output_type": "display_data"
    },
    {
     "name": "stdout",
     "output_type": "stream",
     "text": [
      "Distância verde vermelho:  3.61 \n",
      "Distância azul-vermelho:  2.24\n"
     ]
    }
   ],
   "source": [
    "verde = np.array([1,4])    # ponto verde\n",
    "azul = np.array([2,1])    # ponto azul\n",
    "vermelho = np.array([4,2])    # ponto vermelho\n",
    "\n",
    "import matplotlib.pyplot as plt\n",
    "\n",
    "plt.scatter(verde[0], verde[1], marker='o', color='g')\n",
    "plt.scatter(azul[0], azul[1], marker='o', color='b')\n",
    "plt.scatter(vermelho[0], vermelho[1], marker='o', color='r')\n",
    "\n",
    "plt.title(\"Titulo\")\n",
    "plt.xlabel(\"x\")\n",
    "plt.ylabel(\"y\")\n",
    "plt.grid()\n",
    "plt.show()\n",
    "\n",
    "distancia_verde_vermelho = np.sqrt(sum((verde - vermelho) ** 2))\n",
    "distancia_azul_vermelho  = np.sqrt(sum((azul - vermelho) ** 2))\n",
    "\n",
    "print('Distância verde vermelho: ', format(distancia_verde_vermelho, \".2f\"), '\\nDistância azul-vermelho: ', format(distancia_azul_vermelho, \".2f\"))"
   ]
  },
  {
   "cell_type": "markdown",
   "metadata": {
    "id": "NzkzV8Y9pc7n"
   },
   "source": [
    "### Multiplicação de matrizes\n",
    "\n",
    "Para multiplicar duas matrizes é necessário que uma matriz A tenha dimensão m x n enquanto que a matriz B tenha a dimensão n x m, como resultado temos uma matriz de dimensão m x m."
   ]
  },
  {
   "cell_type": "code",
   "execution_count": 27,
   "metadata": {
    "colab": {
     "base_uri": "https://localhost:8080/"
    },
    "executionInfo": {
     "elapsed": 8,
     "status": "ok",
     "timestamp": 1710354502516,
     "user": {
      "displayName": "Sarah Negreiros de Carvalho Leite",
      "userId": "03059545261666309656"
     },
     "user_tz": 180
    },
    "id": "ZCNM8ETkU7wP",
    "outputId": "a4363e1f-8b62-4aaa-e4a7-e20c6d565d3e"
   },
   "outputs": [
    {
     "name": "stdout",
     "output_type": "stream",
     "text": [
      "A:\n",
      " [[1 1 0]\n",
      " [0 1 2]\n",
      " [1 1 1]]\n",
      "B:\n",
      " [[1 0 0 0]\n",
      " [0 1 2 3]\n",
      " [4 1 1 1]]\n",
      "\n",
      "Formato A: (3, 3)\n",
      "Formato B: (3, 4)\n",
      "\n",
      "Com dot: \n",
      " [[1 1 2 3]\n",
      " [8 3 4 5]\n",
      " [5 2 3 4]]\n",
      "\n",
      "Com matmul ou @: \n",
      " [[1 1 2 3]\n",
      " [8 3 4 5]\n",
      " [5 2 3 4]]\n"
     ]
    }
   ],
   "source": [
    "A = np.array([[1, 1, 0], [0, 1, 2], [1, 1, 1]])\n",
    "B = np.array([[1, 0, 0, 0], [0, 1, 2, 3], [4, 1, 1, 1]])\n",
    "mult_dot = np.dot(A,B)\n",
    "mult_matmul = np.matmul(A,B) # A@B\n",
    "print('A:\\n', A)\n",
    "print('B:\\n',B)\n",
    "print('\\nFormato A:', A.shape)\n",
    "print('Formato B:', B.shape)\n",
    "print('\\nCom dot: \\n', mult_dot)\n",
    "print('\\nCom matmul ou @: \\n', mult_matmul)"
   ]
  },
  {
   "cell_type": "code",
   "execution_count": 29,
   "metadata": {},
   "outputs": [
    {
     "name": "stdout",
     "output_type": "stream",
     "text": [
      "(3, 4) (3, 4)\n"
     ]
    }
   ],
   "source": [
    "print(mult_dot.shape, mult_matmul.shape)"
   ]
  },
  {
   "cell_type": "markdown",
   "metadata": {
    "id": "ojFXWm4eFKrO"
   },
   "source": [
    "##Multiplicação de Tensores\n",
    "O número de colunas da primeira matriz deve ser igual ao número de linhas da segunda matriz."
   ]
  },
  {
   "cell_type": "code",
   "execution_count": 31,
   "metadata": {
    "colab": {
     "base_uri": "https://localhost:8080/"
    },
    "executionInfo": {
     "elapsed": 282,
     "status": "ok",
     "timestamp": 1710354556673,
     "user": {
      "displayName": "Sarah Negreiros de Carvalho Leite",
      "userId": "03059545261666309656"
     },
     "user_tz": 180
    },
    "id": "d5FJHMxmFR0W",
    "outputId": "06f9e139-247f-4b55-dc9b-9fefaee793f0"
   },
   "outputs": [
    {
     "name": "stdout",
     "output_type": "stream",
     "text": [
      "Formato de A: (2, 2, 2) \n",
      " [[[1 1]\n",
      "  [2 2]]\n",
      "\n",
      " [[1 0]\n",
      "  [2 1]]]\n",
      "Formato de B: (2, 2, 2) \n",
      " [[[0 0]\n",
      "  [1 1]]\n",
      "\n",
      " [[1 2]\n",
      "  [3 1]]]\n",
      "\n",
      "Com dot: (2, 2, 2, 2) \n",
      " [[[[1 1]\n",
      "   [4 3]]\n",
      "\n",
      "  [[2 2]\n",
      "   [8 6]]]\n",
      "\n",
      "\n",
      " [[[0 0]\n",
      "   [1 2]]\n",
      "\n",
      "  [[1 1]\n",
      "   [5 5]]]]\n",
      "\n",
      "Com matmul: (2, 2, 2) \n",
      " [[[1 1]\n",
      "  [2 2]]\n",
      "\n",
      " [[1 2]\n",
      "  [5 5]]]\n",
      "\n",
      "Com multiply ou *: (2, 2, 2) \n",
      " [[[0 0]\n",
      "  [2 2]]\n",
      "\n",
      " [[1 0]\n",
      "  [6 1]]]\n"
     ]
    }
   ],
   "source": [
    "A = np.array([[[1, 1], [2, 2]], [[1, 0], [2, 1]]])\n",
    "\n",
    "B = np.array([[[0, 0], [1, 1]], [[1, 2], [3, 1]]])\n",
    "\n",
    "print('Formato de A:', A.shape, '\\n', A)\n",
    "print('Formato de B:', B.shape, '\\n', B)\n",
    "\n",
    "mult_dot = np.dot(A,B)\n",
    "mult_matmul = np.matmul(A,B)\n",
    "mult_multiply = np.multiply(A,B) # ou mult = A*B\n",
    "\n",
    "print('\\nCom dot:', mult_dot.shape, '\\n', mult_dot)\n",
    "print('\\nCom matmul:', mult_matmul.shape, '\\n', mult_matmul)\n",
    "print('\\nCom multiply ou *:', mult_multiply.shape, '\\n', mult_multiply)\n"
   ]
  },
  {
   "cell_type": "code",
   "execution_count": 36,
   "metadata": {},
   "outputs": [
    {
     "name": "stdout",
     "output_type": "stream",
     "text": [
      "[[1 2]\n",
      " [3 4]]\n",
      "[1, 2]\n",
      "[ 5 11]\n"
     ]
    }
   ],
   "source": [
    "A = np.array([[1, 2], [3, 4]])\n",
    "print(A)\n",
    "\n",
    "B = [1, 2]\n",
    "print(B)\n",
    "\n",
    "print(np.dot(A, B))"
   ]
  },
  {
   "cell_type": "markdown",
   "metadata": {
    "id": "ya6lDIN9J6j3"
   },
   "source": [
    "#OPERAÇÕES"
   ]
  },
  {
   "cell_type": "markdown",
   "metadata": {
    "id": "gQWIPD3znJST"
   },
   "source": [
    "O NumPy tem muitas ferramentas que auxiliam a manipular os arrays, como:"
   ]
  },
  {
   "cell_type": "code",
   "execution_count": null,
   "metadata": {
    "colab": {
     "base_uri": "https://localhost:8080/"
    },
    "executionInfo": {
     "elapsed": 367,
     "status": "ok",
     "timestamp": 1710354722399,
     "user": {
      "displayName": "Sarah Negreiros de Carvalho Leite",
      "userId": "03059545261666309656"
     },
     "user_tz": 180
    },
    "id": "BcPEE_y6nGqy",
    "outputId": "d493311e-ce7a-4c6b-9aa5-3a71703beb5a"
   },
   "outputs": [
    {
     "name": "stdout",
     "output_type": "stream",
     "text": [
      "vetor =  [5 2 8]\n",
      "soma =  15\n",
      "menor valor =  2\n",
      "maior valor =  8\n"
     ]
    }
   ],
   "source": [
    "x = np.array([5,2,8])\n",
    "\n",
    "soma = x.sum() #soma os valores do vetor\n",
    "min = x.min() #determina o menor valor do vetor\n",
    "max = x.max() #determina o maior valor do vetor\n",
    "\n",
    "print('vetor = ', x)\n",
    "print('soma = ', soma)\n",
    "print('menor valor = ', min)\n",
    "print('maior valor = ', max)"
   ]
  },
  {
   "cell_type": "markdown",
   "metadata": {
    "id": "-EDsmvddCVQ_"
   },
   "source": [
    "###Calculando média e desvio padrão."
   ]
  },
  {
   "cell_type": "code",
   "execution_count": null,
   "metadata": {
    "colab": {
     "base_uri": "https://localhost:8080/"
    },
    "executionInfo": {
     "elapsed": 265,
     "status": "ok",
     "timestamp": 1710354912984,
     "user": {
      "displayName": "Sarah Negreiros de Carvalho Leite",
      "userId": "03059545261666309656"
     },
     "user_tz": 180
    },
    "id": "_dtifTEPCU4X",
    "outputId": "3800a9d1-8ce9-455b-c4c4-97f36399f9bf"
   },
   "outputs": [
    {
     "name": "stdout",
     "output_type": "stream",
     "text": [
      "x:\n",
      " [[1 1 1]\n",
      " [2 2 2]]\n",
      "média: [1.5 1.5 1.5]\n",
      "desvio padrão: [0.5 0.5 0.5]\n"
     ]
    }
   ],
   "source": [
    "x = np.array([[1,1,1],[2,2,2]])\n",
    "media = np.mean(x, axis=0)\n",
    "desvio_padrao = np.std(x, axis=0)\n",
    "\n",
    "print('x:\\n',x)\n",
    "print('média:', media)\n",
    "print('desvio padrão:', desvio_padrao)"
   ]
  },
  {
   "cell_type": "markdown",
   "metadata": {
    "id": "0RQWaVW7pGd5"
   },
   "source": [
    "###Transposta"
   ]
  },
  {
   "cell_type": "code",
   "execution_count": null,
   "metadata": {
    "id": "XxDeRJXppJfq"
   },
   "outputs": [],
   "source": [
    "A = np.array([[1, 2, 3, 4],\n",
    "               [5, 6, 7, 8]])\n",
    "\n",
    "At = A.T # ou At = A.transpose()\n",
    "print('A:', A.shape, '\\n', A)\n",
    "print('At:', At.shape, '\\n', At)"
   ]
  },
  {
   "cell_type": "markdown",
   "metadata": {
    "id": "DX_Yj2TO-Ciy"
   },
   "source": [
    "###Testes lógicos\n",
    "\n",
    "Ex.: Queremos saber quais os alunos obtiveram nota maior ou igual a 6.0 e foram aprovados. Para isso, podemos aplicar uma comparação a cada elemento do vetor.\n"
   ]
  },
  {
   "cell_type": "code",
   "execution_count": null,
   "metadata": {
    "colab": {
     "base_uri": "https://localhost:8080/"
    },
    "executionInfo": {
     "elapsed": 279,
     "status": "ok",
     "timestamp": 1710354930389,
     "user": {
      "displayName": "Sarah Negreiros de Carvalho Leite",
      "userId": "03059545261666309656"
     },
     "user_tz": 180
    },
    "id": "jvebeeIW9nP-",
    "outputId": "6d0fc2b0-9b6f-4cd4-f5f8-1ed7f659e907"
   },
   "outputs": [
    {
     "name": "stdout",
     "output_type": "stream",
     "text": [
      "Media Final: [10.    7.7   8.8   9.9   5.99  4.7 ] \n",
      " Aprovados: [ True  True  True  True False False]\n"
     ]
    }
   ],
   "source": [
    "media_final = np.array([10, 7.7, 8.8, 9.9, 5.99, 4.7])\n",
    "aprovados = media_final >= 6.0\n",
    "\n",
    "print('Media Final:', media_final, '\\n Aprovados:', aprovados)"
   ]
  },
  {
   "cell_type": "markdown",
   "metadata": {
    "id": "SBdQZEfGr4vS"
   },
   "source": [
    "###Contagem\n",
    "\n",
    "Ex.: Contar quantos alunos foram aprovados, ou seja, quantos valores são True."
   ]
  },
  {
   "cell_type": "code",
   "execution_count": null,
   "metadata": {
    "colab": {
     "base_uri": "https://localhost:8080/"
    },
    "executionInfo": {
     "elapsed": 266,
     "status": "ok",
     "timestamp": 1710354960892,
     "user": {
      "displayName": "Sarah Negreiros de Carvalho Leite",
      "userId": "03059545261666309656"
     },
     "user_tz": 180
    },
    "id": "klImey7BrvoI",
    "outputId": "22ce5218-8ce0-4756-b70e-3b09f45ef72f"
   },
   "outputs": [
    {
     "name": "stdout",
     "output_type": "stream",
     "text": [
      "Número de aprovados = 4\n"
     ]
    }
   ],
   "source": [
    "num_aprovados = sum(media_final >= 6.0)\n",
    "\n",
    "print('Número de aprovados =', num_aprovados)"
   ]
  },
  {
   "cell_type": "markdown",
   "metadata": {
    "id": "OUAErERLsOR-"
   },
   "source": [
    "O mesmo pode ser feito para saber quantos alunos foram reprovados. Podemos aplicar uma comparação a cada elemento do vetor, exemplo:"
   ]
  },
  {
   "cell_type": "code",
   "execution_count": null,
   "metadata": {
    "colab": {
     "base_uri": "https://localhost:8080/"
    },
    "executionInfo": {
     "elapsed": 269,
     "status": "ok",
     "timestamp": 1710355007121,
     "user": {
      "displayName": "Sarah Negreiros de Carvalho Leite",
      "userId": "03059545261666309656"
     },
     "user_tz": 180
    },
    "id": "IzXPhJ7hsSEu",
    "outputId": "4078c914-def8-444a-a686-54e3144856b5"
   },
   "outputs": [
    {
     "name": "stdout",
     "output_type": "stream",
     "text": [
      "reprovados = [False False False False  True  True]\n",
      "Número de reprovados = 2\n"
     ]
    }
   ],
   "source": [
    "reprovados = media_final < 6.0\n",
    "\n",
    "num_reprovados = sum(media_final < 6.0)\n",
    "\n",
    "print('reprovados =', reprovados)\n",
    "print('Número de reprovados =', num_reprovados)"
   ]
  },
  {
   "cell_type": "markdown",
   "metadata": {
    "id": "D-iElo3NqY5b"
   },
   "source": [
    "###Reformatando"
   ]
  },
  {
   "cell_type": "code",
   "execution_count": null,
   "metadata": {
    "colab": {
     "base_uri": "https://localhost:8080/"
    },
    "executionInfo": {
     "elapsed": 284,
     "status": "ok",
     "timestamp": 1710355026670,
     "user": {
      "displayName": "Sarah Negreiros de Carvalho Leite",
      "userId": "03059545261666309656"
     },
     "user_tz": 180
    },
    "id": "mc_J_7oFqcB4",
    "outputId": "16ad67d8-95d2-41ea-99c6-1cff89ff4893"
   },
   "outputs": [
    {
     "name": "stdout",
     "output_type": "stream",
     "text": [
      "x =\n",
      " [1 2 3 4 5 6]\n",
      "x1 =\n",
      " [[1 2 3]\n",
      " [4 5 6]]\n",
      "x2 =\n",
      " [[1 2]\n",
      " [3 4]\n",
      " [5 6]]\n",
      "x3 =\n",
      " [[1]\n",
      " [2]\n",
      " [3]\n",
      " [4]\n",
      " [5]\n",
      " [6]]\n"
     ]
    }
   ],
   "source": [
    "x = np. array([1,2,3,4,5,6])\n",
    "x1 = x.reshape(2, 3)\n",
    "x2 = x.reshape(3, 2)\n",
    "x3 = x.reshape(6, 1)\n",
    "\n",
    "print('x =\\n', x)\n",
    "print('x1 =\\n', x1)\n",
    "print('x2 =\\n', x2)\n",
    "print('x3 =\\n', x3)"
   ]
  },
  {
   "cell_type": "code",
   "execution_count": null,
   "metadata": {
    "colab": {
     "base_uri": "https://localhost:8080/"
    },
    "executionInfo": {
     "elapsed": 394,
     "status": "ok",
     "timestamp": 1710355156305,
     "user": {
      "displayName": "Sarah Negreiros de Carvalho Leite",
      "userId": "03059545261666309656"
     },
     "user_tz": 180
    },
    "id": "rah6N5LlGx5M",
    "outputId": "a833ce67-ba5a-4e44-8c7e-6f75091973d0"
   },
   "outputs": [
    {
     "name": "stdout",
     "output_type": "stream",
     "text": [
      "(3,)\n",
      "(1, 3)\n"
     ]
    }
   ],
   "source": [
    "y = np.array([1,2,3])\n",
    "\n",
    "print(y.shape)\n",
    "\n",
    "y2 = y.reshape(1,3)\n",
    "\n",
    "print(y2.shape)"
   ]
  }
 ],
 "metadata": {
  "colab": {
   "provenance": [
    {
     "file_id": "1bkfT_-jXReOxzgdrwUtmcIsd6Btp6b2X",
     "timestamp": 1701797926296
    }
   ]
  },
  "kernelspec": {
   "display_name": "Python 3 (ipykernel)",
   "language": "python",
   "name": "python3"
  },
  "language_info": {
   "codemirror_mode": {
    "name": "ipython",
    "version": 3
   },
   "file_extension": ".py",
   "mimetype": "text/x-python",
   "name": "python",
   "nbconvert_exporter": "python",
   "pygments_lexer": "ipython3",
   "version": "3.10.12"
  }
 },
 "nbformat": 4,
 "nbformat_minor": 1
}

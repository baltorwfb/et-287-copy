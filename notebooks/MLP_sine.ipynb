{
 "cells": [
  {
   "cell_type": "markdown",
   "metadata": {
    "id": "oI4OLvBfwRuX"
   },
   "source": [
    "# Approximating the sine function with an MLP"
   ]
  },
  {
   "cell_type": "markdown",
   "metadata": {
    "id": "XaTMbwWqxORB"
   },
   "source": [
    "## Etapa 01\n",
    "Importar as bibliotecas de aprendizado de máquina e computação científica."
   ]
  },
  {
   "cell_type": "code",
   "execution_count": 1,
   "metadata": {
    "executionInfo": {
     "elapsed": 4117,
     "status": "ok",
     "timestamp": 1727112261540,
     "user": {
      "displayName": "Sarah Negreiros de Carvalho Leite",
      "userId": "03059545261666309656"
     },
     "user_tz": 180
    },
    "id": "JFNoHE2LvocY"
   },
   "outputs": [
    {
     "name": "stderr",
     "output_type": "stream",
     "text": [
      "2024-10-01 15:39:32.307661: I external/local_xla/xla/tsl/cuda/cudart_stub.cc:32] Could not find cuda drivers on your machine, GPU will not be used.\n",
      "2024-10-01 15:39:32.310899: I external/local_xla/xla/tsl/cuda/cudart_stub.cc:32] Could not find cuda drivers on your machine, GPU will not be used.\n",
      "2024-10-01 15:39:32.320744: E external/local_xla/xla/stream_executor/cuda/cuda_fft.cc:485] Unable to register cuFFT factory: Attempting to register factory for plugin cuFFT when one has already been registered\n",
      "2024-10-01 15:39:32.335192: E external/local_xla/xla/stream_executor/cuda/cuda_dnn.cc:8454] Unable to register cuDNN factory: Attempting to register factory for plugin cuDNN when one has already been registered\n",
      "2024-10-01 15:39:32.339457: E external/local_xla/xla/stream_executor/cuda/cuda_blas.cc:1452] Unable to register cuBLAS factory: Attempting to register factory for plugin cuBLAS when one has already been registered\n",
      "2024-10-01 15:39:32.350739: I tensorflow/core/platform/cpu_feature_guard.cc:210] This TensorFlow binary is optimized to use available CPU instructions in performance-critical operations.\n",
      "To enable the following instructions: AVX2 FMA, in other operations, rebuild TensorFlow with the appropriate compiler flags.\n",
      "2024-10-01 15:39:33.367555: W tensorflow/compiler/tf2tensorrt/utils/py_utils.cc:38] TF-TRT Warning: Could not find TensorRT\n"
     ]
    }
   ],
   "source": [
    "# Biblioteca de aprendizado de máquina\n",
    "from tensorflow import keras\n",
    "from keras.models import Sequential\n",
    "from keras.layers import Dense\n",
    "\n",
    "# Bibliotecas de computação científica\n",
    "import numpy as np\n",
    "import matplotlib.pyplot as plt"
   ]
  },
  {
   "cell_type": "markdown",
   "metadata": {
    "id": "0uWeTDXbxpLv"
   },
   "source": [
    "## Etapa 02\n",
    "Criar a base de dados sintética."
   ]
  },
  {
   "cell_type": "code",
   "execution_count": 2,
   "metadata": {},
   "outputs": [],
   "source": [
    "NUM_SAMPLES = 500\n",
    "\n",
    "x_train = np.random.uniform(0, 1, NUM_SAMPLES)\n",
    "x_train = np.sort(x_train, axis = 0)\n",
    "y_train = np.sin(2 * np.pi * x_train)\n",
    "\n",
    "x_test = np.random.uniform(0, 1, int(NUM_SAMPLES/3))\n",
    "x_test = np.sort(x_test, axis = 0)\n",
    "y_test = np.sin(2 * np.pi * x_test)"
   ]
  },
  {
   "cell_type": "markdown",
   "metadata": {
    "id": "JAC366FUyOhB"
   },
   "source": [
    "## Etapa 03\n",
    "Conhecer a dimensão dos conjuntos da base de dados."
   ]
  },
  {
   "cell_type": "code",
   "execution_count": 3,
   "metadata": {
    "colab": {
     "base_uri": "https://localhost:8080/"
    },
    "executionInfo": {
     "elapsed": 8,
     "status": "ok",
     "timestamp": 1727112261541,
     "user": {
      "displayName": "Sarah Negreiros de Carvalho Leite",
      "userId": "03059545261666309656"
     },
     "user_tz": 180
    },
    "id": "dHYwuZotyBOr",
    "outputId": "5daeee9e-c727-4750-dff8-21b1f99f953f"
   },
   "outputs": [
    {
     "name": "stdout",
     "output_type": "stream",
     "text": [
      "x_train (500,)\n",
      "y_train (500,)\n",
      "x_test (166,)\n",
      "y_test (166,)\n"
     ]
    }
   ],
   "source": [
    "print('x_train', x_train.shape)\n",
    "print('y_train', y_train.shape)\n",
    "print('x_test', x_test.shape)\n",
    "print('y_test', y_test.shape)"
   ]
  },
  {
   "cell_type": "markdown",
   "metadata": {
    "id": "OOBgB_Yzyls_"
   },
   "source": [
    "## Etapa 04\n",
    "Construir a rede neural utilizando o Keras."
   ]
  },
  {
   "cell_type": "code",
   "execution_count": 69,
   "metadata": {
    "colab": {
     "base_uri": "https://localhost:8080/",
     "height": 199
    },
    "executionInfo": {
     "elapsed": 462,
     "status": "ok",
     "timestamp": 1727113354782,
     "user": {
      "displayName": "Sarah Negreiros de Carvalho Leite",
      "userId": "03059545261666309656"
     },
     "user_tz": 180
    },
    "id": "9PWJrJFiydZl",
    "outputId": "41f005f8-44cd-49da-9622-7fdd924f3f78"
   },
   "outputs": [
    {
     "data": {
      "text/html": [
       "<pre style=\"white-space:pre;overflow-x:auto;line-height:normal;font-family:Menlo,'DejaVu Sans Mono',consolas,'Courier New',monospace\"><span style=\"font-weight: bold\">Model: \"sequential\"</span>\n",
       "</pre>\n"
      ],
      "text/plain": [
       "\u001b[1mModel: \"sequential\"\u001b[0m\n"
      ]
     },
     "metadata": {},
     "output_type": "display_data"
    },
    {
     "data": {
      "text/html": [
       "<pre style=\"white-space:pre;overflow-x:auto;line-height:normal;font-family:Menlo,'DejaVu Sans Mono',consolas,'Courier New',monospace\">┏━━━━━━━━━━━━━━━━━━━━━━━━━━━━━━━━━┳━━━━━━━━━━━━━━━━━━━━━━━━┳━━━━━━━━━━━━━━━┓\n",
       "┃<span style=\"font-weight: bold\"> Layer (type)                    </span>┃<span style=\"font-weight: bold\"> Output Shape           </span>┃<span style=\"font-weight: bold\">       Param # </span>┃\n",
       "┡━━━━━━━━━━━━━━━━━━━━━━━━━━━━━━━━━╇━━━━━━━━━━━━━━━━━━━━━━━━╇━━━━━━━━━━━━━━━┩\n",
       "│ dense (<span style=\"color: #0087ff; text-decoration-color: #0087ff\">Dense</span>)                   │ (<span style=\"color: #00d7ff; text-decoration-color: #00d7ff\">None</span>, <span style=\"color: #00af00; text-decoration-color: #00af00\">64</span>)             │           <span style=\"color: #00af00; text-decoration-color: #00af00\">128</span> │\n",
       "├─────────────────────────────────┼────────────────────────┼───────────────┤\n",
       "│ dense_1 (<span style=\"color: #0087ff; text-decoration-color: #0087ff\">Dense</span>)                 │ (<span style=\"color: #00d7ff; text-decoration-color: #00d7ff\">None</span>, <span style=\"color: #00af00; text-decoration-color: #00af00\">16</span>)             │         <span style=\"color: #00af00; text-decoration-color: #00af00\">1,040</span> │\n",
       "├─────────────────────────────────┼────────────────────────┼───────────────┤\n",
       "│ dense_2 (<span style=\"color: #0087ff; text-decoration-color: #0087ff\">Dense</span>)                 │ (<span style=\"color: #00d7ff; text-decoration-color: #00d7ff\">None</span>, <span style=\"color: #00af00; text-decoration-color: #00af00\">16</span>)             │           <span style=\"color: #00af00; text-decoration-color: #00af00\">272</span> │\n",
       "├─────────────────────────────────┼────────────────────────┼───────────────┤\n",
       "│ dense_3 (<span style=\"color: #0087ff; text-decoration-color: #0087ff\">Dense</span>)                 │ (<span style=\"color: #00d7ff; text-decoration-color: #00d7ff\">None</span>, <span style=\"color: #00af00; text-decoration-color: #00af00\">16</span>)             │           <span style=\"color: #00af00; text-decoration-color: #00af00\">272</span> │\n",
       "├─────────────────────────────────┼────────────────────────┼───────────────┤\n",
       "│ dense_4 (<span style=\"color: #0087ff; text-decoration-color: #0087ff\">Dense</span>)                 │ (<span style=\"color: #00d7ff; text-decoration-color: #00d7ff\">None</span>, <span style=\"color: #00af00; text-decoration-color: #00af00\">1</span>)              │            <span style=\"color: #00af00; text-decoration-color: #00af00\">17</span> │\n",
       "└─────────────────────────────────┴────────────────────────┴───────────────┘\n",
       "</pre>\n"
      ],
      "text/plain": [
       "┏━━━━━━━━━━━━━━━━━━━━━━━━━━━━━━━━━┳━━━━━━━━━━━━━━━━━━━━━━━━┳━━━━━━━━━━━━━━━┓\n",
       "┃\u001b[1m \u001b[0m\u001b[1mLayer (type)                   \u001b[0m\u001b[1m \u001b[0m┃\u001b[1m \u001b[0m\u001b[1mOutput Shape          \u001b[0m\u001b[1m \u001b[0m┃\u001b[1m \u001b[0m\u001b[1m      Param #\u001b[0m\u001b[1m \u001b[0m┃\n",
       "┡━━━━━━━━━━━━━━━━━━━━━━━━━━━━━━━━━╇━━━━━━━━━━━━━━━━━━━━━━━━╇━━━━━━━━━━━━━━━┩\n",
       "│ dense (\u001b[38;5;33mDense\u001b[0m)                   │ (\u001b[38;5;45mNone\u001b[0m, \u001b[38;5;34m64\u001b[0m)             │           \u001b[38;5;34m128\u001b[0m │\n",
       "├─────────────────────────────────┼────────────────────────┼───────────────┤\n",
       "│ dense_1 (\u001b[38;5;33mDense\u001b[0m)                 │ (\u001b[38;5;45mNone\u001b[0m, \u001b[38;5;34m16\u001b[0m)             │         \u001b[38;5;34m1,040\u001b[0m │\n",
       "├─────────────────────────────────┼────────────────────────┼───────────────┤\n",
       "│ dense_2 (\u001b[38;5;33mDense\u001b[0m)                 │ (\u001b[38;5;45mNone\u001b[0m, \u001b[38;5;34m16\u001b[0m)             │           \u001b[38;5;34m272\u001b[0m │\n",
       "├─────────────────────────────────┼────────────────────────┼───────────────┤\n",
       "│ dense_3 (\u001b[38;5;33mDense\u001b[0m)                 │ (\u001b[38;5;45mNone\u001b[0m, \u001b[38;5;34m16\u001b[0m)             │           \u001b[38;5;34m272\u001b[0m │\n",
       "├─────────────────────────────────┼────────────────────────┼───────────────┤\n",
       "│ dense_4 (\u001b[38;5;33mDense\u001b[0m)                 │ (\u001b[38;5;45mNone\u001b[0m, \u001b[38;5;34m1\u001b[0m)              │            \u001b[38;5;34m17\u001b[0m │\n",
       "└─────────────────────────────────┴────────────────────────┴───────────────┘\n"
      ]
     },
     "metadata": {},
     "output_type": "display_data"
    },
    {
     "data": {
      "text/html": [
       "<pre style=\"white-space:pre;overflow-x:auto;line-height:normal;font-family:Menlo,'DejaVu Sans Mono',consolas,'Courier New',monospace\"><span style=\"font-weight: bold\"> Total params: </span><span style=\"color: #00af00; text-decoration-color: #00af00\">1,729</span> (6.75 KB)\n",
       "</pre>\n"
      ],
      "text/plain": [
       "\u001b[1m Total params: \u001b[0m\u001b[38;5;34m1,729\u001b[0m (6.75 KB)\n"
      ]
     },
     "metadata": {},
     "output_type": "display_data"
    },
    {
     "data": {
      "text/html": [
       "<pre style=\"white-space:pre;overflow-x:auto;line-height:normal;font-family:Menlo,'DejaVu Sans Mono',consolas,'Courier New',monospace\"><span style=\"font-weight: bold\"> Trainable params: </span><span style=\"color: #00af00; text-decoration-color: #00af00\">1,729</span> (6.75 KB)\n",
       "</pre>\n"
      ],
      "text/plain": [
       "\u001b[1m Trainable params: \u001b[0m\u001b[38;5;34m1,729\u001b[0m (6.75 KB)\n"
      ]
     },
     "metadata": {},
     "output_type": "display_data"
    },
    {
     "data": {
      "text/html": [
       "<pre style=\"white-space:pre;overflow-x:auto;line-height:normal;font-family:Menlo,'DejaVu Sans Mono',consolas,'Courier New',monospace\"><span style=\"font-weight: bold\"> Non-trainable params: </span><span style=\"color: #00af00; text-decoration-color: #00af00\">0</span> (0.00 B)\n",
       "</pre>\n"
      ],
      "text/plain": [
       "\u001b[1m Non-trainable params: \u001b[0m\u001b[38;5;34m0\u001b[0m (0.00 B)\n"
      ]
     },
     "metadata": {},
     "output_type": "display_data"
    }
   ],
   "source": [
    "try:\n",
    "    del model\n",
    "except:\n",
    "    pass\n",
    "\n",
    "np.random.seed(1)\n",
    "keras.backend.clear_session(\n",
    "    free_memory = True\n",
    ")\n",
    "\n",
    "model = Sequential()\n",
    "model.add(Dense(64, input_dim = 1,  activation='relu')),\n",
    "model.add(Dense(16, activation='relu')),\n",
    "model.add(Dense(16, activation='relu')),\n",
    "model.add(Dense(16, activation='relu')),\n",
    "model.add(Dense(1, activation='linear'))\n",
    "\n",
    "model.summary()"
   ]
  },
  {
   "cell_type": "markdown",
   "metadata": {
    "id": "hqwViNn0zbjO"
   },
   "source": [
    "## Etapa 05\n",
    "Compilar o modelo.\n",
    "\n",
    "Optimizer: As opções são encontradas em https://keras.io/api/optimizers/\n",
    "\n",
    "Loss: As opções são encontradas em https://keras.io/api/losses/\n",
    "\n",
    "Metrics: As opções são encontradas em https://keras.io/api/metrics/"
   ]
  },
  {
   "cell_type": "code",
   "execution_count": 70,
   "metadata": {
    "executionInfo": {
     "elapsed": 398,
     "status": "ok",
     "timestamp": 1727114509844,
     "user": {
      "displayName": "Sarah Negreiros de Carvalho Leite",
      "userId": "03059545261666309656"
     },
     "user_tz": 180
    },
    "id": "PlF9j6dBzKuo"
   },
   "outputs": [],
   "source": [
    "otimizador = keras.optimizers.Adam()\n",
    "model.compile(optimizer= otimizador,\n",
    "              loss='mse',\n",
    "              metrics=['mae'])"
   ]
  },
  {
   "cell_type": "markdown",
   "metadata": {
    "id": "vwD7S4q9zuMg"
   },
   "source": [
    "## Etapa 06\n",
    "Treinar o modelo e realizar a validação."
   ]
  },
  {
   "cell_type": "code",
   "execution_count": 71,
   "metadata": {
    "colab": {
     "base_uri": "https://localhost:8080/",
     "height": 1000
    },
    "executionInfo": {
     "elapsed": 3672,
     "status": "ok",
     "timestamp": 1713379094428,
     "user": {
      "displayName": "Sarah Negreiros de Carvalho Leite",
      "userId": "03059545261666309656"
     },
     "user_tz": 180
    },
    "id": "9SRyEjAvzmMI",
    "outputId": "d61a0da3-cba8-43d4-80cb-1c0ff016426b"
   },
   "outputs": [
    {
     "name": "stdout",
     "output_type": "stream",
     "text": [
      "Epoch 1/100\n",
      "8/8 - 1s - 136ms/step - loss: 0.4908 - mae: 0.6289 - val_loss: 0.4824 - val_mae: 0.6292\n",
      "Epoch 2/100\n",
      "8/8 - 0s - 6ms/step - loss: 0.4767 - mae: 0.6178 - val_loss: 0.4637 - val_mae: 0.6148\n",
      "Epoch 3/100\n",
      "8/8 - 0s - 6ms/step - loss: 0.4541 - mae: 0.6010 - val_loss: 0.4373 - val_mae: 0.5953\n",
      "Epoch 4/100\n",
      "8/8 - 0s - 6ms/step - loss: 0.4265 - mae: 0.5795 - val_loss: 0.4042 - val_mae: 0.5684\n",
      "Epoch 5/100\n",
      "8/8 - 0s - 6ms/step - loss: 0.3898 - mae: 0.5509 - val_loss: 0.3639 - val_mae: 0.5355\n",
      "Epoch 6/100\n",
      "8/8 - 0s - 6ms/step - loss: 0.3467 - mae: 0.5162 - val_loss: 0.3136 - val_mae: 0.4905\n",
      "Epoch 7/100\n",
      "8/8 - 0s - 6ms/step - loss: 0.2919 - mae: 0.4720 - val_loss: 0.2509 - val_mae: 0.4347\n",
      "Epoch 8/100\n",
      "8/8 - 0s - 6ms/step - loss: 0.2275 - mae: 0.4150 - val_loss: 0.1861 - val_mae: 0.3745\n",
      "Epoch 9/100\n",
      "8/8 - 0s - 6ms/step - loss: 0.1671 - mae: 0.3608 - val_loss: 0.1318 - val_mae: 0.3228\n",
      "Epoch 10/100\n",
      "8/8 - 0s - 7ms/step - loss: 0.1213 - mae: 0.3099 - val_loss: 0.0966 - val_mae: 0.2776\n",
      "Epoch 11/100\n",
      "8/8 - 0s - 7ms/step - loss: 0.0938 - mae: 0.2674 - val_loss: 0.0816 - val_mae: 0.2477\n",
      "Epoch 12/100\n",
      "8/8 - 0s - 6ms/step - loss: 0.0837 - mae: 0.2412 - val_loss: 0.0749 - val_mae: 0.2253\n",
      "Epoch 13/100\n",
      "8/8 - 0s - 6ms/step - loss: 0.0766 - mae: 0.2236 - val_loss: 0.0699 - val_mae: 0.2139\n",
      "Epoch 14/100\n",
      "8/8 - 0s - 6ms/step - loss: 0.0725 - mae: 0.2158 - val_loss: 0.0675 - val_mae: 0.2107\n",
      "Epoch 15/100\n",
      "8/8 - 0s - 6ms/step - loss: 0.0696 - mae: 0.2110 - val_loss: 0.0648 - val_mae: 0.1995\n",
      "Epoch 16/100\n",
      "8/8 - 0s - 6ms/step - loss: 0.0671 - mae: 0.2004 - val_loss: 0.0633 - val_mae: 0.1952\n",
      "Epoch 17/100\n",
      "8/8 - 0s - 6ms/step - loss: 0.0647 - mae: 0.1931 - val_loss: 0.0611 - val_mae: 0.1862\n",
      "Epoch 18/100\n",
      "8/8 - 0s - 6ms/step - loss: 0.0625 - mae: 0.1886 - val_loss: 0.0589 - val_mae: 0.1837\n",
      "Epoch 19/100\n",
      "8/8 - 0s - 6ms/step - loss: 0.0601 - mae: 0.1842 - val_loss: 0.0569 - val_mae: 0.1768\n",
      "Epoch 20/100\n",
      "8/8 - 0s - 6ms/step - loss: 0.0578 - mae: 0.1767 - val_loss: 0.0549 - val_mae: 0.1735\n",
      "Epoch 21/100\n",
      "8/8 - 0s - 6ms/step - loss: 0.0556 - mae: 0.1712 - val_loss: 0.0527 - val_mae: 0.1653\n",
      "Epoch 22/100\n",
      "8/8 - 0s - 5ms/step - loss: 0.0534 - mae: 0.1663 - val_loss: 0.0508 - val_mae: 0.1629\n",
      "Epoch 23/100\n",
      "8/8 - 0s - 6ms/step - loss: 0.0507 - mae: 0.1609 - val_loss: 0.0480 - val_mae: 0.1572\n",
      "Epoch 24/100\n",
      "8/8 - 0s - 6ms/step - loss: 0.0480 - mae: 0.1553 - val_loss: 0.0451 - val_mae: 0.1502\n",
      "Epoch 25/100\n",
      "8/8 - 0s - 6ms/step - loss: 0.0448 - mae: 0.1499 - val_loss: 0.0429 - val_mae: 0.1456\n",
      "Epoch 26/100\n",
      "8/8 - 0s - 6ms/step - loss: 0.0423 - mae: 0.1412 - val_loss: 0.0408 - val_mae: 0.1365\n",
      "Epoch 27/100\n",
      "8/8 - 0s - 5ms/step - loss: 0.0391 - mae: 0.1340 - val_loss: 0.0373 - val_mae: 0.1325\n",
      "Epoch 28/100\n",
      "8/8 - 0s - 6ms/step - loss: 0.0367 - mae: 0.1293 - val_loss: 0.0348 - val_mae: 0.1242\n",
      "Epoch 29/100\n",
      "8/8 - 0s - 6ms/step - loss: 0.0345 - mae: 0.1191 - val_loss: 0.0334 - val_mae: 0.1194\n",
      "Epoch 30/100\n",
      "8/8 - 0s - 6ms/step - loss: 0.0321 - mae: 0.1137 - val_loss: 0.0304 - val_mae: 0.1123\n",
      "Epoch 31/100\n",
      "8/8 - 0s - 6ms/step - loss: 0.0299 - mae: 0.1093 - val_loss: 0.0282 - val_mae: 0.1043\n",
      "Epoch 32/100\n",
      "8/8 - 0s - 5ms/step - loss: 0.0277 - mae: 0.1048 - val_loss: 0.0260 - val_mae: 0.1031\n",
      "Epoch 33/100\n",
      "8/8 - 0s - 10ms/step - loss: 0.0258 - mae: 0.1000 - val_loss: 0.0245 - val_mae: 0.0961\n",
      "Epoch 34/100\n",
      "8/8 - 0s - 6ms/step - loss: 0.0238 - mae: 0.0940 - val_loss: 0.0221 - val_mae: 0.0905\n",
      "Epoch 35/100\n",
      "8/8 - 0s - 6ms/step - loss: 0.0222 - mae: 0.0933 - val_loss: 0.0203 - val_mae: 0.0875\n",
      "Epoch 36/100\n",
      "8/8 - 0s - 6ms/step - loss: 0.0202 - mae: 0.0869 - val_loss: 0.0187 - val_mae: 0.0813\n",
      "Epoch 37/100\n",
      "8/8 - 0s - 6ms/step - loss: 0.0198 - mae: 0.0949 - val_loss: 0.0177 - val_mae: 0.0931\n",
      "Epoch 38/100\n",
      "8/8 - 0s - 6ms/step - loss: 0.0174 - mae: 0.0877 - val_loss: 0.0167 - val_mae: 0.0804\n",
      "Epoch 39/100\n",
      "8/8 - 0s - 6ms/step - loss: 0.0157 - mae: 0.0818 - val_loss: 0.0139 - val_mae: 0.0827\n",
      "Epoch 40/100\n",
      "8/8 - 0s - 6ms/step - loss: 0.0141 - mae: 0.0825 - val_loss: 0.0125 - val_mae: 0.0666\n",
      "Epoch 41/100\n",
      "8/8 - 0s - 5ms/step - loss: 0.0126 - mae: 0.0725 - val_loss: 0.0109 - val_mae: 0.0702\n",
      "Epoch 42/100\n",
      "8/8 - 0s - 6ms/step - loss: 0.0111 - mae: 0.0718 - val_loss: 0.0104 - val_mae: 0.0747\n",
      "Epoch 43/100\n",
      "8/8 - 0s - 7ms/step - loss: 0.0097 - mae: 0.0678 - val_loss: 0.0087 - val_mae: 0.0569\n",
      "Epoch 44/100\n",
      "8/8 - 0s - 5ms/step - loss: 0.0086 - mae: 0.0600 - val_loss: 0.0074 - val_mae: 0.0560\n",
      "Epoch 45/100\n",
      "8/8 - 0s - 6ms/step - loss: 0.0073 - mae: 0.0534 - val_loss: 0.0065 - val_mae: 0.0479\n",
      "Epoch 46/100\n",
      "8/8 - 0s - 5ms/step - loss: 0.0062 - mae: 0.0483 - val_loss: 0.0056 - val_mae: 0.0467\n",
      "Epoch 47/100\n",
      "8/8 - 0s - 6ms/step - loss: 0.0055 - mae: 0.0463 - val_loss: 0.0050 - val_mae: 0.0418\n",
      "Epoch 48/100\n",
      "8/8 - 0s - 6ms/step - loss: 0.0048 - mae: 0.0414 - val_loss: 0.0043 - val_mae: 0.0407\n",
      "Epoch 49/100\n",
      "8/8 - 0s - 6ms/step - loss: 0.0041 - mae: 0.0389 - val_loss: 0.0041 - val_mae: 0.0442\n",
      "Epoch 50/100\n",
      "8/8 - 0s - 6ms/step - loss: 0.0039 - mae: 0.0418 - val_loss: 0.0033 - val_mae: 0.0362\n",
      "Epoch 51/100\n",
      "8/8 - 0s - 6ms/step - loss: 0.0033 - mae: 0.0347 - val_loss: 0.0030 - val_mae: 0.0356\n",
      "Epoch 52/100\n",
      "8/8 - 0s - 6ms/step - loss: 0.0027 - mae: 0.0315 - val_loss: 0.0026 - val_mae: 0.0323\n",
      "Epoch 53/100\n",
      "8/8 - 0s - 6ms/step - loss: 0.0023 - mae: 0.0297 - val_loss: 0.0023 - val_mae: 0.0306\n",
      "Epoch 54/100\n",
      "8/8 - 0s - 6ms/step - loss: 0.0022 - mae: 0.0298 - val_loss: 0.0021 - val_mae: 0.0317\n",
      "Epoch 55/100\n",
      "8/8 - 0s - 6ms/step - loss: 0.0020 - mae: 0.0284 - val_loss: 0.0018 - val_mae: 0.0262\n",
      "Epoch 56/100\n",
      "8/8 - 0s - 5ms/step - loss: 0.0016 - mae: 0.0251 - val_loss: 0.0016 - val_mae: 0.0268\n",
      "Epoch 57/100\n",
      "8/8 - 0s - 5ms/step - loss: 0.0015 - mae: 0.0244 - val_loss: 0.0014 - val_mae: 0.0266\n",
      "Epoch 58/100\n",
      "8/8 - 0s - 5ms/step - loss: 0.0013 - mae: 0.0254 - val_loss: 0.0011 - val_mae: 0.0199\n",
      "Epoch 59/100\n",
      "8/8 - 0s - 5ms/step - loss: 0.0012 - mae: 0.0217 - val_loss: 0.0012 - val_mae: 0.0226\n",
      "Epoch 60/100\n",
      "8/8 - 0s - 5ms/step - loss: 0.0011 - mae: 0.0211 - val_loss: 0.0011 - val_mae: 0.0249\n",
      "Epoch 61/100\n",
      "8/8 - 0s - 5ms/step - loss: 0.0012 - mae: 0.0248 - val_loss: 0.0013 - val_mae: 0.0304\n",
      "Epoch 62/100\n",
      "8/8 - 0s - 5ms/step - loss: 0.0010 - mae: 0.0220 - val_loss: 0.0013 - val_mae: 0.0212\n",
      "Epoch 63/100\n",
      "8/8 - 0s - 6ms/step - loss: 8.4517e-04 - mae: 0.0179 - val_loss: 7.9146e-04 - val_mae: 0.0216\n",
      "Epoch 64/100\n",
      "8/8 - 0s - 5ms/step - loss: 7.0069e-04 - mae: 0.0181 - val_loss: 6.4097e-04 - val_mae: 0.0177\n",
      "Epoch 65/100\n",
      "8/8 - 0s - 5ms/step - loss: 6.6724e-04 - mae: 0.0166 - val_loss: 7.0747e-04 - val_mae: 0.0159\n",
      "Epoch 66/100\n",
      "8/8 - 0s - 5ms/step - loss: 7.8489e-04 - mae: 0.0203 - val_loss: 5.1628e-04 - val_mae: 0.0150\n",
      "Epoch 67/100\n",
      "8/8 - 0s - 5ms/step - loss: 6.7629e-04 - mae: 0.0194 - val_loss: 5.1265e-04 - val_mae: 0.0133\n",
      "Epoch 68/100\n",
      "8/8 - 0s - 5ms/step - loss: 5.5934e-04 - mae: 0.0162 - val_loss: 4.9608e-04 - val_mae: 0.0176\n",
      "Epoch 69/100\n",
      "8/8 - 0s - 6ms/step - loss: 5.1833e-04 - mae: 0.0175 - val_loss: 3.7664e-04 - val_mae: 0.0127\n",
      "Epoch 70/100\n",
      "8/8 - 0s - 6ms/step - loss: 4.6940e-04 - mae: 0.0148 - val_loss: 5.6644e-04 - val_mae: 0.0155\n",
      "Epoch 71/100\n",
      "8/8 - 0s - 5ms/step - loss: 4.4685e-04 - mae: 0.0136 - val_loss: 4.8396e-04 - val_mae: 0.0136\n",
      "Epoch 72/100\n",
      "8/8 - 0s - 6ms/step - loss: 3.5327e-04 - mae: 0.0129 - val_loss: 3.0943e-04 - val_mae: 0.0113\n",
      "Epoch 73/100\n",
      "8/8 - 0s - 6ms/step - loss: 3.3508e-04 - mae: 0.0123 - val_loss: 3.3452e-04 - val_mae: 0.0121\n",
      "Epoch 74/100\n",
      "8/8 - 0s - 6ms/step - loss: 3.3860e-04 - mae: 0.0136 - val_loss: 2.6071e-04 - val_mae: 0.0108\n",
      "Epoch 75/100\n",
      "8/8 - 0s - 6ms/step - loss: 2.8774e-04 - mae: 0.0117 - val_loss: 2.4091e-04 - val_mae: 0.0103\n",
      "Epoch 76/100\n",
      "8/8 - 0s - 6ms/step - loss: 2.8077e-04 - mae: 0.0117 - val_loss: 2.5450e-04 - val_mae: 0.0118\n",
      "Epoch 77/100\n",
      "8/8 - 0s - 6ms/step - loss: 2.9846e-04 - mae: 0.0127 - val_loss: 2.5414e-04 - val_mae: 0.0115\n",
      "Epoch 78/100\n",
      "8/8 - 0s - 5ms/step - loss: 2.5649e-04 - mae: 0.0117 - val_loss: 2.8350e-04 - val_mae: 0.0117\n",
      "Epoch 79/100\n",
      "8/8 - 0s - 5ms/step - loss: 2.8775e-04 - mae: 0.0123 - val_loss: 2.3339e-04 - val_mae: 0.0103\n",
      "Epoch 80/100\n",
      "8/8 - 0s - 5ms/step - loss: 2.6645e-04 - mae: 0.0125 - val_loss: 1.9486e-04 - val_mae: 0.0095\n",
      "Epoch 81/100\n",
      "8/8 - 0s - 5ms/step - loss: 2.0623e-04 - mae: 0.0105 - val_loss: 1.7943e-04 - val_mae: 0.0098\n",
      "Epoch 82/100\n",
      "8/8 - 0s - 5ms/step - loss: 1.8368e-04 - mae: 0.0095 - val_loss: 1.6019e-04 - val_mae: 0.0085\n",
      "Epoch 83/100\n",
      "8/8 - 0s - 5ms/step - loss: 1.8480e-04 - mae: 0.0095 - val_loss: 1.5344e-04 - val_mae: 0.0083\n",
      "Epoch 84/100\n",
      "8/8 - 0s - 5ms/step - loss: 1.7167e-04 - mae: 0.0094 - val_loss: 1.5767e-04 - val_mae: 0.0092\n",
      "Epoch 85/100\n",
      "8/8 - 0s - 5ms/step - loss: 1.7282e-04 - mae: 0.0093 - val_loss: 1.4373e-04 - val_mae: 0.0085\n",
      "Epoch 86/100\n",
      "8/8 - 0s - 5ms/step - loss: 1.6137e-04 - mae: 0.0091 - val_loss: 1.5950e-04 - val_mae: 0.0098\n",
      "Epoch 87/100\n",
      "8/8 - 0s - 6ms/step - loss: 1.5740e-04 - mae: 0.0091 - val_loss: 1.4321e-04 - val_mae: 0.0089\n",
      "Epoch 88/100\n",
      "8/8 - 0s - 5ms/step - loss: 1.5484e-04 - mae: 0.0089 - val_loss: 1.5148e-04 - val_mae: 0.0085\n",
      "Epoch 89/100\n",
      "8/8 - 0s - 5ms/step - loss: 1.5239e-04 - mae: 0.0092 - val_loss: 1.4576e-04 - val_mae: 0.0079\n",
      "Epoch 90/100\n",
      "8/8 - 0s - 5ms/step - loss: 1.5042e-04 - mae: 0.0091 - val_loss: 1.3903e-04 - val_mae: 0.0091\n",
      "Epoch 91/100\n",
      "8/8 - 0s - 5ms/step - loss: 1.6037e-04 - mae: 0.0094 - val_loss: 1.5051e-04 - val_mae: 0.0085\n",
      "Epoch 92/100\n",
      "8/8 - 0s - 11ms/step - loss: 1.4717e-04 - mae: 0.0088 - val_loss: 1.4928e-04 - val_mae: 0.0102\n",
      "Epoch 93/100\n",
      "8/8 - 0s - 6ms/step - loss: 1.3769e-04 - mae: 0.0091 - val_loss: 1.5572e-04 - val_mae: 0.0103\n",
      "Epoch 94/100\n",
      "8/8 - 0s - 6ms/step - loss: 1.4641e-04 - mae: 0.0095 - val_loss: 1.0789e-04 - val_mae: 0.0069\n",
      "Epoch 95/100\n",
      "8/8 - 0s - 5ms/step - loss: 1.5749e-04 - mae: 0.0092 - val_loss: 1.0418e-04 - val_mae: 0.0073\n",
      "Epoch 96/100\n",
      "8/8 - 0s - 5ms/step - loss: 1.2499e-04 - mae: 0.0086 - val_loss: 1.1634e-04 - val_mae: 0.0084\n",
      "Epoch 97/100\n",
      "8/8 - 0s - 5ms/step - loss: 1.1305e-04 - mae: 0.0080 - val_loss: 1.1575e-04 - val_mae: 0.0086\n",
      "Epoch 98/100\n",
      "8/8 - 0s - 5ms/step - loss: 1.0836e-04 - mae: 0.0079 - val_loss: 9.9015e-05 - val_mae: 0.0072\n",
      "Epoch 99/100\n",
      "8/8 - 0s - 5ms/step - loss: 1.0528e-04 - mae: 0.0074 - val_loss: 1.0039e-04 - val_mae: 0.0074\n",
      "Epoch 100/100\n",
      "8/8 - 0s - 5ms/step - loss: 1.1883e-04 - mae: 0.0080 - val_loss: 1.1262e-04 - val_mae: 0.0068\n"
     ]
    },
    {
     "data": {
      "image/png": "[encoded data removed]",
      "text/plain": [
       "<Figure size 640x480 with 1 Axes>"
      ]
     },
     "metadata": {},
     "output_type": "display_data"
    }
   ],
   "source": [
    "history = model.fit(x_train, y_train, epochs=100, batch_size=64, verbose=2, validation_data=(x_test, y_test))\n",
    "plt.plot(history.history['mae'], label = 'treinamento')\n",
    "plt.plot(history.history['val_mae'], label='validacao')\n",
    "plt.title('Acurácia do modelo')\n",
    "plt.ylabel('Acurácia')\n",
    "plt.xlabel('Épocas')\n",
    "plt.legend(['treinamento', 'validacao'], loc='upper left')\n",
    "plt.show()"
   ]
  },
  {
   "cell_type": "markdown",
   "metadata": {
    "id": "2wA8zRaD0y86"
   },
   "source": [
    "## Etapa 07\n",
    "Realizar algumas predições."
   ]
  },
  {
   "cell_type": "code",
   "execution_count": 72,
   "metadata": {
    "colab": {
     "base_uri": "https://localhost:8080/"
    },
    "executionInfo": {
     "elapsed": 8,
     "status": "ok",
     "timestamp": 1713379094978,
     "user": {
      "displayName": "Sarah Negreiros de Carvalho Leite",
      "userId": "03059545261666309656"
     },
     "user_tz": 180
    },
    "id": "bwWLfMI6ob_j",
    "outputId": "d83a8928-62a6-4ff8-d085-20211cefbf9b"
   },
   "outputs": [
    {
     "name": "stdout",
     "output_type": "stream",
     "text": [
      "\u001b[1m6/6\u001b[0m \u001b[32m━━━━━━━━━━━━━━━━━━━━\u001b[0m\u001b[37m\u001b[0m \u001b[1m0s\u001b[0m 8ms/step \n"
     ]
    },
    {
     "data": {
      "text/plain": [
       "[<matplotlib.lines.Line2D at 0x70f7d475d610>]"
      ]
     },
     "execution_count": 72,
     "metadata": {},
     "output_type": "execute_result"
    },
    {
     "data": {
      "image/png": "[encoded data removed]",
      "text/plain": [
       "<Figure size 640x480 with 1 Axes>"
      ]
     },
     "metadata": {},
     "output_type": "display_data"
    }
   ],
   "source": [
    "y_pred = model.predict(x_test)\n",
    "plt.plot(x_train, y_train)\n",
    "plt.plot(x_test, y_pred)"
   ]
  },
  {
   "cell_type": "code",
   "execution_count": 60,
   "metadata": {
    "colab": {
     "base_uri": "https://localhost:8080/"
    },
    "executionInfo": {
     "elapsed": 6,
     "status": "ok",
     "timestamp": 1713379094978,
     "user": {
      "displayName": "Sarah Negreiros de Carvalho Leite",
      "userId": "03059545261666309656"
     },
     "user_tz": 180
    },
    "id": "JHaRjEXNn2r_",
    "outputId": "7c7d8d7e-94f2-42f2-f955-71e17aca52c8"
   },
   "outputs": [
    {
     "name": "stdout",
     "output_type": "stream",
     "text": [
      "\u001b[1m16/16\u001b[0m \u001b[32m━━━━━━━━━━━━━━━━━━━━\u001b[0m\u001b[37m\u001b[0m \u001b[1m0s\u001b[0m 931us/step - loss: 1.2016e-04 - mae: 0.0085\n"
     ]
    },
    {
     "data": {
      "text/plain": [
       "[0.0003062735195271671, 0.012528671883046627]"
      ]
     },
     "execution_count": 60,
     "metadata": {},
     "output_type": "execute_result"
    }
   ],
   "source": [
    "model.evaluate(x_train, y_train)"
   ]
  }
 ],
 "metadata": {
  "colab": {
   "provenance": [
    {
     "file_id": "1RJKirLkbYK9RnBmeoNdbDj9KqaGSxgMw",
     "timestamp": 1712843183705
    }
   ]
  },
  "kernelspec": {
   "display_name": "Python 3 (ipykernel)",
   "language": "python",
   "name": "python3"
  },
  "language_info": {
   "codemirror_mode": {
    "name": "ipython",
    "version": 3
   },
   "file_extension": ".py",
   "mimetype": "text/x-python",
   "name": "python",
   "nbconvert_exporter": "python",
   "pygments_lexer": "ipython3",
   "version": "3.11.10"
  }
 },
 "nbformat": 4,
 "nbformat_minor": 4
}

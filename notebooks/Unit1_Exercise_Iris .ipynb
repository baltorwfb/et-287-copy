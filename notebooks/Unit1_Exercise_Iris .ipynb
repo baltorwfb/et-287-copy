{
 "cells": [
  {
   "cell_type": "code",
   "execution_count": 2,
   "metadata": {
    "colab": {
     "base_uri": "https://localhost:8080/"
    },
    "executionInfo": {
     "elapsed": 3419,
     "status": "ok",
     "timestamp": 1723488881900,
     "user": {
      "displayName": "Sarah Negreiros de Carvalho Leite",
      "userId": "03059545261666309656"
     },
     "user_tz": 180
    },
    "id": "zfRObctcVlV2",
    "outputId": "bd0a1185-6276-4f60-bcae-4ad1018da5b5"
   },
   "outputs": [
    {
     "name": "stdout",
     "output_type": "stream",
     "text": [
      "Descrição da base de dados ::  .. _iris_dataset:\n",
      "\n",
      "Iris plants dataset\n",
      "--------------------\n",
      "\n",
      "**Data Set Characteristics:**\n",
      "\n",
      "    :Number of Instances: 150 (50 in each of three classes)\n",
      "    :Number of Attributes: 4 numeric, predictive attributes and the class\n",
      "    :Attribute Information:\n",
      "        - sepal length in cm\n",
      "        - sepal width in cm\n",
      "        - petal length in cm\n",
      "        - petal width in cm\n",
      "        - class:\n",
      "                - Iris-Setosa\n",
      "                - Iris-Versicolour\n",
      "                - Iris-Virginica\n",
      "                \n",
      "    :Summary Statistics:\n",
      "\n",
      "    ============== ==== ==== ======= ===== ====================\n",
      "                    Min  Max   Mean    SD   Class Correlation\n",
      "    ============== ==== ==== ======= ===== ====================\n",
      "    sepal length:   4.3  7.9   5.84   0.83    0.7826\n",
      "    sepal width:    2.0  4.4   3.05   0.43   -0.4194\n",
      "    petal length:   1.0  6.9   3.76   1.76    0.9490  (high!)\n",
      "    petal width:    0.1  2.5   1.20   0.76    0.9565  (high!)\n",
      "    ============== ==== ==== ======= ===== ====================\n",
      "\n",
      "    :Missing Attribute Values: None\n",
      "    :Class Distribution: 33.3% for each of 3 classes.\n",
      "    :Creator: R.A. Fisher\n",
      "    :Donor: Michael Marshall (MARSHALL%PLU@io.arc.nasa.gov)\n",
      "    :Date: July, 1988\n",
      "\n",
      "The famous Iris database, first used by Sir R.A. Fisher. The dataset is taken\n",
      "from Fisher's paper. Note that it's the same as in R, but not as in the UCI\n",
      "Machine Learning Repository, which has two wrong data points.\n",
      "\n",
      "This is perhaps the best known database to be found in the\n",
      "pattern recognition literature.  Fisher's paper is a classic in the field and\n",
      "is referenced frequently to this day.  (See Duda & Hart, for example.)  The\n",
      "data set contains 3 classes of 50 instances each, where each class refers to a\n",
      "type of iris plant.  One class is linearly separable from the other 2; the\n",
      "latter are NOT linearly separable from each other.\n",
      "\n",
      "|details-start|\n",
      "**References**\n",
      "|details-split|\n",
      "\n",
      "- Fisher, R.A. \"The use of multiple measurements in taxonomic problems\"\n",
      "  Annual Eugenics, 7, Part II, 179-188 (1936); also in \"Contributions to\n",
      "  Mathematical Statistics\" (John Wiley, NY, 1950).\n",
      "- Duda, R.O., & Hart, P.E. (1973) Pattern Classification and Scene Analysis.\n",
      "  (Q327.D83) John Wiley & Sons.  ISBN 0-471-22361-1.  See page 218.\n",
      "- Dasarathy, B.V. (1980) \"Nosing Around the Neighborhood: A New System\n",
      "  Structure and Classification Rule for Recognition in Partially Exposed\n",
      "  Environments\".  IEEE Transactions on Pattern Analysis and Machine\n",
      "  Intelligence, Vol. PAMI-2, No. 1, 67-71.\n",
      "- Gates, G.W. (1972) \"The Reduced Nearest Neighbor Rule\".  IEEE Transactions\n",
      "  on Information Theory, May 1972, 431-433.\n",
      "- See also: 1988 MLC Proceedings, 54-64.  Cheeseman et al\"s AUTOCLASS II\n",
      "  conceptual clustering system finds 3 classes in the data.\n",
      "- Many, many more ...\n",
      "\n",
      "|details-end|\n"
     ]
    }
   ],
   "source": [
    "import numpy as np\n",
    "from sklearn import datasets\n",
    "import matplotlib.pyplot as plt\n",
    "import seaborn as sns\n",
    "import pandas as pd\n",
    "\n",
    "iris_dataset = datasets.load_iris()\n",
    "print(\"Descrição da base de dados :: \", iris_dataset['DESCR'])"
   ]
  },
  {
   "cell_type": "code",
   "execution_count": 3,
   "metadata": {
    "colab": {
     "base_uri": "https://localhost:8080/"
    },
    "executionInfo": {
     "elapsed": 2,
     "status": "ok",
     "timestamp": 1723489222451,
     "user": {
      "displayName": "Sarah Negreiros de Carvalho Leite",
      "userId": "03059545261666309656"
     },
     "user_tz": 180
    },
    "id": "Sk4X6hFmVptS",
    "outputId": "1cac47bf-a312-4a34-86be-9d7a4cec16ef"
   },
   "outputs": [
    {
     "name": "stdout",
     "output_type": "stream",
     "text": [
      "Dimensão de  X = (150, 4)\n",
      "Dimensão de  Y = (150,)\n"
     ]
    }
   ],
   "source": [
    "#Obter os dados\n",
    "X = iris_dataset.data\n",
    "Y = iris_dataset.target\n",
    "\n",
    "print('Dimensão de  X =',X.shape)\n",
    "print('Dimensão de  Y =',Y.shape)"
   ]
  },
  {
   "cell_type": "code",
   "execution_count": 4,
   "metadata": {
    "colab": {
     "base_uri": "https://localhost:8080/"
    },
    "executionInfo": {
     "elapsed": 273,
     "status": "ok",
     "timestamp": 1723489492542,
     "user": {
      "displayName": "Sarah Negreiros de Carvalho Leite",
      "userId": "03059545261666309656"
     },
     "user_tz": 180
    },
    "id": "yy-09VDcVr5p",
    "outputId": "e3c758b4-938e-41ed-ac4f-65bd8a9b0df4"
   },
   "outputs": [
    {
     "name": "stdout",
     "output_type": "stream",
     "text": [
      "Máximo = [7.9 4.4 6.9 2.5]\n",
      "Mínimo = [4.3 2.  1.  0.1]\n"
     ]
    }
   ],
   "source": [
    "max = np.max(X, axis=0)\n",
    "print('Máximo =', max)\n",
    "min = np.min(X,axis=0)\n",
    "print('Mínimo =', min)"
   ]
  },
  {
   "cell_type": "code",
   "execution_count": 5,
   "metadata": {
    "colab": {
     "base_uri": "https://localhost:8080/"
    },
    "executionInfo": {
     "elapsed": 256,
     "status": "ok",
     "timestamp": 1723489496844,
     "user": {
      "displayName": "Sarah Negreiros de Carvalho Leite",
      "userId": "03059545261666309656"
     },
     "user_tz": 180
    },
    "id": "_akx_VZ-VtlO",
    "outputId": "41713dcf-88b8-467e-bda5-b08c77609fe7"
   },
   "outputs": [
    {
     "name": "stdout",
     "output_type": "stream",
     "text": [
      "média: [5.84333333 3.05733333 3.758      1.19933333]\n",
      "desvio_padrão [0.82530129 0.43441097 1.75940407 0.75969263]\n"
     ]
    }
   ],
   "source": [
    "media = np.mean(X, axis=0)\n",
    "print('média:', media)\n",
    "\n",
    "desvio = np.std(X, axis=0)\n",
    "print('desvio_padrão', desvio)"
   ]
  },
  {
   "cell_type": "code",
   "execution_count": 6,
   "metadata": {
    "colab": {
     "base_uri": "https://localhost:8080/"
    },
    "executionInfo": {
     "elapsed": 346,
     "status": "ok",
     "timestamp": 1723490595515,
     "user": {
      "displayName": "Sarah Negreiros de Carvalho Leite",
      "userId": "03059545261666309656"
     },
     "user_tz": 180
    },
    "id": "7MsFVSbk_Ojv",
    "outputId": "efde0cea-e842-42dd-a48e-5d3f37fd005f"
   },
   "outputs": [
    {
     "name": "stdout",
     "output_type": "stream",
     "text": [
      "num. setosas: 50 \n",
      "num. versicolors: 50 \n",
      "num. virginicas: 50\n"
     ]
    }
   ],
   "source": [
    "Yset = sum(Y==0)\n",
    "Yver = sum(Y==1)\n",
    "Yvir = sum(Y==2)\n",
    "print('num. setosas:', Yset, '\\nnum. versicolors:', Yver, '\\nnum. virginicas:', Yvir)"
   ]
  },
  {
   "cell_type": "markdown",
   "metadata": {
    "id": "rX2m6Z3_g9im"
   },
   "source": [
    "Valores dentro de cada espécie"
   ]
  },
  {
   "cell_type": "code",
   "execution_count": 7,
   "metadata": {
    "colab": {
     "base_uri": "https://localhost:8080/"
    },
    "executionInfo": {
     "elapsed": 6,
     "status": "ok",
     "timestamp": 1710362677107,
     "user": {
      "displayName": "Sarah Negreiros de Carvalho Leite",
      "userId": "03059545261666309656"
     },
     "user_tz": 180
    },
    "id": "-YjZcjSThCvK",
    "outputId": "f1bd9a5c-daa3-468a-fb8c-d6d660d73a09"
   },
   "outputs": [
    {
     "name": "stdout",
     "output_type": "stream",
     "text": [
      "(50, 4)\n",
      "(50, 4)\n",
      "(50, 4)\n"
     ]
    }
   ],
   "source": [
    "x_setosa = X[0:50,:]\n",
    "x_versicolor = X[50:100,:]\n",
    "x_virginica = X[100:150,:]\n",
    "print(x_setosa.shape)\n",
    "print(x_versicolor.shape)\n",
    "print(x_virginica.shape)"
   ]
  },
  {
   "cell_type": "code",
   "execution_count": 8,
   "metadata": {
    "colab": {
     "base_uri": "https://localhost:8080/"
    },
    "executionInfo": {
     "elapsed": 5,
     "status": "ok",
     "timestamp": 1710362677107,
     "user": {
      "displayName": "Sarah Negreiros de Carvalho Leite",
      "userId": "03059545261666309656"
     },
     "user_tz": 180
    },
    "id": "d9TGQKdzhWpR",
    "outputId": "2dc6923f-5daa-4e91-a88e-0d3d2a3cef21"
   },
   "outputs": [
    {
     "name": "stdout",
     "output_type": "stream",
     "text": [
      "Setosa\n",
      "Máximo = [5.8 4.4 1.9 0.6]\n",
      "Mínimo = [4.3 2.3 1.  0.1]\n",
      "média: [5.006 3.428 1.462 0.246]\n",
      "desvio_padrão [0.34894699 0.37525458 0.17191859 0.10432641]\n",
      "\n",
      "Versicolor\n",
      "Máximo = [7.  3.4 5.1 1.8]\n",
      "Mínimo = [4.9 2.  3.  1. ]\n",
      "média: [5.936 2.77  4.26  1.326]\n",
      "desvio_padrão [0.51098337 0.31064449 0.46518813 0.19576517]\n",
      "\n",
      "Virgínica\n",
      "Máximo = [7.9 3.8 6.9 2.5]\n",
      "Mínimo = [4.9 2.2 4.5 1.4]\n",
      "média: [6.588 2.974 5.552 2.026]\n",
      "desvio_padrão [0.62948868 0.31925538 0.54634787 0.27188968]\n"
     ]
    }
   ],
   "source": [
    "print(\"Setosa\")\n",
    "max_s = np.max(x_setosa,axis=0)\n",
    "print('Máximo =', max_s)\n",
    "min_s = np.min(x_setosa,axis=0)\n",
    "print('Mínimo =', min_s)\n",
    "media_s = np.mean(x_setosa, axis=0)\n",
    "print('média:', media_s)\n",
    "desvio_s = np.std(x_setosa, axis=0)\n",
    "print('desvio_padrão', desvio_s)\n",
    "\n",
    "print(\"\\nVersicolor\")\n",
    "max_ve = np.max(x_versicolor,axis=0)\n",
    "print('Máximo =', max_ve)\n",
    "min_ve = np.min(x_versicolor,axis=0)\n",
    "print('Mínimo =', min_ve)\n",
    "media_ve = np.mean(x_versicolor, axis=0)\n",
    "print('média:', media_ve)\n",
    "desvio_ve = np.std(x_versicolor, axis=0)\n",
    "print('desvio_padrão', desvio_ve)\n",
    "\n",
    "print(\"\\nVirgínica\")\n",
    "max_vi = np.max(x_virginica,axis=0)\n",
    "print('Máximo =', max_vi)\n",
    "min_vi = np.min(x_virginica,axis=0)\n",
    "print('Mínimo =', min_vi)\n",
    "media_vi = np.mean(x_virginica, axis=0)\n",
    "print('média:', media_vi)\n",
    "desvio_vi = np.std(x_virginica, axis=0)\n",
    "print('desvio_padrão', desvio_vi)"
   ]
  },
  {
   "cell_type": "code",
   "execution_count": 9,
   "metadata": {
    "colab": {
     "base_uri": "https://localhost:8080/",
     "height": 473
    },
    "executionInfo": {
     "elapsed": 554,
     "status": "ok",
     "timestamp": 1710362677658,
     "user": {
      "displayName": "Sarah Negreiros de Carvalho Leite",
      "userId": "03059545261666309656"
     },
     "user_tz": 180
    },
    "id": "1yCOjLh5l3uD",
    "outputId": "4e250a7e-7114-4f07-86e7-f6fb299701a1"
   },
   "outputs": [
    {
     "data": {
      "image/png": "[encoded data removed]",
      "text/plain": [
       "<Figure size 640x480 with 1 Axes>"
      ]
     },
     "metadata": {},
     "output_type": "display_data"
    }
   ],
   "source": [
    "#Plotar os dados\n",
    "plt.scatter(media[0],media[2],\n",
    "            color='black', marker='o', label='geral')\n",
    "plt.scatter(media_s[0],media_s[2],\n",
    "            color='green', marker='o', label='setosa')\n",
    "plt.scatter(media_ve[0],media_ve[2],\n",
    "            color='red', marker='o', label='versicolor')\n",
    "plt.scatter(media_vi[0],media_vi[2],\n",
    "            color='blue', marker='o', label='virginica')\n",
    "plt.title('Valores médio de comprimento de pétalas e sépalas')\n",
    "plt.xlabel('comprimento da sépala [cm]')\n",
    "plt.ylabel('comprimento da pétala [cm]')\n",
    "plt.legend(loc='upper left')\n",
    "\n",
    "plt.show()"
   ]
  },
  {
   "cell_type": "code",
   "execution_count": 11,
   "metadata": {
    "colab": {
     "base_uri": "https://localhost:8080/",
     "height": 473
    },
    "executionInfo": {
     "elapsed": 855,
     "status": "ok",
     "timestamp": 1723491292728,
     "user": {
      "displayName": "Sarah Negreiros de Carvalho Leite",
      "userId": "03059545261666309656"
     },
     "user_tz": 180
    },
    "id": "Z1FmMY7hnxof",
    "outputId": "ee2c50c4-19b8-47d6-e7b5-44231475f041"
   },
   "outputs": [
    {
     "data": {
      "image/png": "[encoded data removed]",
      "text/plain": [
       "<Figure size 640x480 with 1 Axes>"
      ]
     },
     "metadata": {},
     "output_type": "display_data"
    }
   ],
   "source": [
    "x_setosa = X[0:50,:]\n",
    "x_versicolor = X[50:100,:]\n",
    "x_virginica = X[100:150,:]\n",
    "\n",
    "#Plotar os dados\n",
    "plt.scatter(x_setosa[:, 0], x_setosa[:, 1],\n",
    "            color='green', marker='o', label='setosa')\n",
    "plt.scatter(x_versicolor[:, 0], x_versicolor[:, 1],\n",
    "            color='red', marker='o', label='versicolor')\n",
    "plt.scatter(x_virginica[:, 0], x_virginica[:, 1],\n",
    "            color='blue', marker='o', label='virginica')\n",
    "\n",
    "\n",
    "plt.title('Valores de comprimento de pétalas e sépalas')\n",
    "plt.xlabel('comprimento da sépala [cm]')\n",
    "plt.ylabel('comprimento da pétala [cm]')\n",
    "plt.legend(loc='upper left')\n",
    "\n",
    "plt.show()"
   ]
  },
  {
   "cell_type": "code",
   "execution_count": 21,
   "metadata": {
    "colab": {
     "base_uri": "https://localhost:8080/",
     "height": 430
    },
    "executionInfo": {
     "elapsed": 408,
     "status": "ok",
     "timestamp": 1710362866851,
     "user": {
      "displayName": "Sarah Negreiros de Carvalho Leite",
      "userId": "03059545261666309656"
     },
     "user_tz": 180
    },
    "id": "kuuuQ3ija8bD",
    "outputId": "217ff686-99a5-4abc-e984-ae6c2183470e"
   },
   "outputs": [
    {
     "data": {
      "image/png": "[encoded data removed]",
      "text/plain": [
       "<Figure size 640x480 with 1 Axes>"
      ]
     },
     "metadata": {},
     "output_type": "display_data"
    }
   ],
   "source": [
    "labels = ['sepal length', 'sepal width', 'petal length', 'petal width']\n",
    "\n",
    "fig, ax = plt.subplots()\n",
    "ax.boxplot(X, labels = labels)\n",
    "plt.grid()"
   ]
  },
  {
   "cell_type": "markdown",
   "metadata": {
    "id": "PRPZ6BaRTD45"
   },
   "source": [
    "#Cálculo das correlações"
   ]
  },
  {
   "cell_type": "code",
   "execution_count": 22,
   "metadata": {
    "colab": {
     "base_uri": "https://localhost:8080/"
    },
    "executionInfo": {
     "elapsed": 245,
     "status": "ok",
     "timestamp": 1723495974921,
     "user": {
      "displayName": "Sarah Negreiros de Carvalho Leite",
      "userId": "03059545261666309656"
     },
     "user_tz": 180
    },
    "id": "zJof6_4iWbfB",
    "outputId": "3e82dea7-a41b-4f3c-f7c7-48cbd23a48c9"
   },
   "outputs": [
    {
     "data": {
      "text/plain": [
       "array([0, 0, 0, 0, 0, 0, 0, 0, 0, 0, 0, 0, 0, 0, 0, 0, 0, 0, 0, 0, 0, 0,\n",
       "       0, 0, 0, 0, 0, 0, 0, 0, 0, 0, 0, 0, 0, 0, 0, 0, 0, 0, 0, 0, 0, 0,\n",
       "       0, 0, 0, 0, 0, 0, 1, 1, 1, 1, 1, 1, 1, 1, 1, 1, 1, 1, 1, 1, 1, 1,\n",
       "       1, 1, 1, 1, 1, 1, 1, 1, 1, 1, 1, 1, 1, 1, 1, 1, 1, 1, 1, 1, 1, 1,\n",
       "       1, 1, 1, 1, 1, 1, 1, 1, 1, 1, 1, 1, 2, 2, 2, 2, 2, 2, 2, 2, 2, 2,\n",
       "       2, 2, 2, 2, 2, 2, 2, 2, 2, 2, 2, 2, 2, 2, 2, 2, 2, 2, 2, 2, 2, 2,\n",
       "       2, 2, 2, 2, 2, 2, 2, 2, 2, 2, 2, 2, 2, 2, 2, 2, 2, 2])"
      ]
     },
     "execution_count": 22,
     "metadata": {},
     "output_type": "execute_result"
    }
   ],
   "source": [
    "Y"
   ]
  },
  {
   "cell_type": "code",
   "execution_count": 23,
   "metadata": {
    "colab": {
     "base_uri": "https://localhost:8080/"
    },
    "executionInfo": {
     "elapsed": 259,
     "status": "ok",
     "timestamp": 1723496303802,
     "user": {
      "displayName": "Sarah Negreiros de Carvalho Leite",
      "userId": "03059545261666309656"
     },
     "user_tz": 180
    },
    "id": "wism83GoXX1D",
    "outputId": "ba63e8e8-969e-48ec-c235-2290bb89b710"
   },
   "outputs": [
    {
     "data": {
      "text/plain": [
       "array([ 10,  10,  10,  10,  10,  10,  10,  10,  10,  10,  10,  10,  10,\n",
       "        10,  10,  10,  10,  10,  10,  10,  10,  10,  10,  10,  10,  10,\n",
       "        10,  10,  10,  10,  10,  10,  10,  10,  10,  10,  10,  10,  10,\n",
       "        10,  10,  10,  10,  10,  10,  10,  10,  10,  10,  10,   0,   0,\n",
       "         0,   0,   0,   0,   0,   0,   0,   0,   0,   0,   0,   0,   0,\n",
       "         0,   0,   0,   0,   0,   0,   0,   0,   0,   0,   0,   0,   0,\n",
       "         0,   0,   0,   0,   0,   0,   0,   0,   0,   0,   0,   0,   0,\n",
       "         0,   0,   0,   0,   0,   0,   0,   0,   0, -10, -10, -10, -10,\n",
       "       -10, -10, -10, -10, -10, -10, -10, -10, -10, -10, -10, -10, -10,\n",
       "       -10, -10, -10, -10, -10, -10, -10, -10, -10, -10, -10, -10, -10,\n",
       "       -10, -10, -10, -10, -10, -10, -10, -10, -10, -10, -10, -10, -10,\n",
       "       -10, -10, -10, -10, -10, -10, -10])"
      ]
     },
     "execution_count": 23,
     "metadata": {},
     "output_type": "execute_result"
    }
   ],
   "source": [
    "Y2 = np.where(Y != 0, Y, 10)\n",
    "Y2 = np.where(Y2 != 1, Y2, 0)\n",
    "Y2 = np.where(Y2 != 2, Y2, -10)\n",
    "Y2"
   ]
  },
  {
   "cell_type": "code",
   "execution_count": 24,
   "metadata": {
    "colab": {
     "base_uri": "https://localhost:8080/"
    },
    "executionInfo": {
     "elapsed": 357,
     "status": "ok",
     "timestamp": 1723495103376,
     "user": {
      "displayName": "Sarah Negreiros de Carvalho Leite",
      "userId": "03059545261666309656"
     },
     "user_tz": 180
    },
    "id": "Rk7azVFeUBvc",
    "outputId": "e4af1106-30b1-4def-b3b3-9aa02e0f1720"
   },
   "outputs": [
    {
     "data": {
      "text/plain": [
       "array([[1.        , 0.78256123],\n",
       "       [0.78256123, 1.        ]])"
      ]
     },
     "execution_count": 24,
     "metadata": {},
     "output_type": "execute_result"
    }
   ],
   "source": [
    "R1= np.corrcoef(X[:,0],Y)\n",
    "R1"
   ]
  },
  {
   "cell_type": "code",
   "execution_count": 25,
   "metadata": {
    "colab": {
     "base_uri": "https://localhost:8080/"
    },
    "executionInfo": {
     "elapsed": 270,
     "status": "ok",
     "timestamp": 1723496103854,
     "user": {
      "displayName": "Sarah Negreiros de Carvalho Leite",
      "userId": "03059545261666309656"
     },
     "user_tz": 180
    },
    "id": "MfizXu07Ogk_",
    "outputId": "2e10bcb4-bd12-4238-fcd5-35d0e2288b02"
   },
   "outputs": [
    {
     "data": {
      "text/plain": [
       "array([[ 1.        , -0.11756978,  0.87175378,  0.81794113,  0.78256123],\n",
       "       [-0.11756978,  1.        , -0.4284401 , -0.36612593, -0.42665756],\n",
       "       [ 0.87175378, -0.4284401 ,  1.        ,  0.96286543,  0.9490347 ],\n",
       "       [ 0.81794113, -0.36612593,  0.96286543,  1.        ,  0.95654733],\n",
       "       [ 0.78256123, -0.42665756,  0.9490347 ,  0.95654733,  1.        ]])"
      ]
     },
     "execution_count": 25,
     "metadata": {},
     "output_type": "execute_result"
    }
   ],
   "source": [
    "R1= np.corrcoef(X[:,0],Y)\n",
    "R2= np.corrcoef(X[:,1],Y)\n",
    "R3= np.corrcoef(X[:,2],Y)\n",
    "R4= np.corrcoef(X[:,3],Y)\n",
    "R12= np.corrcoef(X[:,0],X[:,1])\n",
    "R13= np.corrcoef(X[:,0],X[:,2])\n",
    "R14= np.corrcoef(X[:,0],X[:,3])\n",
    "R23= np.corrcoef(X[:,1],X[:,2])\n",
    "R24= np.corrcoef(X[:,1],X[:,3])\n",
    "R34= np.corrcoef(X[:,2],X[:,3])\n",
    "\n",
    "R = np.array([[1, R12[0,1],R13[0,1],R14[0,1],R1[0,1]],\n",
    " [R12[0,1],1,R23[0,1],R24[0,1],R2[0,1]],\n",
    "  [R13[0,1],R23[0,1],1,R34[0,1], R3[0,1]],\n",
    "   [R14[0,1],R24[0,1],R34[0,1],1,R4[0,1]],\n",
    "    [R1[0,1],R2[0,1],R3[0,1], R4[0,1],1]])\n",
    "R"
   ]
  },
  {
   "cell_type": "code",
   "execution_count": 26,
   "metadata": {
    "colab": {
     "base_uri": "https://localhost:8080/",
     "height": 452
    },
    "executionInfo": {
     "elapsed": 726,
     "status": "ok",
     "timestamp": 1723494974937,
     "user": {
      "displayName": "Sarah Negreiros de Carvalho Leite",
      "userId": "03059545261666309656"
     },
     "user_tz": 180
    },
    "id": "2YcMocZyNj6D",
    "outputId": "54f5dbfa-dc75-4626-d76b-ad2b047939a1"
   },
   "outputs": [
    {
     "data": {
      "text/plain": [
       "<Axes: >"
      ]
     },
     "execution_count": 26,
     "metadata": {},
     "output_type": "execute_result"
    },
    {
     "data": {
      "image/png": "[encoded data removed]",
      "text/plain": [
       "<Figure size 640x480 with 2 Axes>"
      ]
     },
     "metadata": {},
     "output_type": "display_data"
    }
   ],
   "source": [
    "sns.heatmap(R,vmin=-1, vmax=1, xticklabels= ['v1', 'v2', 'v3', 'v4','t'], yticklabels=['v1', 'v2', 'v3', 'v4','t'])"
   ]
  },
  {
   "cell_type": "code",
   "execution_count": 27,
   "metadata": {
    "colab": {
     "base_uri": "https://localhost:8080/"
    },
    "executionInfo": {
     "elapsed": 252,
     "status": "ok",
     "timestamp": 1723496329028,
     "user": {
      "displayName": "Sarah Negreiros de Carvalho Leite",
      "userId": "03059545261666309656"
     },
     "user_tz": 180
    },
    "id": "yvHKUeu5W43l",
    "outputId": "b4a69128-15de-4807-da7d-31413b5eb9a8"
   },
   "outputs": [
    {
     "data": {
      "text/plain": [
       "array([[ 1.        , -0.11756978,  0.87175378,  0.81794113, -0.78256123],\n",
       "       [-0.11756978,  1.        , -0.4284401 , -0.36612593,  0.42665756],\n",
       "       [ 0.87175378, -0.4284401 ,  1.        ,  0.96286543, -0.9490347 ],\n",
       "       [ 0.81794113, -0.36612593,  0.96286543,  1.        , -0.95654733],\n",
       "       [-0.78256123,  0.42665756, -0.9490347 , -0.95654733,  1.        ]])"
      ]
     },
     "execution_count": 27,
     "metadata": {},
     "output_type": "execute_result"
    }
   ],
   "source": [
    "R1= np.corrcoef(X[:,0],Y2)\n",
    "R2= np.corrcoef(X[:,1],Y2)\n",
    "R3= np.corrcoef(X[:,2],Y2)\n",
    "R4= np.corrcoef(X[:,3],Y2)\n",
    "R12= np.corrcoef(X[:,0],X[:,1])\n",
    "R13= np.corrcoef(X[:,0],X[:,2])\n",
    "R14= np.corrcoef(X[:,0],X[:,3])\n",
    "R23= np.corrcoef(X[:,1],X[:,2])\n",
    "R24= np.corrcoef(X[:,1],X[:,3])\n",
    "R34= np.corrcoef(X[:,2],X[:,3])\n",
    "\n",
    "R2 = np.array([[1, R12[0,1],R13[0,1],R14[0,1],R1[0,1]],\n",
    " [R12[0,1],1,R23[0,1],R24[0,1],R2[0,1]],\n",
    "  [R13[0,1],R23[0,1],1,R34[0,1], R3[0,1]],\n",
    "   [R14[0,1],R24[0,1],R34[0,1],1,R4[0,1]],\n",
    "    [R1[0,1],R2[0,1],R3[0,1], R4[0,1],1]])\n",
    "R2"
   ]
  },
  {
   "cell_type": "code",
   "execution_count": 117,
   "metadata": {
    "colab": {
     "base_uri": "https://localhost:8080/",
     "height": 452
    },
    "executionInfo": {
     "elapsed": 837,
     "status": "ok",
     "timestamp": 1723496334070,
     "user": {
      "displayName": "Sarah Negreiros de Carvalho Leite",
      "userId": "03059545261666309656"
     },
     "user_tz": 180
    },
    "id": "Y_v_qRnIW-Xu",
    "outputId": "bac385a0-30e4-4cee-b9b2-75e5b1a6d134"
   },
   "outputs": [
    {
     "data": {
      "text/plain": [
       "<Axes: >"
      ]
     },
     "execution_count": 117,
     "metadata": {},
     "output_type": "execute_result"
    },
    {
     "data": {
      "image/png": "[encoded data removed]",
      "text/plain": [
       "<Figure size 640x480 with 2 Axes>"
      ]
     },
     "metadata": {},
     "output_type": "display_data"
    }
   ],
   "source": [
    "sns.heatmap(R2,vmin=-1, vmax=1, xticklabels= ['v1', 'v2', 'v3', 'v4','t'], yticklabels=['v1', 'v2', 'v3', 'v4','t'])"
   ]
  }
 ],
 "metadata": {
  "colab": {
   "provenance": [
    {
     "file_id": "1eK3sydhsTGu7B6ZJH5zHUhBX7P3AJ5xV",
     "timestamp": 1701804760325
    }
   ]
  },
  "kernelspec": {
   "display_name": "Python 3 (ipykernel)",
   "language": "python",
   "name": "python3"
  },
  "language_info": {
   "codemirror_mode": {
    "name": "ipython",
    "version": 3
   },
   "file_extension": ".py",
   "mimetype": "text/x-python",
   "name": "python",
   "nbconvert_exporter": "python",
   "pygments_lexer": "ipython3",
   "version": "3.10.12"
  }
 },
 "nbformat": 4,
 "nbformat_minor": 1
}

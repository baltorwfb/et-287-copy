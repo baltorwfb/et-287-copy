{
 "cells": [
  {
   "cell_type": "markdown",
   "metadata": {
    "id": "oI4OLvBfwRuX"
   },
   "source": [
    "# Approximating the sine function with an MLP"
   ]
  },
  {
   "cell_type": "markdown",
   "metadata": {
    "id": "XaTMbwWqxORB"
   },
   "source": [
    "## Etapa 01\n",
    "Importar as bibliotecas de aprendizado de máquina e computação científica."
   ]
  },
  {
   "cell_type": "code",
   "execution_count": 11,
   "metadata": {
    "executionInfo": {
     "elapsed": 4117,
     "status": "ok",
     "timestamp": 1727112261540,
     "user": {
      "displayName": "Sarah Negreiros de Carvalho Leite",
      "userId": "03059545261666309656"
     },
     "user_tz": 180
    },
    "id": "JFNoHE2LvocY"
   },
   "outputs": [],
   "source": [
    "# Biblioteca de aprendizado de máquina\n",
    "from tensorflow import keras\n",
    "from keras.models import Sequential\n",
    "from keras.layers import Dense\n",
    "from rbf_keras.rbflayer import RBFLayer, InitCentersRandom\n",
    "from rbf_keras.kmeans_initializer import InitCentersKMeans\n",
    "\n",
    "# Bibliotecas de computação científica\n",
    "import numpy as np\n",
    "import matplotlib.pyplot as plt"
   ]
  },
  {
   "cell_type": "markdown",
   "metadata": {
    "id": "0uWeTDXbxpLv"
   },
   "source": [
    "## Etapa 02\n",
    "Criar a base de dados sintética."
   ]
  },
  {
   "cell_type": "code",
   "execution_count": 2,
   "metadata": {},
   "outputs": [],
   "source": [
    "NUM_SAMPLES = 500\n",
    "\n",
    "x_train = np.random.uniform(0, 1, NUM_SAMPLES)\n",
    "x_train = np.sort(x_train, axis = 0)\n",
    "y_train = np.sin(2 * np.pi * x_train)\n",
    "\n",
    "x_test = np.random.uniform(0, 1, int(NUM_SAMPLES/3))\n",
    "x_test = np.sort(x_test, axis = 0)\n",
    "y_test = np.sin(2 * np.pi * x_test)"
   ]
  },
  {
   "cell_type": "markdown",
   "metadata": {
    "id": "JAC366FUyOhB"
   },
   "source": [
    "## Etapa 03\n",
    "Conhecer a dimensão dos conjuntos da base de dados."
   ]
  },
  {
   "cell_type": "code",
   "execution_count": 3,
   "metadata": {
    "colab": {
     "base_uri": "https://localhost:8080/"
    },
    "executionInfo": {
     "elapsed": 8,
     "status": "ok",
     "timestamp": 1727112261541,
     "user": {
      "displayName": "Sarah Negreiros de Carvalho Leite",
      "userId": "03059545261666309656"
     },
     "user_tz": 180
    },
    "id": "dHYwuZotyBOr",
    "outputId": "5daeee9e-c727-4750-dff8-21b1f99f953f"
   },
   "outputs": [
    {
     "name": "stdout",
     "output_type": "stream",
     "text": [
      "x_train (500,)\n",
      "y_train (500,)\n",
      "x_test (166,)\n",
      "y_test (166,)\n"
     ]
    }
   ],
   "source": [
    "print('x_train', x_train.shape)\n",
    "print('y_train', y_train.shape)\n",
    "print('x_test', x_test.shape)\n",
    "print('y_test', y_test.shape)"
   ]
  },
  {
   "cell_type": "markdown",
   "metadata": {
    "id": "OOBgB_Yzyls_"
   },
   "source": [
    "## Etapa 04\n",
    "Construir a rede neural utilizando o Keras."
   ]
  },
  {
   "cell_type": "code",
   "execution_count": 4,
   "metadata": {},
   "outputs": [
    {
     "data": {
      "text/plain": [
       "(500, 1)"
      ]
     },
     "execution_count": 4,
     "metadata": {},
     "output_type": "execute_result"
    }
   ],
   "source": [
    "x_train = x_train[:, None]\n",
    "\n",
    "x_train.shape"
   ]
  },
  {
   "cell_type": "code",
   "execution_count": 12,
   "metadata": {
    "colab": {
     "base_uri": "https://localhost:8080/",
     "height": 199
    },
    "executionInfo": {
     "elapsed": 462,
     "status": "ok",
     "timestamp": 1727113354782,
     "user": {
      "displayName": "Sarah Negreiros de Carvalho Leite",
      "userId": "03059545261666309656"
     },
     "user_tz": 180
    },
    "id": "9PWJrJFiydZl",
    "outputId": "41f005f8-44cd-49da-9622-7fdd924f3f78"
   },
   "outputs": [
    {
     "name": "stderr",
     "output_type": "stream",
     "text": [
      "/home/fbaltor/fbaltor/ita/2024/2_sem/et-287/notebooks/unit3_rbf_sine/rbf_keras/rbflayer.py:60: UserWarning: Do not pass an `input_shape`/`input_dim` argument to a layer. When using Sequential models, prefer using an `Input(shape)` object as the first layer in the model instead.\n",
      "  super(RBFLayer, self).__init__(**kwargs)\n"
     ]
    },
    {
     "data": {
      "text/html": [
       "<pre style=\"white-space:pre;overflow-x:auto;line-height:normal;font-family:Menlo,'DejaVu Sans Mono',consolas,'Courier New',monospace\"><span style=\"font-weight: bold\">Model: \"sequential\"</span>\n",
       "</pre>\n"
      ],
      "text/plain": [
       "\u001b[1mModel: \"sequential\"\u001b[0m\n"
      ]
     },
     "metadata": {},
     "output_type": "display_data"
    },
    {
     "data": {
      "text/html": [
       "<pre style=\"white-space:pre;overflow-x:auto;line-height:normal;font-family:Menlo,'DejaVu Sans Mono',consolas,'Courier New',monospace\">┏━━━━━━━━━━━━━━━━━━━━━━━━━━━━━━━━━┳━━━━━━━━━━━━━━━━━━━━━━━━┳━━━━━━━━━━━━━━━┓\n",
       "┃<span style=\"font-weight: bold\"> Layer (type)                    </span>┃<span style=\"font-weight: bold\"> Output Shape           </span>┃<span style=\"font-weight: bold\">       Param # </span>┃\n",
       "┡━━━━━━━━━━━━━━━━━━━━━━━━━━━━━━━━━╇━━━━━━━━━━━━━━━━━━━━━━━━╇━━━━━━━━━━━━━━━┩\n",
       "│ rbf_layer (<span style=\"color: #0087ff; text-decoration-color: #0087ff\">RBFLayer</span>)            │ (<span style=\"color: #00d7ff; text-decoration-color: #00d7ff\">None</span>, <span style=\"color: #00af00; text-decoration-color: #00af00\">10</span>)             │            <span style=\"color: #00af00; text-decoration-color: #00af00\">20</span> │\n",
       "├─────────────────────────────────┼────────────────────────┼───────────────┤\n",
       "│ dense (<span style=\"color: #0087ff; text-decoration-color: #0087ff\">Dense</span>)                   │ (<span style=\"color: #00d7ff; text-decoration-color: #00d7ff\">None</span>, <span style=\"color: #00af00; text-decoration-color: #00af00\">1</span>)              │            <span style=\"color: #00af00; text-decoration-color: #00af00\">11</span> │\n",
       "└─────────────────────────────────┴────────────────────────┴───────────────┘\n",
       "</pre>\n"
      ],
      "text/plain": [
       "┏━━━━━━━━━━━━━━━━━━━━━━━━━━━━━━━━━┳━━━━━━━━━━━━━━━━━━━━━━━━┳━━━━━━━━━━━━━━━┓\n",
       "┃\u001b[1m \u001b[0m\u001b[1mLayer (type)                   \u001b[0m\u001b[1m \u001b[0m┃\u001b[1m \u001b[0m\u001b[1mOutput Shape          \u001b[0m\u001b[1m \u001b[0m┃\u001b[1m \u001b[0m\u001b[1m      Param #\u001b[0m\u001b[1m \u001b[0m┃\n",
       "┡━━━━━━━━━━━━━━━━━━━━━━━━━━━━━━━━━╇━━━━━━━━━━━━━━━━━━━━━━━━╇━━━━━━━━━━━━━━━┩\n",
       "│ rbf_layer (\u001b[38;5;33mRBFLayer\u001b[0m)            │ (\u001b[38;5;45mNone\u001b[0m, \u001b[38;5;34m10\u001b[0m)             │            \u001b[38;5;34m20\u001b[0m │\n",
       "├─────────────────────────────────┼────────────────────────┼───────────────┤\n",
       "│ dense (\u001b[38;5;33mDense\u001b[0m)                   │ (\u001b[38;5;45mNone\u001b[0m, \u001b[38;5;34m1\u001b[0m)              │            \u001b[38;5;34m11\u001b[0m │\n",
       "└─────────────────────────────────┴────────────────────────┴───────────────┘\n"
      ]
     },
     "metadata": {},
     "output_type": "display_data"
    },
    {
     "data": {
      "text/html": [
       "<pre style=\"white-space:pre;overflow-x:auto;line-height:normal;font-family:Menlo,'DejaVu Sans Mono',consolas,'Courier New',monospace\"><span style=\"font-weight: bold\"> Total params: </span><span style=\"color: #00af00; text-decoration-color: #00af00\">31</span> (124.00 B)\n",
       "</pre>\n"
      ],
      "text/plain": [
       "\u001b[1m Total params: \u001b[0m\u001b[38;5;34m31\u001b[0m (124.00 B)\n"
      ]
     },
     "metadata": {},
     "output_type": "display_data"
    },
    {
     "data": {
      "text/html": [
       "<pre style=\"white-space:pre;overflow-x:auto;line-height:normal;font-family:Menlo,'DejaVu Sans Mono',consolas,'Courier New',monospace\"><span style=\"font-weight: bold\"> Trainable params: </span><span style=\"color: #00af00; text-decoration-color: #00af00\">31</span> (124.00 B)\n",
       "</pre>\n"
      ],
      "text/plain": [
       "\u001b[1m Trainable params: \u001b[0m\u001b[38;5;34m31\u001b[0m (124.00 B)\n"
      ]
     },
     "metadata": {},
     "output_type": "display_data"
    },
    {
     "data": {
      "text/html": [
       "<pre style=\"white-space:pre;overflow-x:auto;line-height:normal;font-family:Menlo,'DejaVu Sans Mono',consolas,'Courier New',monospace\"><span style=\"font-weight: bold\"> Non-trainable params: </span><span style=\"color: #00af00; text-decoration-color: #00af00\">0</span> (0.00 B)\n",
       "</pre>\n"
      ],
      "text/plain": [
       "\u001b[1m Non-trainable params: \u001b[0m\u001b[38;5;34m0\u001b[0m (0.00 B)\n"
      ]
     },
     "metadata": {},
     "output_type": "display_data"
    }
   ],
   "source": [
    "keras.backend.clear_session(\n",
    "    free_memory = True\n",
    ")\n",
    "\n",
    "rbflayer = RBFLayer(10,\n",
    "                    initializer=InitCentersRandom(x_train),\n",
    "                    betas=2.0,\n",
    "                    input_shape=((1,))\n",
    "                   )\n",
    "\n",
    "\n",
    "model = Sequential()\n",
    "model.add(rbflayer)\n",
    "model.add(Dense(1))\n",
    "model.summary()"
   ]
  },
  {
   "cell_type": "markdown",
   "metadata": {
    "id": "hqwViNn0zbjO"
   },
   "source": [
    "## Etapa 05\n",
    "Compilar o modelo.\n",
    "\n",
    "Optimizer: As opções são encontradas em https://keras.io/api/optimizers/\n",
    "\n",
    "Loss: As opções são encontradas em https://keras.io/api/losses/\n",
    "\n",
    "Metrics: As opções são encontradas em https://keras.io/api/metrics/"
   ]
  },
  {
   "cell_type": "code",
   "execution_count": 13,
   "metadata": {
    "executionInfo": {
     "elapsed": 398,
     "status": "ok",
     "timestamp": 1727114509844,
     "user": {
      "displayName": "Sarah Negreiros de Carvalho Leite",
      "userId": "03059545261666309656"
     },
     "user_tz": 180
    },
    "id": "PlF9j6dBzKuo"
   },
   "outputs": [],
   "source": [
    "otimizador = keras.optimizers.Adam()\n",
    "model.compile(optimizer= otimizador,\n",
    "              loss='mse',\n",
    "              metrics=['mae'])"
   ]
  },
  {
   "cell_type": "markdown",
   "metadata": {
    "id": "vwD7S4q9zuMg"
   },
   "source": [
    "## Etapa 06\n",
    "Treinar o modelo e realizar a validação."
   ]
  },
  {
   "cell_type": "code",
   "execution_count": 14,
   "metadata": {
    "colab": {
     "base_uri": "https://localhost:8080/",
     "height": 1000
    },
    "executionInfo": {
     "elapsed": 3672,
     "status": "ok",
     "timestamp": 1713379094428,
     "user": {
      "displayName": "Sarah Negreiros de Carvalho Leite",
      "userId": "03059545261666309656"
     },
     "user_tz": 180
    },
    "id": "9SRyEjAvzmMI",
    "outputId": "d61a0da3-cba8-43d4-80cb-1c0ff016426b"
   },
   "outputs": [
    {
     "name": "stdout",
     "output_type": "stream",
     "text": [
      "Epoch 1/100\n",
      "8/8 - 1s - 91ms/step - loss: 0.8828 - mae: 0.7607 - val_loss: 0.8101 - val_mae: 0.7100\n",
      "Epoch 2/100\n",
      "8/8 - 0s - 7ms/step - loss: 0.7563 - mae: 0.7055 - val_loss: 0.6984 - val_mae: 0.6685\n",
      "Epoch 3/100\n",
      "8/8 - 0s - 7ms/step - loss: 0.6442 - mae: 0.6525 - val_loss: 0.6040 - val_mae: 0.6321\n",
      "Epoch 4/100\n",
      "8/8 - 0s - 7ms/step - loss: 0.5538 - mae: 0.6102 - val_loss: 0.5247 - val_mae: 0.5986\n",
      "Epoch 5/100\n",
      "8/8 - 0s - 7ms/step - loss: 0.4743 - mae: 0.5707 - val_loss: 0.4617 - val_mae: 0.5701\n",
      "Epoch 6/100\n",
      "8/8 - 0s - 6ms/step - loss: 0.4134 - mae: 0.5386 - val_loss: 0.4105 - val_mae: 0.5455\n",
      "Epoch 7/100\n",
      "8/8 - 0s - 6ms/step - loss: 0.3620 - mae: 0.5097 - val_loss: 0.3704 - val_mae: 0.5239\n",
      "Epoch 8/100\n",
      "8/8 - 0s - 7ms/step - loss: 0.3225 - mae: 0.4860 - val_loss: 0.3383 - val_mae: 0.5064\n",
      "Epoch 9/100\n",
      "8/8 - 0s - 6ms/step - loss: 0.2914 - mae: 0.4657 - val_loss: 0.3125 - val_mae: 0.4926\n",
      "Epoch 10/100\n",
      "8/8 - 0s - 8ms/step - loss: 0.2654 - mae: 0.4475 - val_loss: 0.2918 - val_mae: 0.4820\n",
      "Epoch 11/100\n",
      "8/8 - 0s - 8ms/step - loss: 0.2447 - mae: 0.4317 - val_loss: 0.2752 - val_mae: 0.4725\n",
      "Epoch 12/100\n",
      "8/8 - 0s - 7ms/step - loss: 0.2279 - mae: 0.4179 - val_loss: 0.2614 - val_mae: 0.4639\n",
      "Epoch 13/100\n",
      "8/8 - 0s - 6ms/step - loss: 0.2148 - mae: 0.4066 - val_loss: 0.2493 - val_mae: 0.4557\n",
      "Epoch 14/100\n",
      "8/8 - 0s - 6ms/step - loss: 0.2032 - mae: 0.3966 - val_loss: 0.2389 - val_mae: 0.4480\n",
      "Epoch 15/100\n",
      "8/8 - 0s - 6ms/step - loss: 0.1939 - mae: 0.3879 - val_loss: 0.2297 - val_mae: 0.4408\n",
      "Epoch 16/100\n",
      "8/8 - 0s - 7ms/step - loss: 0.1853 - mae: 0.3797 - val_loss: 0.2215 - val_mae: 0.4338\n",
      "Epoch 17/100\n",
      "8/8 - 0s - 7ms/step - loss: 0.1781 - mae: 0.3727 - val_loss: 0.2146 - val_mae: 0.4276\n",
      "Epoch 18/100\n",
      "8/8 - 0s - 6ms/step - loss: 0.1720 - mae: 0.3664 - val_loss: 0.2082 - val_mae: 0.4215\n",
      "Epoch 19/100\n",
      "8/8 - 0s - 6ms/step - loss: 0.1668 - mae: 0.3608 - val_loss: 0.2023 - val_mae: 0.4156\n",
      "Epoch 20/100\n",
      "8/8 - 0s - 5ms/step - loss: 0.1620 - mae: 0.3556 - val_loss: 0.1972 - val_mae: 0.4104\n",
      "Epoch 21/100\n",
      "8/8 - 0s - 5ms/step - loss: 0.1577 - mae: 0.3508 - val_loss: 0.1928 - val_mae: 0.4056\n",
      "Epoch 22/100\n",
      "8/8 - 0s - 7ms/step - loss: 0.1544 - mae: 0.3468 - val_loss: 0.1887 - val_mae: 0.4011\n",
      "Epoch 23/100\n",
      "8/8 - 0s - 6ms/step - loss: 0.1513 - mae: 0.3433 - val_loss: 0.1849 - val_mae: 0.3968\n",
      "Epoch 24/100\n",
      "8/8 - 0s - 6ms/step - loss: 0.1487 - mae: 0.3400 - val_loss: 0.1816 - val_mae: 0.3927\n",
      "Epoch 25/100\n",
      "8/8 - 0s - 8ms/step - loss: 0.1463 - mae: 0.3372 - val_loss: 0.1787 - val_mae: 0.3890\n",
      "Epoch 26/100\n",
      "8/8 - 0s - 6ms/step - loss: 0.1442 - mae: 0.3347 - val_loss: 0.1761 - val_mae: 0.3855\n",
      "Epoch 27/100\n",
      "8/8 - 0s - 6ms/step - loss: 0.1425 - mae: 0.3324 - val_loss: 0.1736 - val_mae: 0.3821\n",
      "Epoch 28/100\n",
      "8/8 - 0s - 7ms/step - loss: 0.1410 - mae: 0.3304 - val_loss: 0.1716 - val_mae: 0.3790\n",
      "Epoch 29/100\n",
      "8/8 - 0s - 7ms/step - loss: 0.1398 - mae: 0.3285 - val_loss: 0.1697 - val_mae: 0.3762\n",
      "Epoch 30/100\n",
      "8/8 - 0s - 7ms/step - loss: 0.1386 - mae: 0.3268 - val_loss: 0.1681 - val_mae: 0.3735\n",
      "Epoch 31/100\n",
      "8/8 - 0s - 7ms/step - loss: 0.1376 - mae: 0.3253 - val_loss: 0.1667 - val_mae: 0.3711\n",
      "Epoch 32/100\n",
      "8/8 - 0s - 9ms/step - loss: 0.1368 - mae: 0.3241 - val_loss: 0.1654 - val_mae: 0.3688\n",
      "Epoch 33/100\n",
      "8/8 - 0s - 8ms/step - loss: 0.1360 - mae: 0.3229 - val_loss: 0.1642 - val_mae: 0.3669\n",
      "Epoch 34/100\n",
      "8/8 - 0s - 7ms/step - loss: 0.1355 - mae: 0.3220 - val_loss: 0.1629 - val_mae: 0.3648\n",
      "Epoch 35/100\n",
      "8/8 - 0s - 7ms/step - loss: 0.1349 - mae: 0.3210 - val_loss: 0.1620 - val_mae: 0.3634\n",
      "Epoch 36/100\n",
      "8/8 - 0s - 7ms/step - loss: 0.1344 - mae: 0.3201 - val_loss: 0.1612 - val_mae: 0.3619\n",
      "Epoch 37/100\n",
      "8/8 - 0s - 7ms/step - loss: 0.1340 - mae: 0.3193 - val_loss: 0.1604 - val_mae: 0.3606\n",
      "Epoch 38/100\n",
      "8/8 - 0s - 8ms/step - loss: 0.1336 - mae: 0.3186 - val_loss: 0.1597 - val_mae: 0.3593\n",
      "Epoch 39/100\n",
      "8/8 - 0s - 7ms/step - loss: 0.1333 - mae: 0.3180 - val_loss: 0.1590 - val_mae: 0.3582\n",
      "Epoch 40/100\n",
      "8/8 - 0s - 7ms/step - loss: 0.1330 - mae: 0.3175 - val_loss: 0.1584 - val_mae: 0.3571\n",
      "Epoch 41/100\n",
      "8/8 - 0s - 7ms/step - loss: 0.1328 - mae: 0.3170 - val_loss: 0.1576 - val_mae: 0.3557\n",
      "Epoch 42/100\n",
      "8/8 - 0s - 6ms/step - loss: 0.1325 - mae: 0.3164 - val_loss: 0.1572 - val_mae: 0.3549\n",
      "Epoch 43/100\n",
      "8/8 - 0s - 14ms/step - loss: 0.1324 - mae: 0.3160 - val_loss: 0.1569 - val_mae: 0.3543\n",
      "Epoch 44/100\n",
      "8/8 - 0s - 9ms/step - loss: 0.1321 - mae: 0.3155 - val_loss: 0.1565 - val_mae: 0.3535\n",
      "Epoch 45/100\n",
      "8/8 - 0s - 8ms/step - loss: 0.1319 - mae: 0.3151 - val_loss: 0.1560 - val_mae: 0.3527\n",
      "Epoch 46/100\n",
      "8/8 - 0s - 8ms/step - loss: 0.1318 - mae: 0.3147 - val_loss: 0.1556 - val_mae: 0.3520\n",
      "Epoch 47/100\n",
      "8/8 - 0s - 7ms/step - loss: 0.1316 - mae: 0.3144 - val_loss: 0.1555 - val_mae: 0.3517\n",
      "Epoch 48/100\n",
      "8/8 - 0s - 7ms/step - loss: 0.1315 - mae: 0.3142 - val_loss: 0.1550 - val_mae: 0.3510\n",
      "Epoch 49/100\n",
      "8/8 - 0s - 8ms/step - loss: 0.1313 - mae: 0.3138 - val_loss: 0.1547 - val_mae: 0.3505\n",
      "Epoch 50/100\n",
      "8/8 - 0s - 7ms/step - loss: 0.1311 - mae: 0.3136 - val_loss: 0.1545 - val_mae: 0.3501\n",
      "Epoch 51/100\n",
      "8/8 - 0s - 7ms/step - loss: 0.1310 - mae: 0.3133 - val_loss: 0.1543 - val_mae: 0.3497\n",
      "Epoch 52/100\n",
      "8/8 - 0s - 7ms/step - loss: 0.1309 - mae: 0.3131 - val_loss: 0.1539 - val_mae: 0.3491\n",
      "Epoch 53/100\n",
      "8/8 - 0s - 8ms/step - loss: 0.1307 - mae: 0.3128 - val_loss: 0.1537 - val_mae: 0.3489\n",
      "Epoch 54/100\n",
      "8/8 - 0s - 7ms/step - loss: 0.1306 - mae: 0.3126 - val_loss: 0.1534 - val_mae: 0.3482\n",
      "Epoch 55/100\n",
      "8/8 - 0s - 7ms/step - loss: 0.1305 - mae: 0.3124 - val_loss: 0.1535 - val_mae: 0.3482\n",
      "Epoch 56/100\n",
      "8/8 - 0s - 6ms/step - loss: 0.1303 - mae: 0.3122 - val_loss: 0.1531 - val_mae: 0.3478\n",
      "Epoch 57/100\n",
      "8/8 - 0s - 6ms/step - loss: 0.1301 - mae: 0.3119 - val_loss: 0.1528 - val_mae: 0.3474\n",
      "Epoch 58/100\n",
      "8/8 - 0s - 6ms/step - loss: 0.1300 - mae: 0.3117 - val_loss: 0.1525 - val_mae: 0.3470\n",
      "Epoch 59/100\n",
      "8/8 - 0s - 5ms/step - loss: 0.1299 - mae: 0.3115 - val_loss: 0.1524 - val_mae: 0.3468\n",
      "Epoch 60/100\n",
      "8/8 - 0s - 5ms/step - loss: 0.1297 - mae: 0.3113 - val_loss: 0.1522 - val_mae: 0.3465\n",
      "Epoch 61/100\n",
      "8/8 - 0s - 6ms/step - loss: 0.1296 - mae: 0.3111 - val_loss: 0.1521 - val_mae: 0.3463\n",
      "Epoch 62/100\n",
      "8/8 - 0s - 6ms/step - loss: 0.1294 - mae: 0.3109 - val_loss: 0.1519 - val_mae: 0.3462\n",
      "Epoch 63/100\n",
      "8/8 - 0s - 6ms/step - loss: 0.1293 - mae: 0.3107 - val_loss: 0.1517 - val_mae: 0.3458\n",
      "Epoch 64/100\n",
      "8/8 - 0s - 6ms/step - loss: 0.1292 - mae: 0.3105 - val_loss: 0.1514 - val_mae: 0.3454\n",
      "Epoch 65/100\n",
      "8/8 - 0s - 5ms/step - loss: 0.1290 - mae: 0.3104 - val_loss: 0.1512 - val_mae: 0.3452\n",
      "Epoch 66/100\n",
      "8/8 - 0s - 6ms/step - loss: 0.1289 - mae: 0.3102 - val_loss: 0.1511 - val_mae: 0.3451\n",
      "Epoch 67/100\n",
      "8/8 - 0s - 6ms/step - loss: 0.1288 - mae: 0.3101 - val_loss: 0.1507 - val_mae: 0.3446\n",
      "Epoch 68/100\n",
      "8/8 - 0s - 6ms/step - loss: 0.1285 - mae: 0.3098 - val_loss: 0.1507 - val_mae: 0.3445\n",
      "Epoch 69/100\n",
      "8/8 - 0s - 7ms/step - loss: 0.1284 - mae: 0.3096 - val_loss: 0.1507 - val_mae: 0.3443\n",
      "Epoch 70/100\n",
      "8/8 - 0s - 8ms/step - loss: 0.1283 - mae: 0.3094 - val_loss: 0.1505 - val_mae: 0.3443\n",
      "Epoch 71/100\n",
      "8/8 - 0s - 7ms/step - loss: 0.1281 - mae: 0.3092 - val_loss: 0.1502 - val_mae: 0.3439\n",
      "Epoch 72/100\n",
      "8/8 - 0s - 6ms/step - loss: 0.1280 - mae: 0.3091 - val_loss: 0.1499 - val_mae: 0.3436\n",
      "Epoch 73/100\n",
      "8/8 - 0s - 7ms/step - loss: 0.1279 - mae: 0.3089 - val_loss: 0.1496 - val_mae: 0.3431\n",
      "Epoch 74/100\n",
      "8/8 - 0s - 6ms/step - loss: 0.1277 - mae: 0.3087 - val_loss: 0.1496 - val_mae: 0.3432\n",
      "Epoch 75/100\n",
      "8/8 - 0s - 6ms/step - loss: 0.1275 - mae: 0.3085 - val_loss: 0.1494 - val_mae: 0.3430\n",
      "Epoch 76/100\n",
      "8/8 - 0s - 7ms/step - loss: 0.1274 - mae: 0.3083 - val_loss: 0.1493 - val_mae: 0.3428\n",
      "Epoch 77/100\n",
      "8/8 - 0s - 7ms/step - loss: 0.1273 - mae: 0.3082 - val_loss: 0.1492 - val_mae: 0.3428\n",
      "Epoch 78/100\n",
      "8/8 - 0s - 7ms/step - loss: 0.1271 - mae: 0.3080 - val_loss: 0.1490 - val_mae: 0.3424\n",
      "Epoch 79/100\n",
      "8/8 - 0s - 6ms/step - loss: 0.1269 - mae: 0.3077 - val_loss: 0.1487 - val_mae: 0.3422\n",
      "Epoch 80/100\n",
      "8/8 - 0s - 6ms/step - loss: 0.1268 - mae: 0.3075 - val_loss: 0.1484 - val_mae: 0.3417\n",
      "Epoch 81/100\n",
      "8/8 - 0s - 6ms/step - loss: 0.1266 - mae: 0.3073 - val_loss: 0.1482 - val_mae: 0.3414\n",
      "Epoch 82/100\n",
      "8/8 - 0s - 6ms/step - loss: 0.1266 - mae: 0.3072 - val_loss: 0.1483 - val_mae: 0.3415\n",
      "Epoch 83/100\n",
      "8/8 - 0s - 6ms/step - loss: 0.1263 - mae: 0.3070 - val_loss: 0.1479 - val_mae: 0.3412\n",
      "Epoch 84/100\n",
      "8/8 - 0s - 6ms/step - loss: 0.1262 - mae: 0.3069 - val_loss: 0.1478 - val_mae: 0.3411\n",
      "Epoch 85/100\n",
      "8/8 - 0s - 5ms/step - loss: 0.1261 - mae: 0.3067 - val_loss: 0.1476 - val_mae: 0.3408\n",
      "Epoch 86/100\n",
      "8/8 - 0s - 6ms/step - loss: 0.1259 - mae: 0.3064 - val_loss: 0.1472 - val_mae: 0.3404\n",
      "Epoch 87/100\n",
      "8/8 - 0s - 6ms/step - loss: 0.1257 - mae: 0.3062 - val_loss: 0.1470 - val_mae: 0.3400\n",
      "Epoch 88/100\n",
      "8/8 - 0s - 6ms/step - loss: 0.1256 - mae: 0.3061 - val_loss: 0.1470 - val_mae: 0.3400\n",
      "Epoch 89/100\n",
      "8/8 - 0s - 6ms/step - loss: 0.1254 - mae: 0.3058 - val_loss: 0.1467 - val_mae: 0.3396\n",
      "Epoch 90/100\n",
      "8/8 - 0s - 6ms/step - loss: 0.1252 - mae: 0.3055 - val_loss: 0.1464 - val_mae: 0.3392\n",
      "Epoch 91/100\n",
      "8/8 - 0s - 5ms/step - loss: 0.1251 - mae: 0.3053 - val_loss: 0.1464 - val_mae: 0.3392\n",
      "Epoch 92/100\n",
      "8/8 - 0s - 6ms/step - loss: 0.1249 - mae: 0.3052 - val_loss: 0.1461 - val_mae: 0.3389\n",
      "Epoch 93/100\n",
      "8/8 - 0s - 7ms/step - loss: 0.1248 - mae: 0.3051 - val_loss: 0.1461 - val_mae: 0.3391\n",
      "Epoch 94/100\n",
      "8/8 - 0s - 6ms/step - loss: 0.1246 - mae: 0.3048 - val_loss: 0.1458 - val_mae: 0.3385\n",
      "Epoch 95/100\n",
      "8/8 - 0s - 7ms/step - loss: 0.1245 - mae: 0.3046 - val_loss: 0.1455 - val_mae: 0.3381\n",
      "Epoch 96/100\n",
      "8/8 - 0s - 6ms/step - loss: 0.1243 - mae: 0.3044 - val_loss: 0.1453 - val_mae: 0.3379\n",
      "Epoch 97/100\n",
      "8/8 - 0s - 6ms/step - loss: 0.1242 - mae: 0.3043 - val_loss: 0.1451 - val_mae: 0.3377\n",
      "Epoch 98/100\n",
      "8/8 - 0s - 7ms/step - loss: 0.1240 - mae: 0.3040 - val_loss: 0.1451 - val_mae: 0.3377\n",
      "Epoch 99/100\n",
      "8/8 - 0s - 6ms/step - loss: 0.1238 - mae: 0.3038 - val_loss: 0.1451 - val_mae: 0.3378\n",
      "Epoch 100/100\n",
      "8/8 - 0s - 6ms/step - loss: 0.1236 - mae: 0.3036 - val_loss: 0.1446 - val_mae: 0.3371\n"
     ]
    },
    {
     "data": {
      "image/png": "[encoded data removed]",
      "text/plain": [
       "<Figure size 640x480 with 1 Axes>"
      ]
     },
     "metadata": {},
     "output_type": "display_data"
    }
   ],
   "source": [
    "history = model.fit(x_train, y_train, epochs=100, batch_size=64, verbose=2, validation_data=(x_test, y_test))\n",
    "plt.plot(history.history['mae'], label = 'treinamento')\n",
    "plt.plot(history.history['val_mae'], label='validacao')\n",
    "plt.title('Acurácia do modelo')\n",
    "plt.ylabel('Acurácia')\n",
    "plt.xlabel('Épocas')\n",
    "plt.legend(['treinamento', 'validacao'], loc='upper left')\n",
    "plt.show()"
   ]
  },
  {
   "cell_type": "markdown",
   "metadata": {
    "id": "2wA8zRaD0y86"
   },
   "source": [
    "## Etapa 07\n",
    "Realizar algumas predições."
   ]
  },
  {
   "cell_type": "code",
   "execution_count": 15,
   "metadata": {
    "colab": {
     "base_uri": "https://localhost:8080/"
    },
    "executionInfo": {
     "elapsed": 8,
     "status": "ok",
     "timestamp": 1713379094978,
     "user": {
      "displayName": "Sarah Negreiros de Carvalho Leite",
      "userId": "03059545261666309656"
     },
     "user_tz": 180
    },
    "id": "bwWLfMI6ob_j",
    "outputId": "d83a8928-62a6-4ff8-d085-20211cefbf9b"
   },
   "outputs": [
    {
     "name": "stdout",
     "output_type": "stream",
     "text": [
      "\u001b[1m6/6\u001b[0m \u001b[32m━━━━━━━━━━━━━━━━━━━━\u001b[0m\u001b[37m\u001b[0m \u001b[1m0s\u001b[0m 7ms/step \n"
     ]
    },
    {
     "data": {
      "text/plain": [
       "<matplotlib.legend.Legend at 0x7f5e4cbb4590>"
      ]
     },
     "execution_count": 15,
     "metadata": {},
     "output_type": "execute_result"
    },
    {
     "data": {
      "image/png": "[encoded data removed]",
      "text/plain": [
       "<Figure size 640x480 with 1 Axes>"
      ]
     },
     "metadata": {},
     "output_type": "display_data"
    }
   ],
   "source": [
    "y_pred = model.predict(x_test)\n",
    "\n",
    "plt.plot(x_train, y_train, '-', label='Dados Treinamento')\n",
    "plt.plot(x_test, y_pred, '--', label='Dados Validação')\n",
    "plt.legend()"
   ]
  },
  {
   "cell_type": "code",
   "execution_count": 10,
   "metadata": {
    "colab": {
     "base_uri": "https://localhost:8080/"
    },
    "executionInfo": {
     "elapsed": 6,
     "status": "ok",
     "timestamp": 1713379094978,
     "user": {
      "displayName": "Sarah Negreiros de Carvalho Leite",
      "userId": "03059545261666309656"
     },
     "user_tz": 180
    },
    "id": "JHaRjEXNn2r_",
    "outputId": "7c7d8d7e-94f2-42f2-f955-71e17aca52c8"
   },
   "outputs": [
    {
     "name": "stdout",
     "output_type": "stream",
     "text": [
      "\u001b[1m16/16\u001b[0m \u001b[32m━━━━━━━━━━━━━━━━━━━━\u001b[0m\u001b[37m\u001b[0m \u001b[1m0s\u001b[0m 1ms/step - loss: 0.0048 - mae: 0.0327 \n"
     ]
    },
    {
     "data": {
      "text/plain": [
       "[0.0016100568464025855, 0.015384125523269176]"
      ]
     },
     "execution_count": 10,
     "metadata": {},
     "output_type": "execute_result"
    }
   ],
   "source": [
    "model.evaluate(x_train, y_train)"
   ]
  }
 ],
 "metadata": {
  "colab": {
   "provenance": [
    {
     "file_id": "1RJKirLkbYK9RnBmeoNdbDj9KqaGSxgMw",
     "timestamp": 1712843183705
    }
   ]
  },
  "kernelspec": {
   "display_name": "Python 3 (ipykernel)",
   "language": "python",
   "name": "python3"
  },
  "language_info": {
   "codemirror_mode": {
    "name": "ipython",
    "version": 3
   },
   "file_extension": ".py",
   "mimetype": "text/x-python",
   "name": "python",
   "nbconvert_exporter": "python",
   "pygments_lexer": "ipython3",
   "version": "3.11.10"
  }
 },
 "nbformat": 4,
 "nbformat_minor": 4
}
